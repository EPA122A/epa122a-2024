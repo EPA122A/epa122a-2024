{
 "cells": [
  {
   "cell_type": "markdown",
   "id": "c565162b",
   "metadata": {},
   "source": [
    "#  EPA-122A *Spatial* Data Science\n",
    "\n",
    "\n",
    "## Homework 4: Networks, Spatial Weights and Exploratory Spatial Data Analysis\n",
    "\n",
    "**TU Delft**<br>\n",
    "**Q2 2024**<br>\n",
    "**Instructors:** Giacomo Marangoni, Theodoros Chatzivasileiadis <br>\n",
    "\n",
    "---\n"
   ]
  },
  {
   "cell_type": "markdown",
   "id": "b8441423",
   "metadata": {},
   "source": [
    "## Exercise 1: Street Networks\n",
    "\n",
    "Choose a city or town that you are interested, and follow the steps using OSMnx. Please do not use the area that appeared in lab-05. More about OSMnx from the creator Geoff Boeing directly: https://github.com/gboeing/osmnx\n",
    "\n",
    "1. Get shapefiles of your interested area from OpenStreetMap\n",
    "1. Download and construct street networks (using one of six methods that introduced in lab 5)\n",
    "1. Highlight all the one-way edges in your area network\n",
    "1. Get the shortest path of two random points or your points of interset and show it on the figure"
   ]
  },
  {
   "cell_type": "markdown",
   "id": "72cdb35a",
   "metadata": {
    "lines_to_next_cell": 2
   },
   "source": [
    "your code here"
   ]
  },
  {
   "cell_type": "markdown",
   "id": "eab9f9b8",
   "metadata": {},
   "source": [
    "## Exercise 2: Spatial weights\n",
    "\n",
    "Collect the data of your interested city with a corresponding shapefile.\n",
    "- Select one area and its neighbours of the city and visualise into a plot. Make sure you highlight the area and neighbours with different colour.\n",
    "- Identify the neighbours that are located within 1 km of a selected area and visualise them on a plot\n",
    "- Create the Moran Plot with your data to explore the spatial correlation of selected region.\n",
    "\n",
    "---\n",
    "- **(Stretch Goal)** Create a choropleths map using shapefile and data to display region-specific information"
   ]
  },
  {
   "cell_type": "markdown",
   "id": "60dece71",
   "metadata": {
    "lines_to_next_cell": 2
   },
   "source": [
    "your code here"
   ]
  },
  {
   "cell_type": "markdown",
   "id": "ffb3ad26",
   "metadata": {},
   "source": [
    "## Exercise 3: Spatial Autocorrelation and ESDA"
   ]
  },
  {
   "cell_type": "markdown",
   "id": "7a0520c2",
   "metadata": {},
   "source": [
    "Replicate the analysis of ``lab-05-advanced`` for the Liverpool IMD data we have been using in previous sessions. This will require you to:\n",
    "\n",
    "* Load up the IMD dataset for Liverpool.\n",
    "* Create a choropleth of the `imd_score` variable.\n",
    "* Compute the spatial weights matrix for the LSOAs. Think of one criterium to build it that you think would fit this variable (e.g. contiguity, distance-based, etc.), and apply it.\n",
    "* Create the standardized version of the IMD scores.\n",
    "* Calculate the spatial lag of the standardized scores.\n",
    "* Create the Moran Plot.\n",
    "* Calculate the value of Moran's I as well as its significance level.\n",
    "* Perform a LISA analysis and generate a map of the results. What are the main patterns?"
   ]
  },
  {
   "cell_type": "markdown",
   "id": "c01f705e",
   "metadata": {},
   "source": [
    "your code here"
   ]
  }
 ],
 "metadata": {
  "kernelspec": {
   "display_name": "Python 3 (ipykernel)",
   "language": "python",
   "name": "python3"
  }
 },
 "nbformat": 4,
 "nbformat_minor": 5
}
