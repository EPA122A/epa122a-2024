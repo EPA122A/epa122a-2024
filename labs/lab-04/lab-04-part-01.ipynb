{
 "cells": [
  {
   "cell_type": "markdown",
   "id": "47597fe4",
   "metadata": {},
   "source": [
    "#  EPA-122A *Spatial* Data Science\n",
    "\n",
    "\n",
    "## Lab 4 - Part 1: Networks and Spatial Weights\n",
    "\n",
    "**TU Delft**<br>\n",
    "**Q2 2024**<br>\n",
    "**Instructors:** Giacomo Marangoni, Theodoros Chatzivasileiadis <br>\n",
    "\n",
    "---\n"
   ]
  },
  {
   "cell_type": "markdown",
   "id": "120da345",
   "metadata": {},
   "source": [
    "## Table of Contents\n",
    "\n",
    "* [Learning Goals](#chapter0)\n",
    "* [Street Networks](#chapter1)\n",
    "    * [Overview demonstration of OSMnx](#section1_1)\n",
    "    * [Get shapefiles from OpenStreetMap](#section1_2)\n",
    "    * [Download and construct street networks](#section1_3)\n",
    "        * [Method 1: Pass a bounding box](#section1_3_1)\n",
    "        * [Method 2: Pass a lat-long point and bounding box distance in meters](#section1_3_2)\n",
    "        * [Method 3: Pass a (lat,lon) point and network distance in meters ](#section1_3_3)\n",
    "        * [Method 4: Pass an address and distance (bounding box or network) in meters](#section1_3_4)\n",
    "        * [Method 5: Pass a place name](#section1_3_5)\n",
    "    * [Simlifying street network topography](#section1_4)\n",
    "    * [Saving networks to disk](#section1_5)\n",
    "    * [Calculate basic network metrics](#section1_6)\n",
    "* [Use OSMnx to create and analyze a NetworkX street network](#chapter2)\n",
    "    * [Calculate basic (and more advanced) street network metrics](#section2_1)\n",
    "    * [Inside a Networkx graph](#section2_2)\n",
    "* [Spatial Weights](#chapter3)\n",
    "    * [Data](#section3_1)\n",
    "    * [Building spatial weights in PySAL](#section3_2)\n",
    "        * [Contiguity](#section3_2_1)\n",
    "        * [Distance](#section3_2_2)\n",
    "        * [Block weights](#section3_2_2)\n",
    "    * [Standardizing `W` matrices](#section3_3)\n",
    "    * [Reading and Writing spatial weights in `PySAL`](#section3_4)\n",
    "    * [Spatial Lag](#section3_5)\n",
    "    * [Moran Plot](#section3_6)\n"
   ]
  },
  {
   "cell_type": "markdown",
   "id": "006ad1dc",
   "metadata": {},
   "source": [
    "## Learning Goals <a class=\"anchor\" id=\"chapter0\"></a>\n",
    "\n",
    "1. Understand how to use OSMnx and create visualisations of street networks using it.\n",
    "1. Develop an understanding of the different methods that can be used to construct networks.\n",
    "1. Understand the concept of spatial weights & spatial lag and use the same to create a Moran plot.\n"
   ]
  },
  {
   "cell_type": "markdown",
   "id": "3d696113",
   "metadata": {},
   "source": [
    "## Street Networks <a class=\"anchor\" id=\"chapter1\"></a>"
   ]
  },
  {
   "cell_type": "markdown",
   "id": "4c23318f",
   "metadata": {
    "editable": true
   },
   "source": [
    "### Overview demonstration of OSMnx <a class=\"anchor\" id=\"section1_1\"></a>\n",
    "\n",
    "OSMnx is a Python library that lets you download spatial geometries and construct, project, and visualize street networks from OpenStreetMap's API. More about OSMnx from the creator Geoff Boeing directly: https://github.com/gboeing/osmnx\n",
    "\n",
    "It is already within the installation file or the docker image that you used at the beginning of the course. If you are following a third way, you can install it as follows.\n",
    "\n",
    "Note: If you wish to revisit the section on APIs, you can find it in Lab 1."
   ]
  },
  {
   "cell_type": "code",
   "execution_count": null,
   "id": "c95cfc1e",
   "metadata": {
    "editable": true,
    "jupyter": {
     "outputs_hidden": false
    },
    "lines_to_next_cell": 2
   },
   "outputs": [],
   "source": [
    "import osmnx as ox, geopandas as gpd\n",
    "import pandas as pd\n",
    "import matplotlib\n",
    "\n",
    "%matplotlib inline\n",
    "ox.settings.log_console = True\n",
    "ox.settings.use_cache = True"
   ]
  },
  {
   "cell_type": "markdown",
   "id": "54c33cb7",
   "metadata": {
    "editable": true
   },
   "source": [
    "### Get shapefiles from OpenStreetMap <a class=\"anchor\" id=\"section1_2\"></a>\n",
    "\n",
    "OSMnx lets you download spatial \"place boundary\" geometries from OpenStreetMap, save them to shapefiles, project them, and plot them. For a more in-depth demonstration of creating these shapefiles, see [OSMnx examples](https://github.com/gboeing/osmnx)."
   ]
  },
  {
   "cell_type": "code",
   "execution_count": null,
   "id": "d757efe4",
   "metadata": {},
   "outputs": [],
   "source": [
    "gdf = ox.geocode_to_gdf(\"Manhattan, New York, NY, USA\")\n",
    "# gdf = gdf.append(_geocode_query_to_gdf('Manhattan, New York, NY, USA'))\n",
    "area = ox.projection.project_gdf(gdf)\n",
    "fig, ax = ox.plot_footprints(area)"
   ]
  },
  {
   "cell_type": "code",
   "execution_count": null,
   "id": "70aabb83",
   "metadata": {
    "editable": true,
    "jupyter": {
     "outputs_hidden": false
    }
   },
   "outputs": [],
   "source": [
    "# get the boundary polygons for multiple cities, save as shapefile, project to UTM, and plot\n",
    "place_names = [\n",
    "    \"Berkeley, California, USA\",\n",
    "    \"Oakland, California, USA\",\n",
    "    \"Piedmont, California, USA\",\n",
    "    \"Emeryville, California, USA\",\n",
    "    \"Alameda, Alameda County, CA, USA\",\n",
    "]\n",
    "east_bay = ox.geocode_to_gdf(place_names)\n",
    "# ox.save_gdf_shapefile(east_bay)\n",
    "east_bay = ox.projection.project_gdf(east_bay)\n",
    "fig, ax = ox.plot_footprints(east_bay)"
   ]
  },
  {
   "cell_type": "code",
   "execution_count": null,
   "id": "0edfb6ee",
   "metadata": {
    "editable": true,
    "jupyter": {
     "outputs_hidden": false
    }
   },
   "outputs": [],
   "source": [
    "# or get shapes of boroughs, counties, states, countries - anything OpenStreetMap has boundary geometry for\n",
    "country = ox.geocode_to_gdf(\"Zimbabwe\")\n",
    "country = ox.projection.project_gdf(country)\n",
    "fig, ax = ox.plot_footprints(country)"
   ]
  },
  {
   "cell_type": "markdown",
   "id": "617f13dd",
   "metadata": {
    "editable": true
   },
   "source": [
    "### Download and construct street networks <a class=\"anchor\" id=\"section1_3\"></a>\n",
    "\n",
    "OSMnx lets you download street network data and build topologically-corrected street networks, project and plot the networks, and save the street network as SVGs, GraphML files, or shapefiles for later use. The street networks are directed and preserve one-way directionality. For a more in-depth demonstration of creating street networks, see [OSMnx examples](https://github.com/gboeing/osmnx).\n",
    "\n",
    "You can download a street network by providing OSMnx any of the following (demonstrated in the examples below):\n",
    "  - a bounding box\n",
    "  - a lat-long point plus a distance\n",
    "  - an address plus a distance\n",
    "  - a place name or list of place names (to automatically geocode and get the boundary of)\n",
    "  - a polygon of the desired street network's boundaries\n",
    "\n",
    "You can also specify several different network types:\n",
    "  - 'drive' - get drivable public streets (but not service roads)\n",
    "  - 'drive_service' - get drivable streets, including service roads\n",
    "  - 'walk' - get all streets and paths that pedestrians can use (this network type ignores one-way directionality)\n",
    "  - 'bike' - get all streets and paths that cyclists can use\n",
    "  - 'all' - download all non-private OSM streets and paths (this is the default network type unless you specify a different one)\n",
    "  - 'all_private' - download all OSM streets and paths, including private-access ones"
   ]
  },
  {
   "cell_type": "markdown",
   "id": "cfdd7bc4",
   "metadata": {
    "editable": true
   },
   "source": [
    " #### Method 1: Pass a bounding box<a class=\"anchor\" id=\"section1_3_1\"></a>\n",
    " This constructs the network from all the OSM nodes and ways within the bounding box."
   ]
  },
  {
   "cell_type": "code",
   "execution_count": null,
   "id": "065990e7",
   "metadata": {
    "editable": true,
    "jupyter": {
     "outputs_hidden": false
    }
   },
   "outputs": [],
   "source": [
    "# define a bounding box in San Francisco\n",
    "north, south, east, west = 37.79, 37.78, -122.41, -122.43\n",
    "bbox = (west, south, east, north)  # (left, bottom, right, top)\n",
    "\n",
    "# Create the graph from the bounding box\n",
    "G1 = ox.graph.graph_from_bbox(north, south, east, west, network_type=\"drive_service\")\n",
    "G1 = ox.project_graph(G1)\n",
    "fig, ax = ox.plot_graph(G1)"
   ]
  },
  {
   "cell_type": "markdown",
   "id": "26c64224",
   "metadata": {
    "editable": true
   },
   "source": [
    "#### Method 2: Pass a lat-long point and bounding box distance in meters <a class=\"anchor\" id=\"section1_3_2\"></a>\n",
    "This creates a bounding box *n* meters North, South, East, and West of the point, then constructs the network from all the OSM nodes and ways within the bounding box."
   ]
  },
  {
   "cell_type": "code",
   "execution_count": null,
   "id": "392dd40f",
   "metadata": {
    "editable": true,
    "jupyter": {
     "outputs_hidden": false
    }
   },
   "outputs": [],
   "source": [
    "# define a point at the corner of California St and Mason St in SF\n",
    "location_point = (37.791427, -122.410018)\n",
    "\n",
    "# create network from point, inside bounding box of N, S, E, W each 750m from point\n",
    "G2 = ox.graph_from_point(\n",
    "    location_point, dist=750, dist_type=\"bbox\", network_type=\"drive\"\n",
    ")\n",
    "G2 = ox.project_graph(G2)\n",
    "fig, ax = ox.plot_graph(G2, node_size=30, node_color=\"#66cc66\")"
   ]
  },
  {
   "cell_type": "markdown",
   "id": "bcbd7ab9",
   "metadata": {
    "editable": true
   },
   "source": [
    "#### Method 3: Pass a (lat,lon) point and *network* distance in meters <a class=\"anchor\" id=\"section1_3_3\"></a>\n",
    "\n",
    "This creates a bounding box *n* meters North, South, East, and West of the point, then constructs the network from all the OSM nodes and ways within the bounding box. Then it prunes the network by removing all nodes further than *n* meters from the point along the network."
   ]
  },
  {
   "cell_type": "code",
   "execution_count": null,
   "id": "363fc982",
   "metadata": {
    "editable": true,
    "jupyter": {
     "outputs_hidden": false
    }
   },
   "outputs": [],
   "source": [
    "# same point again, but create network only of nodes within 500m along the network from point\n",
    "G3 = ox.graph_from_point(location_point, dist=500, dist_type=\"network\")\n",
    "G3 = ox.project_graph(G3)\n",
    "fig, ax = ox.plot_graph(G3)"
   ]
  },
  {
   "cell_type": "markdown",
   "id": "320f4dd8",
   "metadata": {
    "editable": true
   },
   "source": [
    "*Note* the plot above shows the network within 500m (traveling distance along the network) from the `location_point`. By default, the `network_type` parameter value is 'all', meaning that we do not filter out paths that restrict certain types of traffic. This also means that one-way streets are honored as one-way and you cannot travel the wrong direction down them. Thus, the 500m takes into account only those nodes you can reach within 500m while only traveling in the allowed direction of the street. Instead (below), we can specify `network_type='walk'` to build a street network only of paths that walking is allowed on. This also makes every path bi-directional in the directed network, because you can walk in either direction on the sidewalk of a one-way street. Thus, the 500m now takes into account those nodes you can reach within 500m while traveling in either direction (even if it's a one-way street)."
   ]
  },
  {
   "cell_type": "code",
   "execution_count": null,
   "id": "71303be5",
   "metadata": {
    "editable": true,
    "jupyter": {
     "outputs_hidden": false
    }
   },
   "outputs": [],
   "source": [
    "# create network only of nodes within 500m walking along the network from point\n",
    "G3 = ox.graph_from_point(\n",
    "    location_point, dist=500, dist_type=\"network\", network_type=\"walk\"\n",
    ")\n",
    "G3 = ox.project_graph(G3)\n",
    "fig, ax = ox.plot_graph(G3)"
   ]
  },
  {
   "cell_type": "markdown",
   "id": "6db2fc31",
   "metadata": {
    "editable": true
   },
   "source": [
    "#### Method 4: Pass an address and distance (*bounding box* or *network*) in meters <a class=\"anchor\" id=\"section1_3_4\"></a>\n",
    "This geocodes the address, creates a bounding box, downloads the network, then prunes it by network distance (if distance_type='network')."
   ]
  },
  {
   "cell_type": "code",
   "execution_count": null,
   "id": "dd20d553",
   "metadata": {
    "editable": true,
    "jupyter": {
     "outputs_hidden": false
    }
   },
   "outputs": [],
   "source": [
    "# network from address, including only nodes within 1km along the network from the address\n",
    "G4 = ox.graph_from_address(\n",
    "    address=\"350 5th Ave, New York, NY\",\n",
    "    dist=1000,\n",
    "    dist_type=\"network\",\n",
    "    network_type=\"drive\",\n",
    ")\n",
    "\n",
    "# you can project the network to UTM (zone calculated automatically)\n",
    "G4_projected = ox.project_graph(G4)\n",
    "fig, ax = ox.plot_graph(G4_projected)"
   ]
  },
  {
   "cell_type": "markdown",
   "id": "ea5793c7",
   "metadata": {
    "editable": true
   },
   "source": [
    "#### Method 5: Pass a place name <a class=\"anchor\" id=\"section1_3_5\"></a>\n",
    "\n",
    "This geocodes the place name, gets the place's boundary shape polygon and bounding box, downloads the network within the bounding box, then prunes all nodes that lie outside the place's boundary polygon."
   ]
  },
  {
   "cell_type": "code",
   "execution_count": null,
   "id": "43cfa476",
   "metadata": {
    "editable": true,
    "jupyter": {
     "outputs_hidden": false
    }
   },
   "outputs": [],
   "source": [
    "# create the street network within the city of Piedmont's borders\n",
    "G5 = ox.graph_from_place(\"Piedmont, California, USA\", network_type=\"walk\")\n",
    "G5_projected = ox.project_graph(G5)\n",
    "fig, ax = ox.plot_graph(G5_projected)"
   ]
  },
  {
   "cell_type": "code",
   "execution_count": null,
   "id": "e09d2362",
   "metadata": {
    "editable": true,
    "jupyter": {
     "outputs_hidden": false
    }
   },
   "outputs": [],
   "source": [
    "# create the street network within Manhattan\n",
    "G5 = ox.graph_from_place(\"Manhattan, New York, NY, USA\", network_type=\"drive\")\n",
    "G5_projected = ox.project_graph(G5)\n",
    "fig, ax = ox.plot_graph(G5_projected, figsize=(10, 10), node_size=0, edge_linewidth=0.5)"
   ]
  },
  {
   "cell_type": "code",
   "execution_count": null,
   "id": "f8a73691",
   "metadata": {
    "editable": true,
    "jupyter": {
     "outputs_hidden": false
    }
   },
   "outputs": [],
   "source": [
    "# you can also pass multiple places as a mixed list of strings and/or structured queries\n",
    "places = [\n",
    "    \"Los Altos, California, USA\",\n",
    "    {\"city\": \"Los Altos Hills\", \"state\": \"California\"},\n",
    "    \"Loyola, California\",\n",
    "]\n",
    "G5 = ox.graph_from_place(places)\n",
    "G5_projected = ox.project_graph(G5)\n",
    "fig, ax = ox.plot_graph(\n",
    "    G5_projected, figsize=(6, 6), node_alpha=0.3, edge_linewidth=0.5\n",
    ")\n",
    "ox.save_graph_geopackage(G5, \"silicon-valley\")"
   ]
  },
  {
   "cell_type": "markdown",
   "id": "fc3f33b1",
   "metadata": {
    "editable": true
   },
   "source": [
    "### Simplifying street network topology <a class=\"anchor\" id=\"section1_4\"></a>\n",
    "\n",
    "Simplification is normally done by OSMnx automatically under the hood, but we can break it out to see how it works. OpenStreetMap nodes are weird. They include intersections, but they also include all the points along a single block where the street curves. The latter are not nodes in the graph theory sense, so we remove them algorithmically and consolidate the set of edges between \"true\" network nodes into a single edge. There are two simplification modes, strict and non-strict. The main difference is that unlike strict mode, non-strict mode allows simplification to an \"expansion graph\" (ie, if the graph were undirected, nodes with degree 2 as long as the incident edges have different OSM IDs). For a more in-depth demonstration of topological simplification with OSMnx, see [OSMnx examples](https://github.com/gboeing/osmnx)."
   ]
  },
  {
   "cell_type": "code",
   "execution_count": null,
   "id": "cdd2549f",
   "metadata": {
    "editable": true
   },
   "outputs": [],
   "source": [
    "# create a network around some (lat, lon) point but do not simplify it yet\n",
    "location_point = (33.299896, -111.831638)\n",
    "G = ox.graph_from_point(location_point, dist=500, simplify=False)"
   ]
  },
  {
   "cell_type": "code",
   "execution_count": null,
   "id": "f110af74",
   "metadata": {
    "editable": true,
    "jupyter": {
     "outputs_hidden": false
    }
   },
   "outputs": [],
   "source": [
    "# turn off strict mode and see what nodes we'd remove, in red\n",
    "nc = [\"b\" if ox.simplification._is_endpoint(G, node, None) else \"r\" for node in G.nodes()]\n",
    "fig, ax = ox.plot_graph(G, node_color=nc, node_zorder=3, bgcolor=\"#FFFFFF\")"
   ]
  },
  {
   "cell_type": "markdown",
   "id": "f1a82e2a",
   "metadata": {
    "editable": true
   },
   "source": [
    "The red and blue dots above are OSM nodes. We'll remove the nodes in red as they're not real network nodes."
   ]
  },
  {
   "cell_type": "code",
   "execution_count": null,
   "id": "56bf4936",
   "metadata": {
    "editable": true,
    "jupyter": {
     "outputs_hidden": false
    }
   },
   "outputs": [],
   "source": [
    "# simplify the network\n",
    "G = ox.simplify_graph(G)\n",
    "fig, ax = ox.plot_graph(G, node_color=\"b\", node_zorder=3, bgcolor=\"#FFFFFF\")"
   ]
  },
  {
   "cell_type": "code",
   "execution_count": null,
   "id": "215ba814",
   "metadata": {
    "editable": true,
    "jupyter": {
     "outputs_hidden": false
    }
   },
   "outputs": [],
   "source": [
    "# show the simplified network with edges colored by edge length\n",
    "ec = ox.plot.get_edge_colors_by_attr(G, attr=\"length\")\n",
    "fig, ax = ox.plot_graph(\n",
    "    G,\n",
    "    node_color=\"w\",\n",
    "    node_edgecolor=\"k\",\n",
    "    node_size=30,\n",
    "    node_zorder=3,\n",
    "    edge_color=ec,\n",
    "    edge_linewidth=3,\n",
    "    bgcolor=\"#FFFFFF\",\n",
    ")"
   ]
  },
  {
   "cell_type": "code",
   "execution_count": null,
   "id": "85b1d67a",
   "metadata": {
    "editable": true,
    "jupyter": {
     "outputs_hidden": false
    }
   },
   "outputs": [],
   "source": [
    "# highlight all parallel edges in purple\n",
    "ec = [\"orange\" if key == 0 else \"purple\" for u, v, key in G.edges(keys=True)]\n",
    "fig, ax = ox.plot_graph(\n",
    "    G,\n",
    "    node_color=\"w\",\n",
    "    node_edgecolor=\"k\",\n",
    "    node_size=30,\n",
    "    node_zorder=3,\n",
    "    edge_color=ec,\n",
    "    edge_linewidth=3,\n",
    "    bgcolor=\"#FFFFFF\",\n",
    ")"
   ]
  },
  {
   "cell_type": "code",
   "execution_count": null,
   "id": "63076ece",
   "metadata": {
    "editable": true,
    "jupyter": {
     "outputs_hidden": false
    }
   },
   "outputs": [],
   "source": [
    "# highlight all the one-way edges in the mission district network from earlier\n",
    "ec = [\n",
    "    \"r\" if data[\"oneway\"] else \"b\" for u, v, key, data in G.edges(keys=True, data=True)\n",
    "]\n",
    "fig, ax = ox.plot_graph(\n",
    "    G, node_size=0, edge_color=ec, edge_linewidth=1.5, edge_alpha=0.5, bgcolor=\"#FFFFFF\"\n",
    ")"
   ]
  },
  {
   "cell_type": "markdown",
   "id": "baad1d8e",
   "metadata": {
    "editable": true
   },
   "source": [
    "### Saving networks to disk <a class=\"anchor\" id=\"section1_5\"></a>\n",
    "\n",
    "For more examples of saving and loading networks to/from disk, see [OSMnx examples](https://github.com/gboeing/osmnx)."
   ]
  },
  {
   "cell_type": "code",
   "execution_count": null,
   "id": "c2747546",
   "metadata": {
    "editable": true
   },
   "outputs": [],
   "source": [
    "# save street network as ESRI shapefile to work with in GIS\n",
    "ox.save_graph_geopackage(G, \"network-shape\")"
   ]
  },
  {
   "cell_type": "code",
   "execution_count": null,
   "id": "c15bec64",
   "metadata": {
    "editable": true,
    "jupyter": {
     "outputs_hidden": false
    }
   },
   "outputs": [],
   "source": [
    "# save street network as GraphML file to work with in networkx or gephi\n",
    "ox.save_graphml(G, \"network.graphml\")"
   ]
  },
  {
   "cell_type": "code",
   "execution_count": null,
   "id": "11070803",
   "metadata": {
    "editable": true,
    "jupyter": {
     "outputs_hidden": false
    }
   },
   "outputs": [],
   "source": [
    "# save street network as SVG to work with in Adobe Illustrator\n",
    "fig, ax = ox.plot_graph(G, show=False, save=True, close=True, filepath=\"./network.svg\")"
   ]
  },
  {
   "cell_type": "code",
   "execution_count": null,
   "id": "dc304c3e",
   "metadata": {
    "editable": true,
    "jupyter": {
     "outputs_hidden": false
    }
   },
   "outputs": [],
   "source": [
    "# get one of each network type and save to disk as image and shapefile\n",
    "for nt in [\"all_private\", \"all\", \"bike\", \"walk\", \"drive\", \"drive_service\"]:\n",
    "    G = ox.graph_from_address(\"N Sicily Pl, Chandler, AZ\", network_type=nt, dist=1500)\n",
    "    filename = \"az-{}\".format(nt)\n",
    "    fig, ax = ox.plot_graph(\n",
    "        G,\n",
    "        node_color=\"none\",\n",
    "        save=True,\n",
    "        filepath=filename + \".png\",\n",
    "        show=False,\n",
    "        close=True,\n",
    "    )"
   ]
  },
  {
   "cell_type": "markdown",
   "id": "d6552b01",
   "metadata": {
    "editable": true
   },
   "source": [
    "For examples of working with these street networks in networkx, see [OSMnx examples](https://github.com/gboeing/osmnx)."
   ]
  },
  {
   "cell_type": "markdown",
   "id": "c9656427",
   "metadata": {
    "editable": true
   },
   "source": [
    "### Calculate basic network metrics <a class=\"anchor\" id=\"section1_6\"></a>"
   ]
  },
  {
   "cell_type": "code",
   "execution_count": null,
   "id": "074ce071",
   "metadata": {
    "editable": true,
    "jupyter": {
     "outputs_hidden": false
    }
   },
   "outputs": [],
   "source": [
    "# calculate basic street network metrics and display average circuity\n",
    "stats = ox.basic_stats(G)\n",
    "stats[\"circuity_avg\"]"
   ]
  },
  {
   "cell_type": "markdown",
   "id": "716a791c",
   "metadata": {
    "editable": true
   },
   "source": [
    "## Use OSMnx to create and analyze a NetworkX street network <a class=\"anchor\" id=\"chapter2\"></a>\n"
   ]
  },
  {
   "cell_type": "markdown",
   "id": "79710470",
   "metadata": {
    "editable": true
   },
   "source": [
    "### Calculate basic (and more advanced) street network metrics <a class=\"anchor\" id=\"section2_1\"></a>"
   ]
  },
  {
   "cell_type": "code",
   "execution_count": null,
   "id": "a8694b16",
   "metadata": {
    "editable": true,
    "jupyter": {
     "outputs_hidden": false
    }
   },
   "outputs": [],
   "source": [
    "# get the network for Piedmont, calculate its basic stats, then show the average circuity\n",
    "stats = ox.basic_stats(\n",
    "    ox.graph_from_place(\"Piedmont, California, USA\", network_type=\"drive_service\")\n",
    ")"
   ]
  },
  {
   "cell_type": "code",
   "execution_count": null,
   "id": "01c4d2f5",
   "metadata": {
    "editable": true,
    "jupyter": {
     "outputs_hidden": false
    }
   },
   "outputs": [],
   "source": [
    "stats"
   ]
  },
  {
   "cell_type": "code",
   "execution_count": null,
   "id": "6b11a3cf",
   "metadata": {
    "editable": true,
    "jupyter": {
     "outputs_hidden": false
    }
   },
   "outputs": [],
   "source": [
    "stats[\"circuity_avg\"]"
   ]
  },
  {
   "cell_type": "markdown",
   "id": "68e7a730",
   "metadata": {
    "editable": true
   },
   "source": [
    "To calculate density-based metrics, you must also pass the network's bounding area in square meters (otherwise `basic_stats()` will just skip them in the calculation):"
   ]
  },
  {
   "cell_type": "code",
   "execution_count": null,
   "id": "e33c7e85",
   "metadata": {
    "editable": true,
    "jupyter": {
     "outputs_hidden": false
    }
   },
   "outputs": [],
   "source": [
    "# get the street network for a place, and its area in square meters (by projecting)\n",
    "place = \"Piedmont, California, USA\"\n",
    "gdf = ox.geocode_to_gdf(place)\n",
    "area = ox.projection.project_gdf(gdf).unary_union.area\n",
    "G = ox.graph_from_place(place, network_type=\"drive_service\")"
   ]
  },
  {
   "cell_type": "code",
   "execution_count": null,
   "id": "8ec0c95f",
   "metadata": {
    "editable": true,
    "jupyter": {
     "outputs_hidden": false
    }
   },
   "outputs": [],
   "source": [
    "# calculate basic and display\n",
    "stats = ox.basic_stats(G, area=area)\n",
    "pd.Series(stats)"
   ]
  },
  {
   "cell_type": "markdown",
   "id": "be15a4e4",
   "metadata": {
    "editable": true
   },
   "source": [
    "Notice that this returns the basic stats as a dict, which we threw into a pandas series. Degree counts and proportions are nested dicts inside it. To convert these stats to a pandas dataframe (to compare/analyze multiple networks against each other), just unpack these nested dicts first:"
   ]
  },
  {
   "cell_type": "code",
   "execution_count": null,
   "id": "497c601b",
   "metadata": {
    "editable": true,
    "jupyter": {
     "outputs_hidden": false
    }
   },
   "outputs": [],
   "source": [
    "# unpack dicts into individiual keys:values\n",
    "stats = ox.basic_stats(G, area=area)\n",
    "for k, count in stats[\"streets_per_node_counts\"].items():\n",
    "    stats[\"int_{}_count\".format(k)] = count\n",
    "for k, proportion in stats[\"streets_per_node_proportions\"].items():\n",
    "    stats[\"int_{}_prop\".format(k)] = proportion\n",
    "\n",
    "# delete the no longer needed dict elements\n",
    "del stats[\"streets_per_node_counts\"]\n",
    "del stats[\"streets_per_node_proportions\"]\n",
    "\n",
    "# load as a pandas dataframe\n",
    "pd.DataFrame(pd.Series(stats)).T"
   ]
  },
  {
   "cell_type": "code",
   "execution_count": null,
   "id": "afdfc7ad",
   "metadata": {
    "editable": true,
    "jupyter": {
     "outputs_hidden": false
    }
   },
   "outputs": [],
   "source": [
    "# proportion of intersections that are cul-de-sacs, T-intersections, and X-intersections?\n",
    "print(stats[\"int_1_prop\"])\n",
    "print(stats[\"int_3_prop\"])\n",
    "print(stats[\"int_4_prop\"])"
   ]
  },
  {
   "cell_type": "code",
   "execution_count": null,
   "id": "9ef80230",
   "metadata": {
    "editable": true
   },
   "outputs": [],
   "source": [
    "# how many streets emanate from each intersection?\n",
    "ox.stats.streets_per_node_counts(G)"
   ]
  },
  {
   "cell_type": "markdown",
   "id": "2ae887bd",
   "metadata": {
    "editable": true
   },
   "source": [
    "### Inside a NetworkX graph <a class=\"anchor\" id=\"section2_2\"></a>"
   ]
  },
  {
   "cell_type": "code",
   "execution_count": null,
   "id": "63f8e4e8",
   "metadata": {
    "editable": true,
    "jupyter": {
     "outputs_hidden": false
    }
   },
   "outputs": [],
   "source": [
    "# nodes\n",
    "list(G.nodes(data=True))[0:2]"
   ]
  },
  {
   "cell_type": "code",
   "execution_count": null,
   "id": "22c1fc2c",
   "metadata": {
    "editable": true,
    "jupyter": {
     "outputs_hidden": false
    }
   },
   "outputs": [],
   "source": [
    "# edges\n",
    "list(G.edges(keys=True, data=True))[0:2]"
   ]
  },
  {
   "cell_type": "code",
   "execution_count": null,
   "id": "254d8a42",
   "metadata": {
    "editable": true,
    "jupyter": {
     "outputs_hidden": false
    }
   },
   "outputs": [],
   "source": [
    "# define origin/desination points then get the nodes nearest to each\n",
    "origin_point = (37.792896, -122.412325)\n",
    "destination_point = (37.790495, -122.408353)\n",
    "origin_node = ox.nearest_nodes(G, 37.792896, -122.412325)\n",
    "destination_node = ox.nearest_nodes(G, 37.790495, -122.408353)\n",
    "origin_node, destination_node"
   ]
  },
  {
   "cell_type": "code",
   "execution_count": null,
   "id": "f37ac297",
   "metadata": {
    "editable": true,
    "jupyter": {
     "outputs_hidden": false
    }
   },
   "outputs": [],
   "source": [
    "# find the shortest path between origin and destination nodes\n",
    "import networkx as nx\n",
    "\n",
    "route = nx.shortest_path(G, origin_node, destination_node, weight=\"length\")\n",
    "str(route)"
   ]
  },
  {
   "cell_type": "code",
   "execution_count": null,
   "id": "4040cc2f",
   "metadata": {
    "editable": true,
    "jupyter": {
     "outputs_hidden": false
    }
   },
   "outputs": [],
   "source": [
    "# plot the route showing origin/destination lat-long points in big size\n",
    "fig, ax = ox.plot_graph_route(G, route, orig_dest_size=800)"
   ]
  },
  {
   "cell_type": "markdown",
   "id": "c3f77c2f",
   "metadata": {},
   "source": [
    "## Spatial weights <a class=\"anchor\" id=\"chapter3\"></a>"
   ]
  },
  {
   "cell_type": "markdown",
   "id": "bfeb966e",
   "metadata": {},
   "source": [
    "In this session we will be learning the ins and outs of one of the key pieces in spatial analysis: spatial weights matrices. These are structured sets of numbers that formalize geographical relationships between the observations in a dataset. Essentially, a spatial weights matrix of a given geography is a positive definite matrix of dimensions $N$ by $N$, where $N$ is the total number of observations:\n",
    "\n",
    "$$\n",
    "W = \\left(\\begin{array}{cccc}\n",
    "0 & w_{12} & \\dots & w_{1N} \\\\\n",
    "w_{21} & \\ddots & w_{ij} & \\vdots \\\\\n",
    "\\vdots & w_{ji} & 0 & \\vdots \\\\\n",
    "w_{N1} & \\dots & \\dots & 0\n",
    "\\end{array} \\right)\n",
    "$$\n",
    "\n",
    "where each cell $w_{ij}$ contains a value that represents the degree of spatial contact or interaction between observations $i$ and $j$. A fundamental concept in this context is that of *neighbor* and *neighborhood*. By convention, elements in the diagonal ($w_{ij}$) are set to zero. A *neighbor* of a given observation $i$ is another observation with which $i$ has some degree of connection. In terms of $W$, $i$ and $j$ are thus neighbors if $w_{ij} > 0$. Following this logic, the neighborhood of $i$ will be the set of observations in the system with which it has certain connection, or those observations with a weight greater than zero.\n",
    "\n",
    "There are several ways to create such matrices, and many more to transform them so they contain an accurate representation that aligns with the way we understand spatial interactions between the elements of a system. In this session, we will introduce the most commonly used ones and will show how to compute them with `PySAL`."
   ]
  },
  {
   "cell_type": "code",
   "execution_count": null,
   "id": "e572298a",
   "metadata": {},
   "outputs": [],
   "source": [
    "%matplotlib inline\n",
    "\n",
    "import seaborn as sns\n",
    "import pandas as pd\n",
    "import pysal as ps\n",
    "from pysal.lib import weights\n",
    "from libpysal.io import open as psopen\n",
    "import geopandas as gpd\n",
    "import numpy as np\n",
    "import matplotlib.pyplot as plt"
   ]
  },
  {
   "cell_type": "markdown",
   "id": "fcfe0e4e",
   "metadata": {},
   "source": [
    "### Data <a class=\"anchor\" id=\"section3_1\"></a>\n",
    "\n",
    "For this tutorial, we will use again the recently released 2015 Index of Multiple Deprivation (IMD) for England and Wales. This dataset can be most easily downloaded from the CDRC data store ([link](https://data.cdrc.ac.uk/dataset/cdrc-english-indices-of-deprivation-2015-geodata-pack-liverpool-e08000012)) and, since it already comes both in tabular as well as spatial data format (shapefile), it does not need merging or joining to additional geometries.\n",
    "\n",
    "In addition, we will be using the lookup between LSOAs and Medium Super Output Areas (MSOAs), which can be downloaded on this [link](http://www.ons.gov.uk/ons/external-links/social-media/g-m/2011-oas-to-2011-lower-layer-super-output-areas--lsoas---middle-layer-super-output-areas--msoa--and-lads.html). This connects each LSOA polygon to the MSOA they belong to. MSOAs are a coarser geographic delineation from the Office of National Statistics (ONS), within which LSOAs are nested. That is, no LSOA boundary crosses any of an MSOA.\n",
    "\n",
    "As usual, let us set the paths to the folders containing the files before anything so we can then focus on data analysis exclusively (keep in mind the specific paths will probably be different for your computer):"
   ]
  },
  {
   "cell_type": "code",
   "execution_count": null,
   "id": "1ac36012",
   "metadata": {},
   "outputs": [],
   "source": [
    "# This will be different on your computer and will depend on where\n",
    "# you have downloaded the files\n",
    "imd_shp = \"data/IMD/lab04_imd.shp\"\n",
    "lookup_path = \"data/IMD/OAs/\""
   ]
  },
  {
   "cell_type": "markdown",
   "id": "df3bdc7d",
   "metadata": {},
   "source": [
    "Let us load the IMD data first:"
   ]
  },
  {
   "cell_type": "code",
   "execution_count": null,
   "id": "6f8a2714",
   "metadata": {},
   "outputs": [],
   "source": [
    "# Read the file in\n",
    "imd = gpd.read_file(imd_shp)\n",
    "\n",
    "# imd_shp = imd_shp.set_index('LSOA11CD')\n",
    "# Display summary\n",
    "imd.info()\n",
    "imd.plot()"
   ]
  },
  {
   "cell_type": "markdown",
   "id": "bab5cded",
   "metadata": {},
   "source": [
    "### Building spatial weights in `PySAL` <a class=\"anchor\" id=\"section3_2\"></a>"
   ]
  },
  {
   "cell_type": "markdown",
   "id": "51ffd063",
   "metadata": {},
   "source": [
    "#### Contiguity <a class=\"anchor\" id=\"section3_2_1\"></a>\n",
    "\n",
    "Contiguity weights matrices define spatial connections through the existence of common boundaries. This makes it directly suitable to use with polygons: if two polygons share boundaries to some degree, they will be labeled as neighbors under these kinds of weights. Exactly how much they need to share is what differenciates the two approaches we will learn: queen and rook."
   ]
  },
  {
   "cell_type": "markdown",
   "id": "1db36078",
   "metadata": {},
   "source": [
    "* **Queen**\n",
    "\n",
    "Under the queen criteria, two observations only need to share a vortex (a single point) of their boundaries to be considered neighbors. Constructing a weights matrix under these principles can be done by running:"
   ]
  },
  {
   "cell_type": "code",
   "execution_count": null,
   "id": "104f5b2c",
   "metadata": {},
   "outputs": [],
   "source": [
    "w_queen = weights.Queen.from_dataframe(imd, ids=\"lsoa11cd\")\n",
    "w_queen"
   ]
  },
  {
   "cell_type": "markdown",
   "id": "8d7ddca1",
   "metadata": {},
   "source": [
    "The command above creates an object `w_queen` of the class `W`. This is the format in which spatial weights matrices are stored in `PySAL`. By default, the weights builder (`Queen.from_dataframe`) will use the index of the table, which is useful so we can keep everything in line easily.\n",
    "\n",
    "A `W` object can be queried to find out about the contiguity relations it contains. For example, if we would like to know who is a neighbor of observation `E01006690`:"
   ]
  },
  {
   "cell_type": "code",
   "execution_count": null,
   "id": "118fd3ce",
   "metadata": {},
   "outputs": [],
   "source": [
    "w_queen[\"E01006690\"]"
   ]
  },
  {
   "cell_type": "markdown",
   "id": "7c8d1236",
   "metadata": {},
   "source": [
    "This returns a Python dictionary that contains the ID codes of each neighbor as keys, and the weights they are assigned as values. Since we are looking at a raw queen contiguity matrix, every neighbor gets a weight of one. If we want to access the weight of a specific neighbor, `E01006691` for example, we can do recursive querying:"
   ]
  },
  {
   "cell_type": "code",
   "execution_count": null,
   "id": "4e28fb86",
   "metadata": {},
   "outputs": [],
   "source": [
    "w_queen[\"E01006690\"][\"E01006691\"]"
   ]
  },
  {
   "cell_type": "markdown",
   "id": "72e1a8e7",
   "metadata": {},
   "source": [
    "`W` objects also have a direct way to provide a list of all the neighbors or their weights for a given observation. This is thanks to the `neighbors` and `weights` attributes:"
   ]
  },
  {
   "cell_type": "code",
   "execution_count": null,
   "id": "155f6c3c",
   "metadata": {},
   "outputs": [],
   "source": [
    "w_queen.neighbors[\"E01006690\"]"
   ]
  },
  {
   "cell_type": "code",
   "execution_count": null,
   "id": "1f1209e1",
   "metadata": {},
   "outputs": [],
   "source": [
    "w_queen.weights[\"E01006690\"]"
   ]
  },
  {
   "cell_type": "markdown",
   "id": "1bb75643",
   "metadata": {},
   "source": [
    "Once created, `W` objects can provide much information about the matrix, beyond the basic attributes one would expect. We have direct access to the number of neighbors each observation has via the attribute `cardinalities`. For example, to find out how many neighbors observation `E01006524` has:"
   ]
  },
  {
   "cell_type": "code",
   "execution_count": null,
   "id": "1b13878f",
   "metadata": {},
   "outputs": [],
   "source": [
    "w_queen.cardinalities[\"E01006524\"]"
   ]
  },
  {
   "cell_type": "markdown",
   "id": "eac22a33",
   "metadata": {},
   "source": [
    "Since `cardinalities` is a dictionary, it is direct to convert it into a `Series` object:"
   ]
  },
  {
   "cell_type": "code",
   "execution_count": null,
   "id": "e0cbd95c",
   "metadata": {},
   "outputs": [],
   "source": [
    "queen_card = pd.Series(w_queen.cardinalities)\n",
    "queen_card.head()"
   ]
  },
  {
   "cell_type": "markdown",
   "id": "4d6623c9",
   "metadata": {},
   "source": [
    "This allows, for example, to access quick plotting, which comes in very handy to get an overview of the size of neighborhoods in general:"
   ]
  },
  {
   "cell_type": "code",
   "execution_count": null,
   "id": "73a5f92c",
   "metadata": {},
   "outputs": [],
   "source": [
    "sns.displot(queen_card, bins=10)"
   ]
  },
  {
   "cell_type": "markdown",
   "id": "a6b29e17",
   "metadata": {},
   "source": [
    "The figure above shows how most observations have around five neighbors, but there is some variation around it. The distribution also seems to follow a symmetric form, where deviations from the average occur both in higher and lower values almost evenly.\n",
    "\n",
    "Some additional information about the spatial relationships contained in the matrix are also easily available from a `W` object. Let us tour over some of them:"
   ]
  },
  {
   "cell_type": "code",
   "execution_count": null,
   "id": "01878c38",
   "metadata": {},
   "outputs": [],
   "source": [
    "# Number of observations\n",
    "w_queen.n"
   ]
  },
  {
   "cell_type": "code",
   "execution_count": null,
   "id": "4eb2a751",
   "metadata": {},
   "outputs": [],
   "source": [
    "# Average number of neighbors\n",
    "w_queen.mean_neighbors"
   ]
  },
  {
   "cell_type": "code",
   "execution_count": null,
   "id": "7804fac4",
   "metadata": {},
   "outputs": [],
   "source": [
    "# Min number of neighbors\n",
    "w_queen.min_neighbors"
   ]
  },
  {
   "cell_type": "code",
   "execution_count": null,
   "id": "a50650e9",
   "metadata": {},
   "outputs": [],
   "source": [
    "# Max number of neighbors\n",
    "w_queen.max_neighbors"
   ]
  },
  {
   "cell_type": "code",
   "execution_count": null,
   "id": "5c57c2a7",
   "metadata": {},
   "outputs": [],
   "source": [
    "# Islands (observations disconnected)\n",
    "w_queen.islands"
   ]
  },
  {
   "cell_type": "code",
   "execution_count": null,
   "id": "e9dfbd9a",
   "metadata": {},
   "outputs": [],
   "source": [
    "# Order of IDs (first five only in this case)\n",
    "w_queen.id_order[:5]"
   ]
  },
  {
   "cell_type": "code",
   "execution_count": null,
   "id": "82485167",
   "metadata": {},
   "outputs": [],
   "source": [
    "imd = imd.set_index(\"lsoa11cd\")"
   ]
  },
  {
   "cell_type": "markdown",
   "id": "05cc3008",
   "metadata": {},
   "source": [
    "Spatial weight matrices can be explored visually in other ways. For example, we can pick an observation and visualize it in the context of its neighborhood. The following plot does exactly that by zooming into the surroundings of LSOA `E01006690` and displaying its polygon as well as those of its neighbors:"
   ]
  },
  {
   "cell_type": "code",
   "execution_count": null,
   "id": "d6a1ca86",
   "metadata": {},
   "outputs": [],
   "source": [
    "# Setup figure\n",
    "f, ax = plt.subplots(1, figsize=(6, 6))\n",
    "# Plot base layer of polygons\n",
    "imd.plot(ax=ax, facecolor=\"k\", linewidth=0.1)\n",
    "# Select focal polygon\n",
    "# NOTE we pass both the area code and the column name\n",
    "#      (`geometry`) within brackets!!!\n",
    "focus = imd.loc[[\"E01006690\"], [\"geometry\"]]\n",
    "# Plot focal polygon\n",
    "focus.plot(facecolor=\"red\", alpha=1, linewidth=0, ax=ax)\n",
    "# Plot neighbors\n",
    "neis = imd.loc[list(w_queen[\"E01006690\"]), :]\n",
    "neis.plot(ax=ax, facecolor=\"lime\", linewidth=0)\n",
    "# Title\n",
    "f.suptitle(\"Queen neighbors of `E01006690`\")\n",
    "# Style and display on screen\n",
    "ax.set_ylim(388000, 393500)\n",
    "ax.set_xlim(336000, 339500)\n",
    "plt.show()"
   ]
  },
  {
   "cell_type": "markdown",
   "id": "dcfd7330",
   "metadata": {},
   "source": [
    "Note how the figure is built gradually, from the base map (L. 4-5), to the focal point (L. 9), to its neighborhood (L. 11-13). Once the entire figure is plotted, we zoom into the area of interest (L. 19-20)."
   ]
  },
  {
   "cell_type": "markdown",
   "id": "c208bb8f",
   "metadata": {},
   "source": [
    "* **Rook**\n",
    "\n",
    "Rook contiguity is similar to and, in many ways, superseded by queen contiguity. However, since it sometimes comes up in the literature, it is useful to know about it. The main idea is the same: two observations are neighbors if they share some of their boundary lines. However, in the rook case, it is not enough with sharing only one point, it needs to be at least a segment of their boundary. In most applied cases, these differences usually boil down to how the geocoding was done, but in some cases, such as when we use raster data or grids, this approach can differ more substantively and it thus makes more sense.\n",
    "\n",
    "From a technical point of view, constructing a rook matrix is very similar:"
   ]
  },
  {
   "cell_type": "code",
   "execution_count": null,
   "id": "afba3397",
   "metadata": {},
   "outputs": [],
   "source": [
    "w_rook = weights.Rook.from_dataframe(imd, use_index=\"False\")\n",
    "w_rook"
   ]
  },
  {
   "cell_type": "markdown",
   "id": "1a3d6576",
   "metadata": {},
   "source": [
    "The output is of the same type as before, a `W` object that can be queried and used in very much the same way as any other one."
   ]
  },
  {
   "cell_type": "markdown",
   "id": "108ba0fa",
   "metadata": {},
   "source": [
    "---\n",
    "**[Optional exercise]**\n",
    "\n",
    "Create a similar map for the rook neighbors of polygon `E01006580`.\n",
    "\n",
    "How would it differ if the spatial weights were created based on the queen criterion?\n",
    "\n",
    "---"
   ]
  },
  {
   "cell_type": "markdown",
   "id": "da6f7c48",
   "metadata": {},
   "source": [
    "#### Distance <a class=\"anchor\" id=\"section3_2_3\"></a>\n",
    "\n",
    "Distance based matrices assign the weight to each pair of observations as a function of how far from each other they are. How this is translated into an actual weight varies across types and variants, but they all share that the ultimate reason why two observations are assigned some weight is due to the distance between them."
   ]
  },
  {
   "cell_type": "markdown",
   "id": "4e11bccb",
   "metadata": {},
   "source": [
    "* **K-Nearest Neighbors**\n",
    "\n",
    "One approach to define weights is to take the distances between a given observation and the rest of the set, rank them, and consider as neighbors the $k$ closest ones. That is exactly what the $k$-nearest neighbors (KNN) criterium does.\n",
    "\n",
    "To calculate KNN weights, we can use a similar function as before and derive them from a shapefile:"
   ]
  },
  {
   "cell_type": "code",
   "execution_count": null,
   "id": "42a68ffc",
   "metadata": {},
   "outputs": [],
   "source": [
    "knn5 = weights.KNN.from_dataframe(imd, k=5)\n",
    "knn5"
   ]
  },
  {
   "cell_type": "markdown",
   "id": "f6cf7170",
   "metadata": {},
   "source": [
    "Note how we need to specify the number of nearest neighbors we want to consider with the argument `k`. Since it is a polygon shapefile that we are passing, the function will automatically compute the centroids to derive distances between observations. Alternatively, we can provide the points in the form of an array, skipping this way the dependency of a file on disk:"
   ]
  },
  {
   "cell_type": "code",
   "execution_count": null,
   "id": "507d7591",
   "metadata": {},
   "outputs": [],
   "source": [
    "# Extract centroids\n",
    "cents = imd.centroid\n",
    "# Extract coordinates into an array\n",
    "pts = np.array([(pt.x, pt.y) for pt in cents])\n",
    "# Compute KNN weights\n",
    "knn5_from_pts = weights.KNN.from_array(pts, k=5)\n",
    "knn5_from_pts"
   ]
  },
  {
   "cell_type": "markdown",
   "id": "401fb6df",
   "metadata": {},
   "source": [
    "* **Distance band**\n",
    "\n",
    "Another approach to building distance-based spatial weights matrices is to draw a circle of a certain radius and consider as a neighbour every observation that falls within the circle. The technique has two main variations: binary and continuous. In the former one, every neighbour is given a weight of one, while in the second one, the weights can be further tweaked by the distance to the observation of interest.\n",
    "\n",
    "To compute binary distance matrices in `PySAL`, we can use the following command:"
   ]
  },
  {
   "cell_type": "code",
   "execution_count": null,
   "id": "440d007d",
   "metadata": {},
   "outputs": [],
   "source": [
    "w_dist10kmB = weights.DistanceBand.from_dataframe(imd, 10000)"
   ]
  },
  {
   "cell_type": "markdown",
   "id": "f0cb9416",
   "metadata": {},
   "source": [
    "**NOTE** how we approach this in a different way, by using the method `from_shapefile` we do not build the `W` based on the table `imd`, but instead use directly the file the table came from (which we point at using `imd_shp`, the path). Note also how we need to include the name of the column where the index of the table is stored (`LSOA11CD`, the LSOA code) so the matrix is aligned and indexed in the same way as the tabl. Once built, however, the output is of the same kind as before, a `W` object.\n",
    "\n",
    "This creates a binary matrix that considers neighbors of an observation every polygon whose centroid is closer than 10000 metres (10Km) of the centroid of such observation. Check, for example, the neighborhood of polygon `E01006690`:"
   ]
  },
  {
   "cell_type": "code",
   "execution_count": null,
   "id": "bd1fa1fd",
   "metadata": {},
   "outputs": [],
   "source": [
    "# w_dist10kmB['E01006690'] # long output - many neighbours"
   ]
  },
  {
   "cell_type": "markdown",
   "id": "420f7072",
   "metadata": {},
   "source": [
    "Note that the units in which you specify the distance directly depend on the CRS in which the spatial data are projected, and this has nothing to do with the weights building but it can affect it significantly. Recall how you can check the CRS of a `GeoDataFrame`:"
   ]
  },
  {
   "cell_type": "code",
   "execution_count": null,
   "id": "7581dbb2",
   "metadata": {},
   "outputs": [],
   "source": [
    "imd.crs"
   ]
  },
  {
   "cell_type": "markdown",
   "id": "f759009f",
   "metadata": {},
   "source": [
    "In this case, you can see the unit is expressed in metres (`m`), hence we set the threshold to 1,0000 for a circle of 10km of radious.\n",
    "\n",
    "An extension of the weights above is to introduce further detail by assigning different weights to different neighbors within the radious circle based on how far they are from the observation of interest. For example, we could think of assigning the inverse of the distance between observations $i$ and $j$ as $w_{ij}$. This can be computed with the following command:"
   ]
  },
  {
   "cell_type": "code",
   "execution_count": null,
   "id": "9e8c75de",
   "metadata": {},
   "outputs": [],
   "source": [
    "w_dist10kmC = weights.DistanceBand.from_dataframe(imd, 10000, binary=False)"
   ]
  },
  {
   "cell_type": "markdown",
   "id": "bf31a4a3",
   "metadata": {},
   "source": [
    "In `w_dist10kmC`, every observation within the 1km circle is assigned a weight equal to the inverse distance between the two:\n",
    "\n",
    "$$\n",
    "w_{ij} = \\dfrac{1}{d_{ij}}\n",
    "$$\n",
    "\n",
    "This way, the further apart $i$ and $j$ are from each other, the smaller the weight $w_{ij}$ will be.\n",
    "\n",
    "Contrast the binary neighborhood with the continuous one for `E01006690`:"
   ]
  },
  {
   "cell_type": "code",
   "execution_count": null,
   "id": "50da2af8",
   "metadata": {},
   "outputs": [],
   "source": [
    "w_dist10kmC[\"E01006690\"]"
   ]
  },
  {
   "cell_type": "markdown",
   "id": "691505c5",
   "metadata": {},
   "source": [
    "---\n",
    "\n",
    "**[Optional exercise]**\n",
    "\n",
    "Explore the help for functions `weights.DistanceBand.from_array` and try to use them to replicate `w_dist10kmB` and `w_dist10kmC`.\n",
    "\n",
    "---"
   ]
  },
  {
   "cell_type": "markdown",
   "id": "d62785ee",
   "metadata": {},
   "source": [
    "Following this logic of more detailed weights through distance, there is a temptation to take it further and consider everyone else in the dataset as a neighbor whose weight will then get modulated by the distance effect shown above. However, although conceptually correct, this approach is not always the most computationally or practical one. Because of the nature of spatial weights matrices, particularly because of the fact their size is $N$ by $N$, they can grow substantially large. A way to cope with this problem is by making sure they remain fairly *sparse* (with many zeros). Sparsity is typically ensured in the case of contiguity or KNN by construction but, with inverse distance, it needs to be imposed as, otherwise, the matrix could be potentially entirely dense (no zero values other than the diagonal). In practical terms, what is usually done is to impose a distance threshold beyond which no weight is assigned and interaction is assumed to be non-existent. Beyond being computationally feasible and scalable, results from this approach usually do not differ much from a fully \"dense\" one as the additional information that is included from further observations is almost ignored due to the small weight they receive. In this context, a commonly used threshold, although not always best, is that which makes every observation to have at least one neighbor.\n",
    "\n",
    "Such a threshold can be calculated as follows:"
   ]
  },
  {
   "cell_type": "code",
   "execution_count": null,
   "id": "80e9cbe6",
   "metadata": {},
   "outputs": [],
   "source": [
    "min_thr = weights.min_threshold_dist_from_shapefile(imd_shp)\n",
    "min_thr"
   ]
  },
  {
   "cell_type": "markdown",
   "id": "52cc02b8",
   "metadata": {},
   "source": [
    "Which can then be used to calculate an inverse distance weights matrix:"
   ]
  },
  {
   "cell_type": "markdown",
   "id": "735b10ed",
   "metadata": {},
   "source": [
    "---\n",
    "\n",
    "**Optional extension [Lecture figure]**\n",
    "\n",
    "Below is how to build a visualization for distance-based weights that displays the polygons, highlighting the focus and its neighbors, and then overlays the centroids and the buffer used to decide whether a polygon is a neighbor or not. Since this is distance-based weights, there needs to be a way to establish distance between two polygons and, in this case, the distance between their centroids is used."
   ]
  },
  {
   "cell_type": "code",
   "execution_count": null,
   "id": "e46015ee",
   "metadata": {},
   "outputs": [],
   "source": [
    "# Setup figure\n",
    "f, ax = plt.subplots(1, figsize=(4, 4))\n",
    "# Plot base layer of polygons\n",
    "imd.plot(ax=ax, facecolor=\"k\", linewidth=0.1)\n",
    "# Select focal polygon\n",
    "# NOTE we pass both the area code and the column name\n",
    "#      (`geometry`) within brackets!!!\n",
    "focus = imd.loc[[\"E01006690\"], [\"geometry\"]]\n",
    "# Plot focal polygon\n",
    "focus.plot(facecolor=\"red\", alpha=1, linewidth=0, ax=ax)\n",
    "# Plot neighbors\n",
    "neis = imd.loc[list(w_dist10kmC[\"E01006690\"]), :]\n",
    "neis.plot(ax=ax, facecolor=\"lime\", linewidth=0)\n",
    "# Plot 1km buffer\n",
    "buf = focus.centroid.buffer(1000)\n",
    "buf.plot(edgecolor=\"red\", facecolor=\"none\", ax=ax)\n",
    "# Plot centroids of neighbor\n",
    "pts = np.array([(pt.x, pt.y) for pt in imd.centroid])\n",
    "ax.plot(\n",
    "    pts[:, 0],\n",
    "    pts[:, 1],\n",
    "    color=\"#00d8ea\",\n",
    "    linewidth=0,\n",
    "    alpha=0.75,\n",
    "    marker=\"o\",\n",
    "    markersize=4,\n",
    ")\n",
    "# Title\n",
    "f.suptitle(\"Neighbors within 1km of `E01006690`\")\n",
    "# Style, zoom and display on screen\n",
    "ax.set_ylim(388000, 393500)\n",
    "ax.set_xlim(336000, 339500)\n",
    "plt.show()"
   ]
  },
  {
   "cell_type": "markdown",
   "id": "780f01ac",
   "metadata": {},
   "source": [
    "---"
   ]
  },
  {
   "cell_type": "markdown",
   "id": "54d7ab78",
   "metadata": {},
   "source": [
    "#### Block weights <a class=\"anchor\" id=\"section3_2_6\"></a>"
   ]
  },
  {
   "cell_type": "markdown",
   "id": "ebdb93ff",
   "metadata": {},
   "source": [
    "Block weights connect every observation in a dataset that belongs to the same category in a list provided ex-ante. Usually, this list will have some relation to geography an the location of the observations but, technically speaking, all one needs to create block weights is a list of memberships. In this class of weights, neighboring observations, those in the same group, are assigned a weight of one, and the rest receive a weight of zero.\n",
    "\n",
    "In this example, we will build a spatial weights matrix that connects every LSOA with all the other ones in the same MSOA. To do this, we first need a lookup list that connects both kinds of geographies:"
   ]
  },
  {
   "cell_type": "code",
   "execution_count": null,
   "id": "0ad5001e",
   "metadata": {},
   "outputs": [],
   "source": [
    "# NOTE: disregard the warning in pink that might come from running\n",
    "#       this cell\n",
    "file_name = \"OA11_LSOA11_MSOA11_LAD11_EW_LUv2.csv\"\n",
    "lookup = pd.read_csv(lookup_path + file_name, encoding=\"iso-8859-1\")\n",
    "lookup = (\n",
    "    lookup[[\"lsoa11cd\", \"msoa11cd\"]]\n",
    "    .drop_duplicates(keep=\"last\")\n",
    "    .set_index(\"lsoa11cd\")[\"msoa11cd\"]\n",
    ")\n",
    "lookup.head()"
   ]
  },
  {
   "cell_type": "markdown",
   "id": "c780e4bf",
   "metadata": {},
   "source": [
    "Since the original file contains much more information than we need for this exercise, note how in line 2 we limit the columns we keep to only two, `LSOA11CD` and `MSOA11CD`. We also add an additional command, `drop_duplicates`, which removes elements whose index is repeated more than once, as is the case in this dataset (every LSOA has more than one row in this table). By adding the `take_last` argument, we make sure that one and only one element of each index value is retained. For ease of use later on, we set the index, that is the name of the rows, to `LSOA11CD`. This will allow us to perform efficient lookups without having to perform full `DataFrame` queries, and it is also a more computationally efficient way to select observations.\n",
    "\n",
    "For example, if we want to know in which MSOA the polygon `E01000003` is, we just need to type:"
   ]
  },
  {
   "cell_type": "code",
   "execution_count": null,
   "id": "a99771a7",
   "metadata": {},
   "outputs": [],
   "source": [
    "lookup.loc[\"E01000003\"]"
   ]
  },
  {
   "cell_type": "markdown",
   "id": "803a05d4",
   "metadata": {},
   "source": [
    "With the lookup in hand, let us append it to the IMD table to keep all the necessary pieces in one place only:"
   ]
  },
  {
   "cell_type": "code",
   "execution_count": null,
   "id": "88523535",
   "metadata": {},
   "outputs": [],
   "source": [
    "imd[\"msoa11cd\"] = lookup\n",
    "imd.info()  # notice the msoa column appearing at the end"
   ]
  },
  {
   "cell_type": "markdown",
   "id": "431a29a1",
   "metadata": {},
   "source": [
    "Now we are ready to build a block spatial weights matrix that connects as neighbors all the LSOAs in the same MSOA. Using `PySAL`, this is a one-line task:"
   ]
  },
  {
   "cell_type": "code",
   "execution_count": null,
   "id": "496aca8f",
   "metadata": {},
   "outputs": [],
   "source": [
    "from IPython.display import display\n",
    "display(imd)\n",
    "w_block = weights.block_weights(list(imd[\"msoa11cd\"]))"
   ]
  },
  {
   "cell_type": "markdown",
   "id": "a505d56c",
   "metadata": {},
   "source": [
    "In this case, `PySAL` does not allow to pass the argument `idVariable` as above. As a result, observations are named after the the order the occupy in the list:"
   ]
  },
  {
   "cell_type": "code",
   "execution_count": null,
   "id": "af6dd235",
   "metadata": {},
   "outputs": [],
   "source": [
    "w_block[0]"
   ]
  },
  {
   "cell_type": "markdown",
   "id": "f42342b5",
   "metadata": {},
   "source": [
    "The first element is neighbor of observations 1, 2, 3, 31920 and 31921, all of them with an assigned weight of 1. However, it is possible to correct this by using the additional method `remap_ids`:"
   ]
  },
  {
   "cell_type": "code",
   "execution_count": null,
   "id": "fd287291",
   "metadata": {},
   "outputs": [],
   "source": [
    "w_block.remap_ids(imd.index)"
   ]
  },
  {
   "cell_type": "markdown",
   "id": "14add683",
   "metadata": {},
   "source": [
    "Now if you try `w_bloc[0]`, it will return an error. But if you query for the neighbors of an observation by its LSOA id, it will work:"
   ]
  },
  {
   "cell_type": "code",
   "execution_count": null,
   "id": "9cb2d1f3",
   "metadata": {},
   "outputs": [],
   "source": [
    "w_block[\"E01006512\"]"
   ]
  },
  {
   "cell_type": "markdown",
   "id": "e0c10d56",
   "metadata": {},
   "source": [
    "---\n",
    "\n",
    "**[Optional exercise]**\n",
    "\n",
    "For block weights, create a similar map to that of queen neighbors of polygon `E01006690`.\n",
    "\n",
    "---"
   ]
  },
  {
   "cell_type": "markdown",
   "id": "139e35dc",
   "metadata": {},
   "source": [
    "### Standardizing `W` matrices <a class=\"anchor\" id=\"section3_3\"></a>\n",
    "\n",
    "In the context of many spatial analysis techniques, a spatial weights matrix with raw values (e.g. ones and zeros for the binary case) is not always the best suiting one for analysis and some sort of transformation is required. This implies modifying each weight so they conform to certain rules. `PySAL` has transformations baked right into the `W` object, so it is possible to check the state of an object as well as to modify it.\n",
    "\n",
    "Consider the original queen weights, for observation `E01006690`:"
   ]
  },
  {
   "cell_type": "code",
   "execution_count": null,
   "id": "b8616b86",
   "metadata": {},
   "outputs": [],
   "source": [
    "w_queen[\"E01006690\"]"
   ]
  },
  {
   "cell_type": "markdown",
   "id": "122f0325",
   "metadata": {},
   "source": [
    "Since it is contiguity, every neighbor gets one, the rest zero weight. We can check if the object `w_queen` has been transformed or not by calling the argument `transform`:"
   ]
  },
  {
   "cell_type": "code",
   "execution_count": null,
   "id": "a45fe6d7",
   "metadata": {},
   "outputs": [],
   "source": [
    "w_queen.transform"
   ]
  },
  {
   "cell_type": "markdown",
   "id": "8a9c3096",
   "metadata": {},
   "source": [
    "where `O` stands for \"original\", so no transformations have been applied yet. If we want to apply a row-based transformation, so every row of the matrix sums up to one, we modify the `transform` attribute as follows:"
   ]
  },
  {
   "cell_type": "code",
   "execution_count": null,
   "id": "f87dd2c6",
   "metadata": {},
   "outputs": [],
   "source": [
    "w_queen.transform = \"R\""
   ]
  },
  {
   "cell_type": "markdown",
   "id": "c514d48d",
   "metadata": {},
   "source": [
    "Now we can check the weights of the same observation as above and find they have been modified:"
   ]
  },
  {
   "cell_type": "code",
   "execution_count": null,
   "id": "057e4df7",
   "metadata": {},
   "outputs": [],
   "source": [
    "w_queen[\"E01006690\"]"
   ]
  },
  {
   "cell_type": "markdown",
   "id": "76769cb6",
   "metadata": {},
   "source": [
    "Save for precission issues, the sum of weights for all the neighbors is one:"
   ]
  },
  {
   "cell_type": "code",
   "execution_count": null,
   "id": "3862afb5",
   "metadata": {},
   "outputs": [],
   "source": [
    "pd.Series(w_queen[\"E01006690\"]).sum()"
   ]
  },
  {
   "cell_type": "markdown",
   "id": "bf45af95",
   "metadata": {},
   "source": [
    "Returning the object back to its original state involves assigning `transform` back to original:"
   ]
  },
  {
   "cell_type": "code",
   "execution_count": null,
   "id": "e8769ce7",
   "metadata": {},
   "outputs": [],
   "source": [
    "w_queen.transform = \"O\""
   ]
  },
  {
   "cell_type": "code",
   "execution_count": null,
   "id": "b7344d83",
   "metadata": {},
   "outputs": [],
   "source": [
    "w_queen[\"E01006690\"]"
   ]
  },
  {
   "cell_type": "markdown",
   "id": "53da1383",
   "metadata": {},
   "source": [
    "`PySAL` supports the following transformations:\n",
    "\n",
    "* `O`: original, returning the object to the initial state.\n",
    "* `B`: binary, with every neighbor having assigned a weight of one.\n",
    "* `R`: row, with all the neighbors of a given observation adding up to one.\n",
    "* `V`: variance stabilizing, with the sum of all the weights being constrained to the number of observations."
   ]
  },
  {
   "cell_type": "markdown",
   "id": "47d58d2a",
   "metadata": {},
   "source": [
    "### Reading and Writing spatial weights in `PySAL` <a class=\"anchor\" id=\"section3_4\"></a>\n",
    "\n",
    "Sometimes, if a dataset is very detailed or large, it can be costly to build the spatial weights matrix of a given geography and, despite the optimizations in the `PySAL` code, the computation time can quickly grow out of hand. In these contexts, it is useful to not have to re-build a matrix from scratch every time we need to re-run the analysis. A useful solution in this case is to build the matrix once, and save it to a file where it can be reloaded at a later stage if needed.\n",
    "\n",
    "`PySAL` has a common way to write any kind of `W` object into a file using the command `open`. The only element we need to decide for ourselves beforehand is the format of the file. Although there are several formats in which spatial weight matrices can be stored (have a look at the [list](http://pysal.readthedocs.org/en/latest/users/tutorials/fileio.html) of supported ones by `PySAL`), we will focused on the two most commonly used ones:"
   ]
  },
  {
   "cell_type": "markdown",
   "id": "6859bfd2",
   "metadata": {},
   "source": [
    "* **`.gal`** files for contiguity weights\n",
    "\n",
    "Contiguity spatial weights can be saved into a `.gal` file with the following commands:"
   ]
  },
  {
   "cell_type": "code",
   "execution_count": null,
   "id": "f7498cfb",
   "metadata": {},
   "outputs": [],
   "source": [
    "# Open file to write into\n",
    "fo = psopen(\"imd_queen.gal\", \"w\")\n",
    "# Write the matrix into the file\n",
    "fo.write(w_queen)\n",
    "# Close the file\n",
    "fo.close()"
   ]
  },
  {
   "cell_type": "markdown",
   "id": "d3d93d26",
   "metadata": {},
   "source": [
    "The process is composed by the following three steps:\n",
    "\n",
    "1. Open a target file for `w`riting the matrix, hence the `w` argument. In this case, if a file `imd_queen.gal` already exists, it will be overwritten, so be careful.\n",
    "1. Write the `W` object into the file.\n",
    "1. Close the file. This is important as some additional information is written into the file at this stage, so failing to close the file might have unintended consequences.\n",
    "\n",
    "Once we have the file written, it is possible to read it back into memory with the following command:"
   ]
  },
  {
   "cell_type": "code",
   "execution_count": null,
   "id": "f8aea0b3",
   "metadata": {},
   "outputs": [],
   "source": [
    "w_queen2 = psopen(\"imd_queen.gal\", \"r\").read()\n",
    "w_queen2"
   ]
  },
  {
   "cell_type": "markdown",
   "id": "de3b2ccf",
   "metadata": {},
   "source": [
    "Note how we now use `r` instead of `w` because we are `r`eading the file, and also notice how we open the file and, in the same line, we call `read()` directly."
   ]
  },
  {
   "cell_type": "markdown",
   "id": "794f7fc4",
   "metadata": {},
   "source": [
    "* **`.gwt`** files for distance-based weights.\n",
    "\n",
    "A very similar process to the one above can be used to read and write distance based weights. The only difference is specifying the right file format, `.gwt` in this case. So, if we want to write `w_dist10km` into a file, we will run:"
   ]
  },
  {
   "cell_type": "code",
   "execution_count": null,
   "id": "d22f7d61",
   "metadata": {},
   "outputs": [],
   "source": [
    "# Open file\n",
    "fo = psopen(\"imd_dist1km.gwt\", \"w\")\n",
    "# Write matrix into the file\n",
    "fo.write(w_dist10kmC)\n",
    "# Close file\n",
    "fo.close()"
   ]
  },
  {
   "cell_type": "markdown",
   "id": "1309e300",
   "metadata": {},
   "source": [
    "And if we want to read the file back in, all we need to do is:"
   ]
  },
  {
   "cell_type": "code",
   "execution_count": null,
   "id": "447fc7f8",
   "metadata": {},
   "outputs": [],
   "source": [
    "w_dist10km2 = psopen(\"imd_dist1km.gwt\", \"r\").read()"
   ]
  },
  {
   "cell_type": "markdown",
   "id": "574f03a8",
   "metadata": {},
   "source": [
    "Note how, in this case, you will probably receive a warning alerting you that there was not a `DBF` relating to the file. This is because, by default, `PySAL` takes the order of the observations in a `.gwt` from a shapefile. If this is not provided, `PySAL` cannot entirely determine all the elements and hence the resulting `W` might not be complete (islands, for example, can be missing). To fully complete the reading of the file, we can remap the ids as we have seen above:"
   ]
  },
  {
   "cell_type": "markdown",
   "id": "0c79cbaf",
   "metadata": {},
   "source": [
    "### Spatial Lag <a class=\"anchor\" id=\"section3_5\"></a>\n",
    "\n",
    "One of the most direct applications of spatial weight matrices is the so-called *spatial lag*. The spatial lag of a given variable is the product of a spatial weight matrix and the variable itself:\n",
    "\n",
    "$$\n",
    "Y_{sl} = W Y\n",
    "$$\n",
    "\n",
    "where $Y$ is a Nx1 vector with the values of the variable. Recall that the product of a matrix and a vector equals the sum of a row by column element multiplication for the resulting value of a given row. In terms of the spatial lag:\n",
    "\n",
    "$$\n",
    "y_{sl-i} = \\displaystyle \\sum_j w_{ij} y_j\n",
    "$$\n",
    "\n",
    "If we are using row-standardized weights, $w_{ij}$ becomes a proportion between zero and one, and $y_{sl-i}$ can be seen as the average value of $Y$ in the neighborhood of $i$.\n",
    "\n",
    "The spatial lag is a key element of many spatial analysis techniques, as we will see later on and, as such, it is fully supported in `PySAL`. To compute the spatial lag of a given variable, `imd_score` for example:"
   ]
  },
  {
   "cell_type": "code",
   "execution_count": null,
   "id": "92e59d60",
   "metadata": {},
   "outputs": [],
   "source": [
    "# Row-standardize the queen matrix\n",
    "w_queen.transform = \"R\"\n",
    "# Compute spatial lag of `imd_score`\n",
    "w_queen_score = weights.lag_spatial(w_queen, imd[\"IMDScore\"])\n",
    "# Print the first five elements\n",
    "w_queen_score[:5]"
   ]
  },
  {
   "cell_type": "markdown",
   "id": "d8b50d56",
   "metadata": {},
   "source": [
    "Line 4 contains the actual computation, which is highly optimized in `PySAL`. Note that, despite passing in a `pd.Series` object, the output is a `numpy` array. This however, can be added directly to the table `imd`:"
   ]
  },
  {
   "cell_type": "code",
   "execution_count": null,
   "id": "c2627e47",
   "metadata": {
    "lines_to_next_cell": 2
   },
   "outputs": [],
   "source": [
    "imd[\"w_queen_score\"] = w_queen_score"
   ]
  },
  {
   "cell_type": "markdown",
   "id": "57bb190e",
   "metadata": {},
   "source": [
    "---\n",
    "**[Optional exercise]**\n",
    "\n",
    "Explore the spatial lag of `w_queen_score` by constructing a density/histogram plot similar to those created in Lab 2. Compare these with one for `imd_score`. What differences can you tell?\n",
    "\n",
    "<!--\n",
    "sns.distplot(imd['imd_score'])\n",
    "\n",
    "sns.distplot(imd['w_queen_score'])\n",
    "-->\n",
    "\n",
    "---"
   ]
  },
  {
   "cell_type": "markdown",
   "id": "65ef2b02",
   "metadata": {},
   "source": [
    "### Moran Plot <a class=\"anchor\" id=\"section3_6\"></a>\n",
    "\n",
    "The Moran Plot is a graphical way to start exploring the concept of spatial autocorrelation, and it is a good application of spatial weight matrices and the spatial lag. In essence, it is a standard scatter plot in which a given variable (`imd_score`, for example) is plotted against *its own* spatial lag. Usually, a fitted line is added to include more information:"
   ]
  },
  {
   "cell_type": "code",
   "execution_count": null,
   "id": "d91abc5e",
   "metadata": {},
   "outputs": [],
   "source": [
    "# Setup the figure and axis\n",
    "f, ax = plt.subplots(1, figsize=(9, 9))\n",
    "# Plot values\n",
    "sns.regplot(x=\"IMDScore\", y=\"w_queen_score\", data=imd, ci=None)\n",
    "# Display\n",
    "plt.show()"
   ]
  },
  {
   "cell_type": "markdown",
   "id": "90c4b942",
   "metadata": {},
   "source": [
    "In order to easily compare different scatter plots and spot outlier observations, it is common practice to standardize the values of the variable before computing its spatial lag and plotting it. This can be accomplished by substracting the average value and dividing the result by the standard deviation:\n",
    "\n",
    "$$\n",
    "z_i = \\dfrac{y - \\bar{y}}{\\sigma_y}\n",
    "$$\n",
    "\n",
    "where $z_i$ is the standardized version of $y_i$, $\\bar{y}$ is the average of the variable, and $\\sigma$ its standard deviation.\n",
    "\n",
    "Creating a standardized Moran Plot implies that average values are centered in the plot (as they are zero when standardized) and dispersion is expressed in standard deviations, with the rule of thumb of values greater or smaller than two standard deviations being *outliers*. A standardized Moran Plot also partitions the space into four quadrants that represent different situations:\n",
    "\n",
    "1. High-High (*HH*): values above average surrounded by values above average.\n",
    "1. Low-Low (*LL*): values below average surrounded by values below average.\n",
    "1. High-Low (*HL*): values above average surrounded by values below average.\n",
    "1. Low-High (*LH*): values below average surrounded by values above average.\n",
    "\n",
    "These will be further explored once spatial autocorrelation has been properly introduced in subsequent lectures."
   ]
  },
  {
   "cell_type": "code",
   "execution_count": null,
   "id": "846e99c0",
   "metadata": {},
   "outputs": [],
   "source": [
    "# Standardize the IMD scores\n",
    "std_imd = (imd[\"IMDScore\"] - imd[\"IMDScore\"].mean()) / imd[\"IMDScore\"].std()\n",
    "# Compute the spatial lag of the standardized version and save is as a\n",
    "# Series indexed as the original variable\n",
    "std_w_imd = pd.Series(weights.lag_spatial(w_queen, std_imd), index=std_imd.index)\n",
    "# Setup the figure and axis\n",
    "f, ax = plt.subplots(1, figsize=(9, 9))\n",
    "# Plot values\n",
    "sns.regplot(x=std_imd, y=std_w_imd, ci=None)\n",
    "# Add vertical and horizontal lines\n",
    "plt.axvline(0, c=\"k\", alpha=0.5)\n",
    "plt.axhline(0, c=\"k\", alpha=0.5)\n",
    "# Display\n",
    "plt.show()"
   ]
  },
  {
   "cell_type": "markdown",
   "id": "a777748e",
   "metadata": {},
   "source": [
    "---\n",
    "\n",
    "**[Optional exercise]**\n",
    "\n",
    "Create a standardized Moran Plot for each of the components of the IMD:\n",
    "\n",
    "* Crime\n",
    "* Education\n",
    "* Employment\n",
    "* Health\n",
    "* Housing\n",
    "* Income\n",
    "* Living environment\n",
    "\n",
    "**Bonus good karma** if you can generate all the plots with a `for` loop.\n",
    "\n",
    "**Bonus great karma-II** if you explore the functionality of Seaborn's `jointplot` ([link](http://stanford.edu/~mwaskom/software/seaborn/tutorial/regression.html#plotting-a-regression-in-other-contexts) and [link](http://stanford.edu/~mwaskom/software/seaborn/generated/seaborn.jointplot.html#seaborn.jointplot)) to create a richer Moran plot.\n",
    "\n",
    "<!--\n",
    "w_queen.transform = 'R'\n",
    "for col in ['crime', 'education', 'employment', 'health', 'housing', 'income', 'living_env']:\n",
    "    stdd = (imd[col] - imd[col].mean()) / imd[col].std()\n",
    "    sl = pd.Series(ps.lag_spatial(w_queen, stdd), index=stdd.index)\n",
    "    sns.jointplot(x=stdd, y=sl, kind=\"reg\")\n",
    "-->\n",
    "\n"
   ]
  }
 ],
 "metadata": {
  "kernelspec": {
   "display_name": "Python 3 (ipykernel)",
   "language": "python",
   "name": "python3"
  }
 },
 "nbformat": 4,
 "nbformat_minor": 5
}
