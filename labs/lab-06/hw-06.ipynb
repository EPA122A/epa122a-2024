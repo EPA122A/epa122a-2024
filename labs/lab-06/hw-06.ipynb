{
 "cells": [
  {
   "cell_type": "markdown",
   "id": "bd1ff215",
   "metadata": {},
   "source": [
    "#  EPA-122A *Spatial* Data Science\n",
    "\n",
    "\n",
    "## Homework 6: Clustering, spatial clustering, and geodemographics\n",
    "\n",
    "**TU Delft**<br>\n",
    "**Q2 2024**<br>\n",
    "**Instructors:** Giacomo Marangoni, Theodoros Chatzivasileiadis <br>\n",
    "\n",
    "---\n"
   ]
  },
  {
   "cell_type": "markdown",
   "id": "50fd2470",
   "metadata": {},
   "source": [
    "## Exercise: Geodemographics\n",
    "\n",
    "Reproduce with the components of the IMD for Liverpool and compare the output with the distribution of the IMD scores. This involves the following steps:\n",
    "\n",
    "* Read in the data.\n",
    "* Create a geodemographic classification for Liverpool using K-means and all the components of the IMD (income, employment, education, health, crime, and housing). This is composed of:\n",
    "    * Run K-means.\n",
    "    * Extract the labels.\n",
    "    * Plot the classes on a map.\n",
    "    * Compare the map obtained from the geodemographic classification with the distribution of the IMD scores.\n",
    "* Create a regionalization with the same attribute variables as for the geodemographic classification and producing 60 resulting observations. This will involve:\n",
    "    * Create the weights for the LSOA geography.\n",
    "    * Run the regionalisation algorithm (e.g. spatially constrained hierarchical clustering).\n",
    "    * Extract the labels and plot them on a map.\n"
   ]
  },
  {
   "cell_type": "code",
   "execution_count": null,
   "id": "b8bc3054",
   "metadata": {},
   "outputs": [],
   "source": []
  }
 ],
 "metadata": {
  "kernelspec": {
   "display_name": "Python 3 (ipykernel)",
   "language": "python",
   "name": "python3"
  }
 },
 "nbformat": 4,
 "nbformat_minor": 5
}
