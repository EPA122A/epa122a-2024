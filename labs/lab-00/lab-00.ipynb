{
 "cells": [
  {
   "cell_type": "markdown",
   "id": "11732e87",
   "metadata": {},
   "source": [
    "#  EPA-122A *Spatial* Data Science\n",
    "\n",
    "\n",
    "## Lab 0: Introduction to Python\n",
    "\n",
    "**TU Delft**<br>\n",
    "**Q2 2024**<br>\n",
    "**Instructors:** Giacomo Marangoni, Theodoros Chatzivasileiadis <br>\n",
    "\n",
    "---\n",
    "\n"
   ]
  },
  {
   "cell_type": "markdown",
   "id": "46e6eb3b",
   "metadata": {},
   "source": [
    "# Table of Contents"
   ]
  },
  {
   "cell_type": "markdown",
   "id": "28c61c88",
   "metadata": {},
   "source": [
    "* [Foreword and initial recommendations](#Programming-Expectations)\n",
    "* [Learning Goals](#Learning-goals)\n",
    "* [Setting up software requirements](#Setting-up-software-requirements)\n",
    "    * [Importing modules](#Importing-modules)\n",
    "    * [Computational tools for Urban Data Science](#Computational-tools-for-Urban-Data-Science)\n",
    "        * [Jupyter Lab](#Jupyter-Lab)\n",
    "        * [Start the Lab](#Start-the-Lab)\n",
    "* [Creating and documenting Jupyter Notebooks](#Creating-and-documenting-Jupyter-Notebooks)\n",
    "    * [Cells](#Cells)\n",
    "    * [Code and its output](#Code-and-its-output)\n",
    "    * [Markdown](#Markdown)\n",
    "* [Getting Started with Python](#Getting-Started-with-Python)\n",
    "    * [Python libraries](#Python-libraries)\n",
    "    * [Variables](#Variables)\n",
    "        * [Tuples](#Tuples)\n",
    "    * [Help](#help)\n",
    "    * [Control flow](#Control-flow)\n",
    "        * ['for' loops](#'for'-loops)\n",
    "        * ['if' statements](#'if'-statements)\n",
    "    * [Data structures](#Data-structures)\n",
    "        * [Values](#Values)\n",
    "        * [Lists](#Lists)\n",
    "        * [Dictionaries](#Dictionaries)\n",
    "        * [Working with lists](#Working-with-lists)\n",
    "            * [Indexing on lists plus slicing](#Indexing-on-lists-plus-slicing)\n",
    "            * [Appending and deleting](#Appending-and-deleting)\n",
    "        * [Working with dictionaries](#Working-with-dictionaries)\n",
    "    * [Functions](#Functions)\n",
    "        * [User defined functions](#User-defined-functions)\n",
    "        * [Lambda functions](#Lambda-functions)\n",
    "        * [Methods](#Methods)\n",
    "    * [Introduction to Numpy](#Introduction-to-Numpy)\n",
    "        * [Tensors' definition](#Tensors'-definition)\n",
    "        * [Vector operations](#Vector-operations)\n",
    "* [Food for thought before we say goodbye](#Food-for-thought-before-we-say-goodbye)\n",
    "* [Additional tools](#Additional-tools)\n",
    "    * [Importing and displaying rich content from the web](#Importing-and-displaying-rich-content-from-the-web)\n",
    "    * [List Comprehensions](#List-Comprehensions)\n",
    "    * [Probabilitiy Distributions from 'scipy.stats' and 'statsmodels'](#Probabilitiy-Distributions-from-'scipy.stats'-and-'statsmodels')"
   ]
  },
  {
   "cell_type": "markdown",
   "id": "19fb1b18",
   "metadata": {},
   "source": [
    "# Foreword and initial recommendations"
   ]
  },
  {
   "cell_type": "markdown",
   "id": "e804cedd",
   "metadata": {},
   "source": [
    "All assignments for this class will use Python and the browser-based Jupyter notebook format you are currently viewing. The extension for this file is `.ipynb`\n",
    "\n",
    "We will refer to the Python 3 [documentation](https://docs.python.org/3/) in this lab and throughout the course."
   ]
  },
  {
   "cell_type": "markdown",
   "id": "396c837a",
   "metadata": {},
   "source": [
    "---\n",
    "**Beginner WARNING**\n",
    "\n",
    "For all the code beginners out there, beware! You are not supposed to memorise nor internalise all the code you will be reading. Try not to think of coding like learning a new language. While it might be true that the syntax is relevant, that is not the primary goal of this whole course.\n",
    "\n",
    "Introduction to Data Science will try to guide through the creation of a mental framework you can apply for gathering, analysing, visualising data and communicating the results of your analysis.\n",
    "\n",
    "---"
   ]
  },
  {
   "cell_type": "markdown",
   "id": "a9807643",
   "metadata": {},
   "source": [
    "# Learning goals"
   ]
  },
  {
   "cell_type": "markdown",
   "id": "bac8616d",
   "metadata": {},
   "source": [
    "This introductory lab is a condensed introduction to Python numerical programming.  By the end of this lab, you will feel more comfortable:\n",
    "\n",
    "- Learn about anconda environments and setup your own with the necessary dependencies\n",
    "\n",
    "- Writing short Python code using functions, loops, lists, numpy arrays, and dictionaries.\n",
    "\n",
    "- Manipulating Python lists and numpy arrays and understanding the difference between them.\n",
    "\n",
    "- Introducing the stats libraries `scipy.stats` and `statsmodels`"
   ]
  },
  {
   "cell_type": "markdown",
   "id": "88608e12",
   "metadata": {},
   "source": [
    "# Setting up software requirements"
   ]
  },
  {
   "cell_type": "markdown",
   "id": "19db5fc2",
   "metadata": {},
   "source": [
    "## Importing modules\n",
    "\n",
    "\n",
    "All notebooks should begin with code that imports *modules*, collections of built-in, commonly-used Python functions. To import the modules we need for a specific analysis, we can use the following syntax:\n",
    "\n",
    "`import MODULE_NAME as MODULE_NICKNAME` or\n",
    "`from MODULE_NAME.Submodule import MODULE_NAME`\n",
    "\n",
    "To give a first practical example, we can import a module below that will allow us to display screenshots thorughout the rest of the notebook."
   ]
  },
  {
   "cell_type": "code",
   "execution_count": null,
   "id": "bcde7fd5",
   "metadata": {},
   "outputs": [],
   "source": [
    "# Import a module called image, because I need to show you some images (screenshots) below\n",
    "from IPython.display import Image"
   ]
  },
  {
   "cell_type": "markdown",
   "id": "b0dc67cf",
   "metadata": {
    "lines_to_next_cell": 2
   },
   "source": [
    "In the following sections we will import other modules (such as Numpy) by repeating the same general syntax we just explained.\n",
    "But, before we can get into some more practical basic information on how to use Python, we have to dedicate some of our attention to understanding how to actually get our hands (Python) dirty."
   ]
  },
  {
   "cell_type": "markdown",
   "id": "65a4628d",
   "metadata": {},
   "source": [
    "## Computational tools for Urban Data Science\n",
    "\n",
    "In this notebook we will introduce the main tools we will be working with throughout the rest of the course. Although very basic and seemingly abstract, everything showed here will become the basis on top of which we will build more sophisticated (and fun) tasks. But, before, let us get to know the tools that will give us data super-powers."
   ]
  },
  {
   "cell_type": "markdown",
   "id": "f1d80b04",
   "metadata": {},
   "source": [
    "This course will introduce you to a series of computational tools that make the life of the Data Scientist possible, and much easier. All of them are [open-source](https://en.wikipedia.org/wiki/Open_source), which means the creators of these pieces of software have made available the source code for people to use it, study it, modify it, and re-distribute it. This has allowed a large eco-system that today represents the best option for scientific computing, and is used widely both in industry and academia. Thanks to this, this course can be taught with entirely freely available tools that you can install in any of your computers.\n",
    "\n",
    "If you want to learn more about open-source and free software, here are a few links:\n",
    "\n",
    "* **[Video]**: brief [explanation](https://www.youtube.com/watch?v=Tyd0FO0tko8) of open source.\n",
    "* **[Book]** [The Cathedral and the Bazaar](https://en.wikipedia.org/wiki/The_Cathedral_and_the_Bazaar): classic book, freely available, that documents the benefits and history of open-source software."
   ]
  },
  {
   "cell_type": "markdown",
   "id": "8e4414eb",
   "metadata": {},
   "source": [
    "### `Jupyter` Lab"
   ]
  },
  {
   "cell_type": "markdown",
   "id": "c08413bd",
   "metadata": {},
   "source": [
    "The main computational tool you will be using during this course is [Jupyter Lab](https://jupyter.org/). The Lab is an app to interact with scientific computing, mainly through the so-called Jupyter notebooks. Notebooks are a convenient way to thread text, code and the output it produces in a single file that you can then share, edit and modify. You can think of notebooks as the Word document of Data Scientists."
   ]
  },
  {
   "cell_type": "markdown",
   "id": "1063bff7",
   "metadata": {},
   "source": [
    "#### Start the Lab"
   ]
  },
  {
   "cell_type": "markdown",
   "id": "85687ffe",
   "metadata": {},
   "source": [
    "**Trivik needs to complete this part: are there any other software options we should add?**\n",
    "\n",
    "How you begin a lab session depends on the install you have. A few options:\n",
    "\n",
    "* If you installed the stack through the `conda` approach (Option 1 in the guide), you can type the following command on a terminal (`Anaconda prompt` on Windows, or `Terminal.app` on macOS):\n",
    "\n",
    "```\n",
    "> conda activate gds\n",
    "```\n",
    "\n",
    "Then launch `Jupyter` by typing on the same terminal:\n",
    "\n",
    "```\n",
    "> jupyter Lab\n",
    "```\n",
    "\n",
    "This should bring up a browser window with a home page that looks more or less like this:"
   ]
  },
  {
   "cell_type": "markdown",
   "id": "f4dbfb11",
   "metadata": {},
   "source": [
    "---"
   ]
  },
  {
   "cell_type": "markdown",
   "id": "2d0b63b9",
   "metadata": {},
   "source": [
    "**SHOULD WE UPDATE THESE IMAGES?**"
   ]
  },
  {
   "cell_type": "code",
   "execution_count": null,
   "id": "be101276",
   "metadata": {},
   "outputs": [],
   "source": [
    "Image(\"figs/lab0_jupyter_home.png\")"
   ]
  },
  {
   "cell_type": "markdown",
   "id": "b6cde74f",
   "metadata": {},
   "source": [
    "Navigate until the folder where you have placed the `lab_00.ipynb` file for this tutorial and click on it. This will open the notebook on a different tab. You are now on the interactive version of the notebook!\n",
    "\n",
    "When you are finished with the session, you can save the notebook with `File -> Save Notebook`. Everything you do on the notebook (text, code and output) is saved into an `.ipynb` file that you can open later, share, etc."
   ]
  },
  {
   "cell_type": "markdown",
   "id": "4fd1ee99",
   "metadata": {},
   "source": [
    "# Creating and documenting Jupyter Notebooks"
   ]
  },
  {
   "cell_type": "markdown",
   "id": "3be2a244",
   "metadata": {},
   "source": [
    "Creating well built and documented Jupyter Notebooks is an essential part of your job as data scientist. This will not only give you a chance to share your code, ideas and results with other people in an understanble format. It will also give you a chance in the future to go back to your own work and properly understand your entire thought process.\n",
    "\n",
    "We can start this small *documentation* section by analysing some basic building blocks of Jupyter Notebooks."
   ]
  },
  {
   "cell_type": "markdown",
   "id": "e23abef9",
   "metadata": {},
   "source": [
    "## Cells"
   ]
  },
  {
   "cell_type": "markdown",
   "id": "41d84388",
   "metadata": {},
   "source": [
    "The main building block of notebooks are cells. These are chunks of the same time of content which can be cut, pasted, and moved around in a notebook. Cells can be of two types:\n",
    "\n",
    "* **Text**, like the one where this is written.\n",
    "* **Code**, like the following one below:\n",
    "\n",
    "You can play the small video below to understand how to create different kinds of cells."
   ]
  },
  {
   "cell_type": "code",
   "execution_count": null,
   "id": "dc94e232",
   "metadata": {},
   "outputs": [],
   "source": [
    "from IPython.display import Video  # importing a library to upload the video"
   ]
  },
  {
   "cell_type": "code",
   "execution_count": null,
   "id": "2cb0501a",
   "metadata": {},
   "outputs": [],
   "source": [
    "Video(\"figs/lab-00_cell_creation.mp4\")"
   ]
  },
  {
   "cell_type": "markdown",
   "id": "91f1318d",
   "metadata": {},
   "source": [
    "---\n",
    "**Pro tip!**:\n",
    "Cells can also be created with shortcuts. If you press `<escape>` and then `b` (`a`), a new cell will be created below (above). There is a whole bunch of shortcuts you can explore by pressing `<escape>` and `h` (press `<escape>` again to leave the help).\n",
    "\n",
    "---"
   ]
  },
  {
   "cell_type": "markdown",
   "id": "4689d4dd",
   "metadata": {},
   "source": [
    "## Code and its output\n",
    "\n",
    "A particularly useful feature of notebooks is that you can save, in the same place, the code you use to generate any output (tables, figures, etc.). As an example, the cell below contains a snipet of Python that returns a printed statement. This statement is then printed below and recorded in the notebook as output:"
   ]
  },
  {
   "cell_type": "code",
   "execution_count": null,
   "id": "b2430b91",
   "metadata": {},
   "outputs": [],
   "source": [
    "print(\"Hello world!!!\")"
   ]
  },
  {
   "cell_type": "markdown",
   "id": "fbf8f86f",
   "metadata": {},
   "source": [
    "Note also how the notebook has automatic syntax highlighting support for Python. This makes the code much more readable and understandable."
   ]
  },
  {
   "cell_type": "markdown",
   "id": "66a0e2ac",
   "metadata": {},
   "source": [
    "Also, sometimes the code you are implementing will result in really large outputs. Thus, if you want to make sure that your notebook is still visually pleasing and easily interpretable you can use the following tricks:\n",
    "* Collapse the output by going to: **View** -- **Collapse selected outputs**. You can also decide to collapse all outputs. Finally, the same options can be used for your code.\n",
    "* Enable scrolling for outputs: **Right click on random area of the notebook** -- **Enable Scrolling for Outputs**"
   ]
  },
  {
   "cell_type": "markdown",
   "id": "0b55d2d6",
   "metadata": {},
   "source": [
    "## Markdown"
   ]
  },
  {
   "cell_type": "markdown",
   "id": "11b9c896",
   "metadata": {
    "jp-MarkdownHeadingCollapsed": true
   },
   "source": [
    "Text cells in a notebook use the [Github Flavored Markdown](https://help.github.com/articles/github-flavored-markdown/) markup language. This means you can write plain text with some rules and the notebook renders a more visually appealing version of it.\n",
    "Let's see some examples by using the table displayed below."
   ]
  },
  {
   "cell_type": "code",
   "execution_count": null,
   "id": "b80cdcfb",
   "metadata": {},
   "outputs": [],
   "source": [
    "Image(\"figs/Markdown_table.jpg\")"
   ]
  },
  {
   "cell_type": "markdown",
   "id": "596f3486",
   "metadata": {},
   "source": [
    "\n",
    "You can see a more in detail introduction in the following links:\n",
    "\n",
    "> https://help.github.com/articles/markdown-basics/\n",
    "\n",
    "> https://help.github.com/articles/github-flavored-markdown/"
   ]
  },
  {
   "cell_type": "markdown",
   "id": "7977ca84",
   "metadata": {},
   "source": [
    "# Getting Started with Python"
   ]
  },
  {
   "cell_type": "markdown",
   "id": "38f6db6f",
   "metadata": {},
   "source": [
    "The main bulk of the course relies on the [Python](https://www.python.org/) programming language. Python is a [high-level](https://en.wikipedia.org/wiki/High-level_programming_language) programming language widely used today. To give a couple of examples of its relevance, it is underlying [most of the Dropbox](https://www.quora.com/How-does-dropbox-use-python-What-features-are-implemented-in-it-any-tangentially-related-material?share=1) systems, but also heavily [used](https://www.python.org/about/success/usa/) to control satellites at NASA. A great deal of Science is also done in Python, from [research in astronomy](https://www.youtube.com/watch?v=mLuIB8aW2KA) at UC Berkley, to [open-source courses in economics](https://quantecon.org/) by Nobel Prize Professors.\n",
    "\n",
    "This course uses Python because it has emerged as one of the main and most solid options for Data Science, together with other free alternatives such as R. Python is widely used for data processing and analysis both in academia and in industry. There is a vibrant and growing scientific community ([example](https://scipy.org/) and [example](https://pydata.org/)), working at both universities and companies, that supports and enhances its capabilities for data analysis by providing new and refining existing extensions (a.ka.a. libraries, see below). In the geospatial world, Python is also very widely adopted, being the selected language for scripting in both [ArcGIS](https://www.esri.com/software/arcgis) and [QGIS](https://qgis.org). All of this means that, whether you are thinking of continuing in Higher Education or trying to find a job in industry, Python will be an importan asset that employers will significantly value.\n",
    "\n",
    "Being a high-level language means that the code can be \"dynamically interpreted\", which means it is run on-the-fly without the need to be compiled. This is in contrast to \"low-level\" programming languages, which first need to be converted into machine code (i.e. compiled) before they can be run. With Python, one does not need to worry about compilation and can just write code, evaluate, fix it, re-evaluate it, etc. in a quick cycle, making it a very productive tool. The rest of this tutorial covers some of the basic elements of the language, from conventions like how to comment your code, to the basic data structures available.\n",
    "\n",
    "The rest of the tutorial is partly inspired by the introductory lesson in [this course](https://github.com/barbagroup/CFDPython) by Lorena Barba's group."
   ]
  },
  {
   "cell_type": "markdown",
   "id": "593df6f1",
   "metadata": {},
   "source": [
    "## Python libraries"
   ]
  },
  {
   "cell_type": "markdown",
   "id": "f77908e1",
   "metadata": {},
   "source": [
    "The standard Python language includes some data structures (e.g. lists, dictionaries, etc. See below) and allows many basic operations (e.g. sum, product, etc.). For example, right out of the box, and without any further action needed, you can use Python as a calculator:"
   ]
  },
  {
   "cell_type": "code",
   "execution_count": null,
   "id": "0aba599b",
   "metadata": {},
   "outputs": [],
   "source": [
    "3 + 5"
   ]
  },
  {
   "cell_type": "code",
   "execution_count": null,
   "id": "95a3ba5b",
   "metadata": {},
   "outputs": [],
   "source": [
    "2.0 / 3"
   ]
  },
  {
   "cell_type": "code",
   "execution_count": null,
   "id": "297690ad",
   "metadata": {},
   "outputs": [],
   "source": [
    "(3 + 5) * 2.0 / 3"
   ]
  },
  {
   "cell_type": "markdown",
   "id": "cbe31643",
   "metadata": {},
   "source": [
    "However, the strength of Python as a data analysis tool comes from the extensions provided separately that add functionality and provide access to much more sophisticated data structures and functions. These come in the form of packages, or libraries, that once installed need to be imported into a session.\n",
    "\n",
    "In this course, we will be using many of the core libraries of what has been called the \"PyData stack\", the set of libraries that make Python a full-fledge system for Data Science. We will introduce them gradually as we need them for particular tasks but, for now, let us have a look at the foundational library, [numpy](https://www.numpy.org/) (short for numerical Python). Importing it involves the following line of code:"
   ]
  },
  {
   "cell_type": "code",
   "execution_count": null,
   "id": "efd07b07",
   "metadata": {},
   "outputs": [],
   "source": [
    "import numpy as np  # we rename it in the session as `np` by convention"
   ]
  },
  {
   "cell_type": "markdown",
   "id": "47e3b29d",
   "metadata": {},
   "source": [
    "Note how we import it *and* rename it in the session, from `numpy` to `np`, which is shorter and more convenient.\n",
    "\n",
    "Note also how comments work in Python: everything in a line *after* the `#` sign is ignored by Python when it evaluates the code. This allows you to insert comments that Python will ignore but that can help you and others better understand the code."
   ]
  },
  {
   "cell_type": "markdown",
   "id": "fc931a41",
   "metadata": {},
   "source": [
    "Once imports are out of the way, let us start exploring what we can do with `numpy`. One of the easiest tasks is to create a sequence of numbers:"
   ]
  },
  {
   "cell_type": "code",
   "execution_count": null,
   "id": "8a9a08e4",
   "metadata": {},
   "outputs": [],
   "source": [
    "seq = np.arange(10)\n",
    "seq"
   ]
  },
  {
   "cell_type": "markdown",
   "id": "bc5ac0a7",
   "metadata": {},
   "source": [
    "The first thing to note is that, in line 1, we create the sequence by calling the function `arange` and assign it to an object called `seq` (it could have been called anything else, pick your favorite) and, in line 2, we have it printed as the output of the cell.\n",
    "\n",
    "Another interesting feature is how, since we are calling a `numpy` function called `arange` by adding `np.` in front. This is to note that the function comes explicitly from `numpy`. To find out how necessary this is, you can try generating the sequence without `np`:"
   ]
  },
  {
   "cell_type": "code",
   "execution_count": null,
   "id": "d562d8d5",
   "metadata": {},
   "outputs": [],
   "source": [
    "# NOTE: comment out to run the cell\n",
    "# seq = arange(10)"
   ]
  },
  {
   "cell_type": "markdown",
   "id": "e213843a",
   "metadata": {},
   "source": [
    "What you get instead is an error, also called a \"traceback\". In particular, Python is telling that it cannot find a function named `arange` in the core library. This is because that particular function is only available in `numpy`."
   ]
  },
  {
   "cell_type": "markdown",
   "id": "2d4aee52",
   "metadata": {},
   "source": [
    "## Variables"
   ]
  },
  {
   "cell_type": "markdown",
   "id": "fd34d180",
   "metadata": {},
   "source": [
    "A basic feature of Python is the ability to assign a name to different \"things\", or objects. These can also be called sometimes \"variables\". We have already seen that in the example above but, let us make it more explicit. For example, an object can be a single number:"
   ]
  },
  {
   "cell_type": "code",
   "execution_count": null,
   "id": "cc5efa6b",
   "metadata": {},
   "outputs": [],
   "source": [
    "a = 3"
   ]
  },
  {
   "cell_type": "markdown",
   "id": "d0553bae",
   "metadata": {},
   "source": [
    "Or a name, also called \"string\":"
   ]
  },
  {
   "cell_type": "code",
   "execution_count": null,
   "id": "f099b762",
   "metadata": {},
   "outputs": [],
   "source": [
    "b = \"Hello World\""
   ]
  },
  {
   "cell_type": "markdown",
   "id": "f2e6a22b",
   "metadata": {},
   "source": [
    "You can check what type an object is also easily:"
   ]
  },
  {
   "cell_type": "code",
   "execution_count": null,
   "id": "217859ee",
   "metadata": {},
   "outputs": [],
   "source": [
    "type(a)"
   ]
  },
  {
   "cell_type": "markdown",
   "id": "f473c288",
   "metadata": {},
   "source": [
    "`int` is short for \"integer\" which, roughly speaking, means an whole number. If you want to save a number with decimals, you will be using floats:"
   ]
  },
  {
   "cell_type": "code",
   "execution_count": null,
   "id": "1004e488",
   "metadata": {},
   "outputs": [],
   "source": [
    "c = 1.5\n",
    "type(c)"
   ]
  },
  {
   "cell_type": "markdown",
   "id": "38842279",
   "metadata": {},
   "source": [
    "As mentioned, what we understand as letters in a wide sense (spaces and other signs count too) is called \"strings\" (`str` in short):"
   ]
  },
  {
   "cell_type": "code",
   "execution_count": null,
   "id": "50565537",
   "metadata": {},
   "outputs": [],
   "source": [
    "type(b)"
   ]
  },
  {
   "cell_type": "markdown",
   "id": "a71b930e",
   "metadata": {},
   "source": [
    "### Tuples"
   ]
  },
  {
   "cell_type": "markdown",
   "id": "c372a307",
   "metadata": {},
   "source": [
    "Multiple items on one line in the interface are returned as a *tuple*, an immutable sequence of Python objects. See later part of this notebook for an interesting use of `tuples`."
   ]
  },
  {
   "cell_type": "code",
   "execution_count": null,
   "id": "7775ee51",
   "metadata": {},
   "outputs": [],
   "source": [
    "a = 1\n",
    "b = 2.0\n",
    "a + a, a - b, b * b, 10 * a"
   ]
  },
  {
   "cell_type": "markdown",
   "id": "3e4293fa",
   "metadata": {},
   "source": [
    "## Help"
   ]
  },
  {
   "cell_type": "markdown",
   "id": "8e4818ba",
   "metadata": {},
   "source": [
    "A very handy feature of Python is the ability to access on-the-spot help for its different functions. This means that you can check what a function is supposed to do, or how to access it, right inside your Python session. Of course, this also works handsomely inside a notebook. There are a couple of ways to access the help.\n",
    "\n",
    "Take the `numpy` function `arange` that we have used above. The easiest way to check interactively how to use it is by:"
   ]
  },
  {
   "cell_type": "code",
   "execution_count": null,
   "id": "38ef1822",
   "metadata": {},
   "outputs": [],
   "source": [
    "np.arange?"
   ]
  },
  {
   "cell_type": "markdown",
   "id": "2b589a83",
   "metadata": {},
   "source": [
    "As you can see, this brings up a sub-window in the browser with all the information you need.\n",
    "\n",
    "If, for whatever reason, you needed to print that info into the notebook itself, you can do the following:"
   ]
  },
  {
   "cell_type": "code",
   "execution_count": null,
   "id": "e37bfbe5",
   "metadata": {},
   "outputs": [],
   "source": [
    "help(np.arange)"
   ]
  },
  {
   "cell_type": "markdown",
   "id": "fd39b248",
   "metadata": {},
   "source": [
    "## Control flow"
   ]
  },
  {
   "cell_type": "markdown",
   "id": "46d936a9",
   "metadata": {},
   "source": [
    "Although this does not intend to be a comprehensive introduction to computer programming or general purpose Python (check the references for that, in particular Allen Downey's [book](https://www.greenteapress.com/thinkpython/thinkpython.html)), it is important to be aware of two building blocks of almost any computer program: `for` loops and `if` statements. It is possible that you will never require them for this course, as all that is used here is based on existing methods and functions, but it is always useful to know they exist and to be able to recognize them. They can also come in very handy in cases where you some extra functionality out of standard methods. Without further ado, let us have a look and the two single most relevant tools of computer programming."
   ]
  },
  {
   "cell_type": "markdown",
   "id": "3fbf17e3",
   "metadata": {},
   "source": [
    "### 'for' loops"
   ]
  },
  {
   "cell_type": "markdown",
   "id": "40d356ba",
   "metadata": {},
   "source": [
    "These allow  you to repeat a particular action or task over a sequence. As an example, you can print your name ten times without having to type it yourself every single time:"
   ]
  },
  {
   "cell_type": "code",
   "execution_count": null,
   "id": "54fcc441",
   "metadata": {},
   "outputs": [],
   "source": [
    "for i in np.arange(10):\n",
    "    print(\"my name\")"
   ]
  },
  {
   "cell_type": "markdown",
   "id": "9e69217b",
   "metadata": {},
   "source": [
    "Note a couple of features in the loop:\n",
    "\n",
    "1. You loop *over* a sequence, in this particular case the sequence of ten numbers created by `np.arange(10)`.\n",
    "1. In every step, for every element of the sequence in this case, you repeat an action. Here we are printing the same text, `my name`.\n",
    "1. Although not used in this loop, each of the elements you loop over can be accessed inside the loop. This can be irrelevant, as in the loop above, or extremely useful, it depends on the context. For example, see a case where you use the value of the sequence in each step:"
   ]
  },
  {
   "cell_type": "code",
   "execution_count": null,
   "id": "0cc450f1",
   "metadata": {},
   "outputs": [],
   "source": [
    "for i in np.arange(10):\n",
    "    print(\"I am at step \", i)"
   ]
  },
  {
   "cell_type": "markdown",
   "id": "c3d4310a",
   "metadata": {},
   "source": [
    "One more note: for convention, we are calling the element of the sequence `i`, but this could be named anything. In fact, in many cases, more meaningful names make code much more readable. For example, you could think of a re-write of the loop above as:"
   ]
  },
  {
   "cell_type": "code",
   "execution_count": null,
   "id": "1213a780",
   "metadata": {},
   "outputs": [],
   "source": [
    "for step in np.arange(10):\n",
    "    print(\"I am at step \", step)"
   ]
  },
  {
   "cell_type": "markdown",
   "id": "1ffce6a3",
   "metadata": {},
   "source": [
    "### 'if' statements"
   ]
  },
  {
   "cell_type": "markdown",
   "id": "a5e06930",
   "metadata": {},
   "source": [
    "We have just seen how `for` loops allow you to repeat an action over a sequence. In the case of `if` statements, these allow you to select or restrict such actions to only those cases that meet a condition(s) you specify in the statement.\n",
    "\n",
    "For example, if you think of the loops written above, you might want to only print those that are odd, skipping those that are even:"
   ]
  },
  {
   "cell_type": "code",
   "execution_count": null,
   "id": "52f066c6",
   "metadata": {},
   "outputs": [],
   "source": [
    "for i in np.arange(10):\n",
    "    if i % 2:\n",
    "        print(i)"
   ]
  },
  {
   "cell_type": "markdown",
   "id": "c812d12c",
   "metadata": {},
   "source": [
    "Ignore for the moment the part `i%2`, just remember this is one way Python has to check if a number is odd. The important bit in this loop, as compared to the less complex one above, is that we are using an `if` statement to select only those candidates that meet the condition. In other words, what we are doing it looping over every number in the sequence from zero to nine (`for i in np.arange(10)`) and checking if they are even or odd (`if i%2`). If they meet the condition, they are odd, then we proceed and print them on the screen."
   ]
  },
  {
   "cell_type": "markdown",
   "id": "b0a21847",
   "metadata": {},
   "source": [
    "A full `if` statement also allows for an action to be taken if the original condition is not satisfied. This is called an \"ifelse\" statement. For example, you can think of a loop that prints the type of each number in a sequence:"
   ]
  },
  {
   "cell_type": "code",
   "execution_count": null,
   "id": "435c2c3c",
   "metadata": {},
   "outputs": [],
   "source": [
    "for i in np.arange(10):\n",
    "    # Check if it is odd\n",
    "    if i % 2:\n",
    "        print(i, \" is odd\")\n",
    "    # If not odd (even), then do the following\n",
    "    else:\n",
    "        print(i, \" is even\")"
   ]
  },
  {
   "cell_type": "markdown",
   "id": "180fe475",
   "metadata": {},
   "source": [
    "## Data structures"
   ]
  },
  {
   "cell_type": "markdown",
   "id": "1bc2b55f",
   "metadata": {},
   "source": [
    "The standard python you can access without importing any additional libraries contains a few core data structures that is very handy to know. Most of data analysis is done on top of other structures specifically designed for the purpose (numpy arrays and pandas dataframes, mostly. See the following sessions for more details), but some understanding of these core Python structures is very useful. In this context, we will look at three: values, lists, and dictionaries."
   ]
  },
  {
   "cell_type": "markdown",
   "id": "ec46ef3c",
   "metadata": {},
   "source": [
    "### Values"
   ]
  },
  {
   "cell_type": "markdown",
   "id": "df0bd579",
   "metadata": {},
   "source": [
    "These are the most basic elements to organize data and information in Python. You can think of them as numbers (integers or floats) or words (strings). Typically, these are the elements that will be stored in lists and dictionaries.\n",
    "\n",
    "An integer is a whole number:"
   ]
  },
  {
   "cell_type": "code",
   "execution_count": null,
   "id": "acbc8a21",
   "metadata": {},
   "outputs": [],
   "source": [
    "i = 5\n",
    "type(i)"
   ]
  },
  {
   "cell_type": "markdown",
   "id": "def7f6d4",
   "metadata": {},
   "source": [
    "A float is a number that allows for decimals:"
   ]
  },
  {
   "cell_type": "code",
   "execution_count": null,
   "id": "03a45062",
   "metadata": {},
   "outputs": [],
   "source": [
    "f = 5.2\n",
    "type(f)"
   ]
  },
  {
   "cell_type": "markdown",
   "id": "3f4fa873",
   "metadata": {},
   "source": [
    "Note that a float can also not have decimals and still be stored as such:"
   ]
  },
  {
   "cell_type": "code",
   "execution_count": null,
   "id": "913f08ca",
   "metadata": {},
   "outputs": [],
   "source": [
    "fw = 5.0\n",
    "type(fw)"
   ]
  },
  {
   "cell_type": "markdown",
   "id": "9f9dc876",
   "metadata": {},
   "source": [
    "However, they are different representations:"
   ]
  },
  {
   "cell_type": "code",
   "execution_count": null,
   "id": "2dae13f6",
   "metadata": {},
   "outputs": [],
   "source": [
    "f == fw"
   ]
  },
  {
   "cell_type": "markdown",
   "id": "285bf265",
   "metadata": {},
   "source": [
    "### Lists"
   ]
  },
  {
   "cell_type": "markdown",
   "id": "0a2374d4",
   "metadata": {},
   "source": [
    "A list is an ordered sequence of values that can be of mixed types. They are represented between squared brackets (`[]`) and, although not very efficient in memory terms, are very flexible and useful to \"put things together\".\n",
    "\n",
    "Much of Python is based on the notion of a list.  In Python, a list is a sequence of items separated by commas, all within square brackets.  The items can be integers, floating points, or another type.  Unlike in C arrays, items in a Python list can be different types, so Python lists are more versatile than traditional arrays in C or other languages.\n",
    "\n",
    "For example, the following list of integers:"
   ]
  },
  {
   "cell_type": "code",
   "execution_count": null,
   "id": "266ebdaa",
   "metadata": {},
   "outputs": [],
   "source": [
    "l = [1, 2, 3, 4, 5]\n",
    "l"
   ]
  },
  {
   "cell_type": "code",
   "execution_count": null,
   "id": "fb22ef55",
   "metadata": {},
   "outputs": [],
   "source": [
    "type(l)"
   ]
  },
  {
   "cell_type": "markdown",
   "id": "a1929f79",
   "metadata": {},
   "source": [
    "Or the following mixed one:"
   ]
  },
  {
   "cell_type": "code",
   "execution_count": null,
   "id": "556450b8",
   "metadata": {},
   "outputs": [],
   "source": [
    "m = [\"a\", \"b\", 5, \"c\", 6, 7]\n",
    "m"
   ]
  },
  {
   "cell_type": "markdown",
   "id": "5132ac22",
   "metadata": {},
   "source": [
    "### Dictionaries"
   ]
  },
  {
   "cell_type": "markdown",
   "id": "1d8f1414",
   "metadata": {},
   "source": [
    "Dictionaries are unordered collections of \"keys\" and \"values\". A key, which can be of any kind, is the element associated with a \"value\", which can also be of any kind. Dictionaries are used when order is not important but you need fast and convenient lookup. They are expressed in curly brackets, with keys and values being linked through columns.\n",
    "\n",
    "For example, we can think of a dictionary to store a series of names and the ages of the people they represent:"
   ]
  },
  {
   "cell_type": "code",
   "execution_count": null,
   "id": "cc073dfb",
   "metadata": {},
   "outputs": [],
   "source": [
    "ages = {\"Ana\": 24, \"John\": 20, \"Li\": 27, \"Ivan\": 40, \"Tali\": 33}\n",
    "ages"
   ]
  },
  {
   "cell_type": "code",
   "execution_count": null,
   "id": "8329414c",
   "metadata": {},
   "outputs": [],
   "source": [
    "type(ages)"
   ]
  },
  {
   "cell_type": "markdown",
   "id": "e3d04e7a",
   "metadata": {},
   "source": [
    "### Working with lists"
   ]
  },
  {
   "cell_type": "markdown",
   "id": "8e3cf69f",
   "metadata": {},
   "source": [
    "Lists can be queried and sliced. For example, the first element can be retrieved by:"
   ]
  },
  {
   "cell_type": "code",
   "execution_count": null,
   "id": "051ff190",
   "metadata": {},
   "outputs": [],
   "source": [
    "l[0]"
   ]
  },
  {
   "cell_type": "markdown",
   "id": "8a043354",
   "metadata": {},
   "source": [
    "Or the second to the fourth:"
   ]
  },
  {
   "cell_type": "code",
   "execution_count": null,
   "id": "3ae81b06",
   "metadata": {},
   "outputs": [],
   "source": [
    "m[1:4]"
   ]
  },
  {
   "cell_type": "markdown",
   "id": "4c72dfac",
   "metadata": {},
   "source": [
    "Lists can be added:"
   ]
  },
  {
   "cell_type": "code",
   "execution_count": null,
   "id": "cd4d89f2",
   "metadata": {},
   "outputs": [],
   "source": [
    "l + m"
   ]
  },
  {
   "cell_type": "markdown",
   "id": "055663eb",
   "metadata": {},
   "source": [
    "New elements added:"
   ]
  },
  {
   "cell_type": "code",
   "execution_count": null,
   "id": "16023253",
   "metadata": {},
   "outputs": [],
   "source": [
    "l.append(4)\n",
    "l"
   ]
  },
  {
   "cell_type": "markdown",
   "id": "0b2272c2",
   "metadata": {},
   "source": [
    "Or modified:"
   ]
  },
  {
   "cell_type": "code",
   "execution_count": null,
   "id": "61fda9a7",
   "metadata": {},
   "outputs": [],
   "source": [
    "l[1]"
   ]
  },
  {
   "cell_type": "code",
   "execution_count": null,
   "id": "bcbe17ee",
   "metadata": {},
   "outputs": [],
   "source": [
    "l[1] = \"two\"\n",
    "l[1]"
   ]
  },
  {
   "cell_type": "code",
   "execution_count": null,
   "id": "bbe1f08b",
   "metadata": {},
   "outputs": [],
   "source": [
    "l"
   ]
  },
  {
   "cell_type": "markdown",
   "id": "95421532",
   "metadata": {},
   "source": [
    "Let's name them properly and explore advanced list use."
   ]
  },
  {
   "cell_type": "code",
   "execution_count": null,
   "id": "030c58be",
   "metadata": {},
   "outputs": [],
   "source": [
    "empty_list = []\n",
    "float_list = [1.0, 3.0, 5.0, 4.0, 2.0]\n",
    "int_list = [1, 2, 3, 4, 5, 6, 7, 8, 9, 10]\n",
    "mixed_list = [1, 2.0, 3, 4.0, 5]\n",
    "print(empty_list)\n",
    "print(int_list)\n",
    "print(mixed_list, float_list)"
   ]
  },
  {
   "cell_type": "markdown",
   "id": "6f979b72",
   "metadata": {},
   "source": [
    "Lists in Python are zero-indexed, as in C.  The first entry of the list has index 0, the second has index 1, and so on."
   ]
  },
  {
   "cell_type": "code",
   "execution_count": null,
   "id": "337d85b4",
   "metadata": {},
   "outputs": [],
   "source": [
    "print(int_list[0])\n",
    "print(float_list[1])"
   ]
  },
  {
   "cell_type": "markdown",
   "id": "02521ed0",
   "metadata": {},
   "source": [
    "What happens if we try to use an index that doesn't exist for that list?  Python will complain!"
   ]
  },
  {
   "cell_type": "code",
   "execution_count": null,
   "id": "1ff7072e",
   "metadata": {},
   "outputs": [],
   "source": [
    "# uncomment to run\n",
    "# print(float_list[10])"
   ]
  },
  {
   "cell_type": "markdown",
   "id": "f73371fd",
   "metadata": {},
   "source": [
    "You can find the length of a list using the built-in function `len`:"
   ]
  },
  {
   "cell_type": "code",
   "execution_count": null,
   "id": "c2df9073",
   "metadata": {},
   "outputs": [],
   "source": [
    "print(float_list)\n",
    "len(float_list)"
   ]
  },
  {
   "cell_type": "markdown",
   "id": "7c79fe5f",
   "metadata": {},
   "source": [
    "#### Indexing on lists plus slicing"
   ]
  },
  {
   "cell_type": "markdown",
   "id": "c9e1307b",
   "metadata": {},
   "source": [
    "And since Python is zero-indexed, the last element of `float_list` is"
   ]
  },
  {
   "cell_type": "code",
   "execution_count": null,
   "id": "f6ed9ce2",
   "metadata": {},
   "outputs": [],
   "source": [
    "float_list[len(float_list) - 1]"
   ]
  },
  {
   "cell_type": "markdown",
   "id": "cd08e076",
   "metadata": {},
   "source": [
    "It is more idiomatic in Python to use -1 for the last element, -2 for the second last, and so on"
   ]
  },
  {
   "cell_type": "code",
   "execution_count": null,
   "id": "0a8ae770",
   "metadata": {},
   "outputs": [],
   "source": [
    "float_list[-1]"
   ]
  },
  {
   "cell_type": "markdown",
   "id": "314a2539",
   "metadata": {},
   "source": [
    "We can use the ``:`` operator to access a subset of the list.  This is called **slicing.**"
   ]
  },
  {
   "cell_type": "code",
   "execution_count": null,
   "id": "cf5c6ccb",
   "metadata": {},
   "outputs": [],
   "source": [
    "print(float_list[1:5])\n",
    "print(float_list[0:2])"
   ]
  },
  {
   "cell_type": "code",
   "execution_count": null,
   "id": "6a0092e7",
   "metadata": {},
   "outputs": [],
   "source": [
    "lst = [\"hi\", 7, \"c\", \"cat\", \"hello\", 8]\n",
    "lst[:2]"
   ]
  },
  {
   "cell_type": "markdown",
   "id": "778215fa",
   "metadata": {},
   "source": [
    "You can slice \"backwards\" as well:"
   ]
  },
  {
   "cell_type": "code",
   "execution_count": null,
   "id": "4706b6ff",
   "metadata": {},
   "outputs": [],
   "source": [
    "float_list[:-2]  # up to second last"
   ]
  },
  {
   "cell_type": "code",
   "execution_count": null,
   "id": "5160ba65",
   "metadata": {},
   "outputs": [],
   "source": [
    "float_list[:4]  # up to but not including 5th element"
   ]
  },
  {
   "cell_type": "markdown",
   "id": "737456f1",
   "metadata": {},
   "source": [
    "You can also slice with a stride:"
   ]
  },
  {
   "cell_type": "code",
   "execution_count": null,
   "id": "06415836",
   "metadata": {},
   "outputs": [],
   "source": [
    "float_list[:4:2]  # above but skipping every second element"
   ]
  },
  {
   "cell_type": "markdown",
   "id": "80b974aa",
   "metadata": {},
   "source": [
    "We can iterate through a list using a loop.  Here's a **for loop.**"
   ]
  },
  {
   "cell_type": "code",
   "execution_count": null,
   "id": "4c7de1d1",
   "metadata": {},
   "outputs": [],
   "source": [
    "for ele in float_list:\n",
    "    print(ele)"
   ]
  },
  {
   "cell_type": "markdown",
   "id": "33f42d94",
   "metadata": {},
   "source": [
    "What if you wanted the index as well?"
   ]
  },
  {
   "cell_type": "markdown",
   "id": "25499d5a",
   "metadata": {},
   "source": [
    "Use the built-in python method `enumerate`,  which can be used to create a list of tuples with each tuple of the form `(index, value)`."
   ]
  },
  {
   "cell_type": "code",
   "execution_count": null,
   "id": "494052e2",
   "metadata": {},
   "outputs": [],
   "source": [
    "for i, ele in enumerate(float_list):\n",
    "    print(i, ele)"
   ]
  },
  {
   "cell_type": "markdown",
   "id": "42a0ae29",
   "metadata": {},
   "source": [
    "#### Appending and deleting"
   ]
  },
  {
   "cell_type": "markdown",
   "id": "234132f2",
   "metadata": {},
   "source": [
    "We can also append items to the end of the list using the `+` operator or with `append`."
   ]
  },
  {
   "cell_type": "code",
   "execution_count": null,
   "id": "f6eb219e",
   "metadata": {},
   "outputs": [],
   "source": [
    "float_list + [0.333]"
   ]
  },
  {
   "cell_type": "code",
   "execution_count": null,
   "id": "2b44b057",
   "metadata": {},
   "outputs": [],
   "source": [
    "float_list.append(0.444)"
   ]
  },
  {
   "cell_type": "code",
   "execution_count": null,
   "id": "f80cf951",
   "metadata": {},
   "outputs": [],
   "source": [
    "print(float_list)\n",
    "len(float_list)"
   ]
  },
  {
   "cell_type": "markdown",
   "id": "d4c3232e",
   "metadata": {},
   "source": [
    "Now, run the cell with `float_list.append()` a second time. Then run the subsequent cell. What happens?\n",
    "\n",
    "To remove an item from the list, use `del.`"
   ]
  },
  {
   "cell_type": "code",
   "execution_count": null,
   "id": "6bbbd7fb",
   "metadata": {},
   "outputs": [],
   "source": [
    "del float_list[2]\n",
    "print(float_list)"
   ]
  },
  {
   "cell_type": "markdown",
   "id": "6347d8e8",
   "metadata": {},
   "source": [
    "You may also add an element (elem) in a specific position (index) in the list"
   ]
  },
  {
   "cell_type": "code",
   "execution_count": null,
   "id": "69854270",
   "metadata": {},
   "outputs": [],
   "source": [
    "elem = \"3.14\"\n",
    "index = 1\n",
    "float_list.insert(index, elem)\n",
    "float_list"
   ]
  },
  {
   "cell_type": "markdown",
   "id": "1d33f928",
   "metadata": {},
   "source": [
    "### Working with dictionaries"
   ]
  },
  {
   "cell_type": "markdown",
   "id": "d3458222",
   "metadata": {},
   "source": [
    "Dictionaries can then be queried and values retrieved easily by using their keys. For example, if we quickly want to know Li's age:"
   ]
  },
  {
   "cell_type": "code",
   "execution_count": null,
   "id": "84e194bb",
   "metadata": {},
   "outputs": [],
   "source": [
    "ages[\"Li\"]"
   ]
  },
  {
   "cell_type": "markdown",
   "id": "4d93c000",
   "metadata": {},
   "source": [
    "Similarly to lists, you can modify and assign new values:"
   ]
  },
  {
   "cell_type": "code",
   "execution_count": null,
   "id": "fcdaaa72",
   "metadata": {},
   "outputs": [],
   "source": [
    "ages[\"Juan\"] = 73\n",
    "ages"
   ]
  },
  {
   "cell_type": "markdown",
   "id": "0855b893",
   "metadata": {},
   "source": [
    "Using this property, you can create entirely empty dictionaries and populate them later on:"
   ]
  },
  {
   "cell_type": "code",
   "execution_count": null,
   "id": "7536ee55",
   "metadata": {
    "lines_to_next_cell": 2
   },
   "outputs": [],
   "source": [
    "newdict = {}\n",
    "newdict[\"key1\"] = 1\n",
    "newdict[\"key2\"] = 2\n",
    "newdict"
   ]
  },
  {
   "cell_type": "markdown",
   "id": "7e48ab23",
   "metadata": {},
   "source": [
    "## Functions"
   ]
  },
  {
   "cell_type": "markdown",
   "id": "1df0f881",
   "metadata": {},
   "source": [
    "A *function* object is a reusable block of code that does a specific task.  Functions are commonplace in Python, either on their own or as they belong to other objects. To invoke a function `func`, you call it as `func(arguments)`.\n",
    "\n",
    "We've seen built-in Python functions and methods (details below). For example, `len()` and `print()` are built-in Python functions. And at the beginning, you called `np.mean()` to calculate the mean of three numbers, where `mean()` is a function in the numpy module and numpy was abbreviated as `np`. This syntax allows us to have multiple \"mean\" functions in different modules; calling this one as `np.mean()` guarantees that we will execute numpy's mean function, as opposed to a mean function from a different module."
   ]
  },
  {
   "cell_type": "markdown",
   "id": "ad43a55c",
   "metadata": {},
   "source": [
    "### User defined functions"
   ]
  },
  {
   "cell_type": "markdown",
   "id": "af6c2fd3",
   "metadata": {
    "lines_to_next_cell": 2
   },
   "source": [
    "We'll now learn to write our own user-defined functions.  Below is the syntax for defining a basic function with one input argument and one output. You can also define functions with no input or output arguments, or multiple input or output arguments.\n",
    "\n",
    "```\n",
    "def name_of_function(arg):\n",
    "    ...\n",
    "    return(output)\n",
    "```\n",
    "\n",
    "We can write functions with one input and one output argument. Here are two such functions."
   ]
  },
  {
   "cell_type": "code",
   "execution_count": null,
   "id": "a435e0f9",
   "metadata": {
    "lines_to_next_cell": 2
   },
   "outputs": [],
   "source": [
    "def square(x):\n",
    "    x_sqr = x * x\n",
    "    return x_sqr\n",
    "\n",
    "\n",
    "def cube(x):\n",
    "    x_cub = x * x * x\n",
    "    return x_cub\n",
    "\n",
    "\n",
    "square(5), cube(5)"
   ]
  },
  {
   "cell_type": "markdown",
   "id": "a986d4a9",
   "metadata": {
    "lines_to_next_cell": 2
   },
   "source": [
    "What if you want to return two variables at a time? The usual way is to return a tuple:"
   ]
  },
  {
   "cell_type": "code",
   "execution_count": null,
   "id": "a0ff38dc",
   "metadata": {
    "lines_to_next_cell": 2
   },
   "outputs": [],
   "source": [
    "def square_and_cube(x):\n",
    "    x_cub = x * x * x\n",
    "    x_sqr = x * x\n",
    "    return (x_sqr, x_cub)\n",
    "\n",
    "\n",
    "square_and_cube(5)"
   ]
  },
  {
   "cell_type": "markdown",
   "id": "c9a35a26",
   "metadata": {
    "lines_to_next_cell": 2
   },
   "source": [
    "The motivation to use functions is that, so far, we have only seen how you can create Python code that, if you want to run again somewhere else, you need to copy and paste entirely. However, as we will see in more detail later in the course, one of the main reasons why you want to use Python for data analysis, instead of a point-and-click graphical interface like SPSS, for instance, is that you can easily reuse code and re-run analyses easily. Functions help us accomplish this by encapsulating snippets of code that perform a particular task and making them available to be called.\n",
    "\n",
    "We have already used functions a few times here. When we call ``np.arange``, we are using one of them. Now, we will see how to create a method of our own that performs the specific task we want it to do. For example, let us create a method to reproduce the first loop we created above:"
   ]
  },
  {
   "cell_type": "code",
   "execution_count": null,
   "id": "763a19dd",
   "metadata": {},
   "outputs": [],
   "source": [
    "def run_loop():\n",
    "    for i in np.arange(10):\n",
    "        print(i)\n",
    "    return None"
   ]
  },
  {
   "cell_type": "markdown",
   "id": "294570c9",
   "metadata": {},
   "source": [
    "Already with this method, there is a bunch of interesting things going on:\n",
    "\n",
    "* First, note how we define a bit of code is a method, as oposed to plain Python: we use `def` followed by the name of our function (we have chosen `run_loop`, but we anything could have done).\n",
    "* Second, we append `()` after the name, and finish the line with a colon (`:`). This is necessary and will allow us to specify requirements for the function (see below).\n",
    "* Third, realize that everything inside a function needs to be indented. This is a core property of Python and, although some people find it odd, it enhances readibility greatly.\n",
    "* Fourth, the piece of code to do the task we want, printing the sequence of numbers, is inside the function in the same way it was outside, only properly indented.\n",
    "* Fifth, we finish the method with a line starting by `return`. In this case, we follow it with `None`, but this will change as methods become more sophisticated. Essentially, this is the part of the method where you specify which elements you want it to return and save for later use.\n",
    "\n",
    "Once we have paid attention to these elements, we can see how the method can be *called* and hence the code inside it executed:"
   ]
  },
  {
   "cell_type": "code",
   "execution_count": null,
   "id": "8890e1d3",
   "metadata": {
    "lines_to_next_cell": 2
   },
   "outputs": [],
   "source": [
    "run_loop()"
   ]
  },
  {
   "cell_type": "markdown",
   "id": "91877104",
   "metadata": {},
   "source": [
    "This is the same way that we called `np.arange` before. Note how we do not include the colon (`:`) but simply use the name of the method followed by the parenthesis."
   ]
  },
  {
   "cell_type": "markdown",
   "id": "cb7c0588",
   "metadata": {
    "lines_to_next_cell": 2
   },
   "source": [
    "This method only involves a limited degree of complexity: you do not require any input, and the code produces and output (the printout) but it is not saved anywhere. The rest of this section relaxes these two aspects to allow us to build more complex, but also more useful, methods.\n",
    "\n",
    "First, you can specify \"arguments\" to be passed that modify the behaviour of the method. Remember how we called `np.arange` with a number that implied the length of the sequence we wanted returned. We can do the same thing in our own function. The main aspect to pay attention to in this context is that the arguments need to be variables, not particular values. Let us see a modified example of our method:"
   ]
  },
  {
   "cell_type": "code",
   "execution_count": null,
   "id": "261e60ad",
   "metadata": {},
   "outputs": [],
   "source": [
    "def run_loopX(x):\n",
    "    for i in np.arange(x):\n",
    "        print(i)\n",
    "    return None"
   ]
  },
  {
   "cell_type": "markdown",
   "id": "760bac2f",
   "metadata": {},
   "source": [
    "We have replaced the fixed length of the sequence (10) by a variable named `x` that allows us to specify *any value we want* when we call the method:"
   ]
  },
  {
   "cell_type": "code",
   "execution_count": null,
   "id": "f4e967df",
   "metadata": {},
   "outputs": [],
   "source": [
    "run_loopX(3)"
   ]
  },
  {
   "cell_type": "code",
   "execution_count": null,
   "id": "31103af6",
   "metadata": {},
   "outputs": [],
   "source": [
    "run_loopX(2)"
   ]
  },
  {
   "cell_type": "markdown",
   "id": "ec6ab276",
   "metadata": {},
   "source": [
    "Another way you can build more flexibility into a method is by allowing it to return an output of the computation. In the previous examples, the function performs a computation (i.e. printing values on the screen), but it does not return any value. This is in contrast with, for example, `np.arange` which does return an output, the sequence of values:"
   ]
  },
  {
   "cell_type": "code",
   "execution_count": null,
   "id": "2e664f9d",
   "metadata": {},
   "outputs": [],
   "source": [
    "a = np.arange(10)"
   ]
  },
  {
   "cell_type": "code",
   "execution_count": null,
   "id": "ae53b29e",
   "metadata": {},
   "outputs": [],
   "source": [
    "a"
   ]
  },
  {
   "cell_type": "markdown",
   "id": "e8ac11ef",
   "metadata": {},
   "source": [
    "Our function does not save anything:"
   ]
  },
  {
   "cell_type": "code",
   "execution_count": null,
   "id": "9731bdbc",
   "metadata": {},
   "outputs": [],
   "source": [
    "b = run_loopX(3)"
   ]
  },
  {
   "cell_type": "code",
   "execution_count": null,
   "id": "547b4a91",
   "metadata": {
    "lines_to_next_cell": 2
   },
   "outputs": [],
   "source": [
    "b"
   ]
  },
  {
   "cell_type": "markdown",
   "id": "8596993e",
   "metadata": {
    "lines_to_next_cell": 2
   },
   "source": [
    "We can modify this using the last line of a method. For example, let us assume we want to return a sequence as long as the series of numbers we print on the screen. The method should be:"
   ]
  },
  {
   "cell_type": "code",
   "execution_count": null,
   "id": "d4fbd06f",
   "metadata": {
    "lines_to_next_cell": 2
   },
   "outputs": [],
   "source": [
    "def run_loopXout(x):\n",
    "    for i in np.arange(x):\n",
    "        print(i)\n",
    "    return np.arange(x)"
   ]
  },
  {
   "cell_type": "markdown",
   "id": "36b851a6",
   "metadata": {
    "lines_to_next_cell": 2
   },
   "source": [
    "Note the main difference: instead of returning `None`, we are telling Python to return a sequence, which has the same length as the one used to specify the loop. Now, there is an alternative way of being more efficient in this method, and that is assigning the sequence to a new object and using it when necessary later on. The results are exactly the same, but there are less computations performed and, more critically, we minimize the chances of making mistakes."
   ]
  },
  {
   "cell_type": "code",
   "execution_count": null,
   "id": "4cc7f714",
   "metadata": {},
   "outputs": [],
   "source": [
    "def run_loopXout(x):\n",
    "    seq = np.arange(x)\n",
    "    for i in seq:\n",
    "        print(i)\n",
    "    return seq"
   ]
  },
  {
   "cell_type": "markdown",
   "id": "f8e1574d",
   "metadata": {},
   "source": [
    "Either of these two new versions of the method return an output:"
   ]
  },
  {
   "cell_type": "code",
   "execution_count": null,
   "id": "bad0326f",
   "metadata": {},
   "outputs": [],
   "source": [
    "a = run_loopX(3)\n",
    "b = run_loopXout(3)"
   ]
  },
  {
   "cell_type": "code",
   "execution_count": null,
   "id": "e371dcee",
   "metadata": {},
   "outputs": [],
   "source": [
    "a"
   ]
  },
  {
   "cell_type": "code",
   "execution_count": null,
   "id": "13c11be6",
   "metadata": {
    "lines_to_next_cell": 2
   },
   "outputs": [],
   "source": [
    "b"
   ]
  },
  {
   "cell_type": "markdown",
   "id": "106cb048",
   "metadata": {},
   "source": [
    "The advantage of methods, as oposed to straight code, is that they force us to think in a modular way, helping us identify exactly what needs to be done, in what order, and what it is required. Encapsulating these atomic bits of functionality in methods allows us to write things once and flexibly use them everywhere, saving us time (and headaches) in the long run."
   ]
  },
  {
   "cell_type": "markdown",
   "id": "d8dd72e0",
   "metadata": {
    "lines_to_next_cell": 2
   },
   "source": [
    "A final note on functions. It is important that, whenever you create a function, you include some documentation about what it expects, what it does, and what it returns. Although there are many ways of doing this, the typical convention is as follows:"
   ]
  },
  {
   "cell_type": "code",
   "execution_count": null,
   "id": "cee49f6e",
   "metadata": {},
   "outputs": [],
   "source": [
    "def run_loopXout(x):\n",
    "    \"\"\"\n",
    "    Print out the values of a sequence of certain length\n",
    "    ...\n",
    "\n",
    "    Arguments\n",
    "    ---------\n",
    "    x     : int\n",
    "            Length of the sequence to be printed out\n",
    "\n",
    "    Returns\n",
    "    -------\n",
    "    seq   : np.array\n",
    "            Sequence of values printed out\n",
    "    \"\"\"\n",
    "    seq = np.arange(x)\n",
    "    for i in seq:\n",
    "        print(i)\n",
    "    return seq"
   ]
  },
  {
   "cell_type": "markdown",
   "id": "11c6e501",
   "metadata": {},
   "source": [
    "Documentation, as any string, are highlighted in red on a notebook. Let us have a look at the structure and components of a well-made documentation (also called \"docstring\"):\n",
    "\n",
    "* It is encapsulated between triple commas (`\"\"\"`).\n",
    "* Begins with a short description of what the method does. The shorter the better, the more concise, the even better.\n",
    "* There is a section called \"Arguments\" that lists the elements that the function expects.\n",
    "* Each argument is then listed, followed by its type. In this case it is an object `x` that, as we are told, needs to be an integer.\n",
    "* The arguments are followed by another section that specifies what the function returns, and of what type the output is.\n",
    "\n",
    "Documentation in this way is very useful to remember what a function does, but also to force yourself to write clearer code. A bonus is that, if you include documentation in this way, it can be checked with the standard `help` or `?` systems reviewed above:"
   ]
  },
  {
   "cell_type": "code",
   "execution_count": null,
   "id": "2242bc3a",
   "metadata": {},
   "outputs": [],
   "source": [
    "run_loopXout?"
   ]
  },
  {
   "cell_type": "code",
   "execution_count": null,
   "id": "1fd61b45",
   "metadata": {},
   "outputs": [],
   "source": [
    "help(run_loopXout)"
   ]
  },
  {
   "cell_type": "markdown",
   "id": "780ec502",
   "metadata": {},
   "source": [
    "### Lambda functions"
   ]
  },
  {
   "cell_type": "markdown",
   "id": "8ccfe214",
   "metadata": {},
   "source": [
    "Often we quickly define mathematical functions with a one-line function called a *lambda* function.  Lambda functions are great because they enable us to write functions without having to name them, ie, they're *anonymous*.\n",
    "No return statement is needed.\n"
   ]
  },
  {
   "cell_type": "code",
   "execution_count": null,
   "id": "19206597",
   "metadata": {},
   "outputs": [],
   "source": [
    "# create an anonymous function and assign it to the variable square\n",
    "square = lambda x: x * x\n",
    "print(square(3))\n",
    "\n",
    "hypotenuse = lambda x, y: x * x + y * y\n",
    "\n",
    "## Same as\n",
    "# def hypotenuse(x, y):\n",
    "#     return(x*x + y*y)\n",
    "\n",
    "hypotenuse(3, 4)"
   ]
  },
  {
   "cell_type": "markdown",
   "id": "1ec15ebc",
   "metadata": {},
   "source": [
    "### Methods"
   ]
  },
  {
   "cell_type": "markdown",
   "id": "6a09a737",
   "metadata": {},
   "source": [
    "A function that belongs to an object is called a *method*. By \"object,\" we mean an \"instance\" of a class (e.g., list, integer, or floating point variable).\n",
    "\n",
    "For example, when we invoke `append()` on an existing list, `append()` is a method.\n",
    "\n",
    "In other words, a *method* is a function on a specific *instance* of a class (i.e., *object*). In this example, our class is a list. `float_list` is an instance of a list (thus, an object), and the `append()` function is technically a *method* since it pertains to the specific instance `float_list`."
   ]
  },
  {
   "cell_type": "code",
   "execution_count": null,
   "id": "aafa50ad",
   "metadata": {},
   "outputs": [],
   "source": [
    "float_list = [1.0, 2.09, 4.0, 2.0, 0.444]\n",
    "print(float_list)\n",
    "float_list.append(56.7)\n",
    "float_list"
   ]
  },
  {
   "cell_type": "markdown",
   "id": "9d93ceb4",
   "metadata": {},
   "source": [
    "## Introduction to Numpy\n",
    "Scientific Python code uses a fast array structure, called the numpy array. Those who have programmed in Matlab will find this very natural. For reference, the numpy documention can be found [here](https://docs.scipy.org/doc/numpy/reference/).\n",
    "\n",
    "Let's make a numpy array:"
   ]
  },
  {
   "cell_type": "code",
   "execution_count": null,
   "id": "cf28d5c8",
   "metadata": {},
   "outputs": [],
   "source": [
    "my_array = np.array([1, 2, 3, 4])\n",
    "my_array"
   ]
  },
  {
   "cell_type": "code",
   "execution_count": null,
   "id": "744f08dc",
   "metadata": {},
   "outputs": [],
   "source": [
    "# works as it would with a standard list\n",
    "len(my_array)"
   ]
  },
  {
   "cell_type": "markdown",
   "id": "d780608f",
   "metadata": {},
   "source": [
    "The shape array of an array is very useful (we'll see more of it later when we talk about 2D arrays -- matrices -- and higher-dimensional arrays)."
   ]
  },
  {
   "cell_type": "code",
   "execution_count": null,
   "id": "3fcb1f3a",
   "metadata": {},
   "outputs": [],
   "source": [
    "my_array.shape"
   ]
  },
  {
   "cell_type": "markdown",
   "id": "4383457d",
   "metadata": {},
   "source": [
    "Numpy arrays are **typed**. This means that by default, all the elements will be assumed to be of the same type (e.g., integer, float, String)."
   ]
  },
  {
   "cell_type": "code",
   "execution_count": null,
   "id": "27635797",
   "metadata": {},
   "outputs": [],
   "source": [
    "my_array.dtype"
   ]
  },
  {
   "cell_type": "markdown",
   "id": "1272b698",
   "metadata": {},
   "source": [
    "Numpy arrays have similar functionality as lists! Below, we compute the length, slice the array, and iterate through it (one could identically perform the same with a list)."
   ]
  },
  {
   "cell_type": "code",
   "execution_count": null,
   "id": "3ed9ab38",
   "metadata": {},
   "outputs": [],
   "source": [
    "print(len(my_array))\n",
    "print(my_array[2:4])\n",
    "for ele in my_array:\n",
    "    print(ele)"
   ]
  },
  {
   "cell_type": "markdown",
   "id": "c8454d42",
   "metadata": {},
   "source": [
    "There are two ways to manipulate numpy arrays a) by using the numpy module's methods (e.g., `np.mean()`) or b) by applying the function np.mean() with the numpy array as an argument."
   ]
  },
  {
   "cell_type": "code",
   "execution_count": null,
   "id": "727ec8fd",
   "metadata": {},
   "outputs": [],
   "source": [
    "print(my_array.mean())\n",
    "print(np.mean(my_array))"
   ]
  },
  {
   "cell_type": "markdown",
   "id": "0a898a45",
   "metadata": {},
   "source": [
    "A ``constructor`` is a general programming term that refers to the mechanism for creating a new object (e.g., list, array, String).\n",
    "\n",
    "There are many other efficient ways to construct numpy arrays. Here are some commonly used numpy array constructors. Read more details in the numpy documentation."
   ]
  },
  {
   "cell_type": "code",
   "execution_count": null,
   "id": "560b15af",
   "metadata": {},
   "outputs": [],
   "source": [
    "np.ones(10)  # generates 10 floating point ones"
   ]
  },
  {
   "cell_type": "markdown",
   "id": "f42fbbe1",
   "metadata": {},
   "source": [
    "Numpy gains a lot of its efficiency from being typed. That is, all elements in the array have the same type, such as integer or floating point. The default type, as can be seen above, is a float. (Each float uses either 32 or 64 bits of memory, depending on if the code is running a 32-bit or 64-bit machine, respectively)."
   ]
  },
  {
   "cell_type": "code",
   "execution_count": null,
   "id": "4fdd1cf1",
   "metadata": {},
   "outputs": [],
   "source": [
    "np.dtype(float).itemsize  # in bytes (remember, 1 byte = 8 bits)"
   ]
  },
  {
   "cell_type": "code",
   "execution_count": null,
   "id": "d91e20d8",
   "metadata": {},
   "outputs": [],
   "source": [
    "np.ones(10, dtype=\"int\")  # generates 10 integer ones"
   ]
  },
  {
   "cell_type": "code",
   "execution_count": null,
   "id": "e6c5b407",
   "metadata": {},
   "outputs": [],
   "source": [
    "np.zeros(10)"
   ]
  },
  {
   "cell_type": "markdown",
   "id": "5c97be78",
   "metadata": {},
   "source": [
    "Often, you will want random numbers. Use the `random` constructor!"
   ]
  },
  {
   "cell_type": "code",
   "execution_count": null,
   "id": "7ce295a8",
   "metadata": {},
   "outputs": [],
   "source": [
    "np.random.random(10)  # uniform from [0,1]"
   ]
  },
  {
   "cell_type": "markdown",
   "id": "69f68223",
   "metadata": {},
   "source": [
    "You can generate random numbers from a normal distribution with mean 0 and variance 1:"
   ]
  },
  {
   "cell_type": "code",
   "execution_count": null,
   "id": "b263a127",
   "metadata": {},
   "outputs": [],
   "source": [
    "normal_array = np.random.randn(1000)\n",
    "print(\n",
    "    \"The sample mean and standard devation are %f and %f, respectively.\"\n",
    "    % (np.mean(normal_array), np.std(normal_array))\n",
    ")"
   ]
  },
  {
   "cell_type": "code",
   "execution_count": null,
   "id": "f102fcf8",
   "metadata": {},
   "outputs": [],
   "source": [
    "len(normal_array)"
   ]
  },
  {
   "cell_type": "markdown",
   "id": "df863c91",
   "metadata": {},
   "source": [
    "You can sample with and without replacement from an array. Let's first construct a list with evenly-spaced values:"
   ]
  },
  {
   "cell_type": "code",
   "execution_count": null,
   "id": "2975f59e",
   "metadata": {},
   "outputs": [],
   "source": [
    "grid = np.arange(0.0, 1.01, 0.1)\n",
    "grid"
   ]
  },
  {
   "cell_type": "markdown",
   "id": "0a850612",
   "metadata": {},
   "source": [
    "Without replacement"
   ]
  },
  {
   "cell_type": "code",
   "execution_count": null,
   "id": "4d20d82f",
   "metadata": {},
   "outputs": [],
   "source": [
    "np.random.choice(grid, 5, replace=False)"
   ]
  },
  {
   "cell_type": "code",
   "execution_count": null,
   "id": "059855b9",
   "metadata": {},
   "outputs": [],
   "source": [
    "# Think why this is giving an error -- it should\n",
    "# Uncomment to run the following line of code\n",
    "# np.random.choice(grid, 20, replace=False)"
   ]
  },
  {
   "cell_type": "markdown",
   "id": "63db44b6",
   "metadata": {},
   "source": [
    "With replacement:"
   ]
  },
  {
   "cell_type": "code",
   "execution_count": null,
   "id": "b7c67134",
   "metadata": {},
   "outputs": [],
   "source": [
    "np.random.choice(grid, 20, replace=True)"
   ]
  },
  {
   "cell_type": "markdown",
   "id": "56fafa5e",
   "metadata": {},
   "source": [
    "### Tensors' definition"
   ]
  },
  {
   "cell_type": "markdown",
   "id": "a901e0e5",
   "metadata": {},
   "source": [
    "We can think of tensors as a name to include multidimensional arrays of numerical values. While tensors first emerged in the 20th century, they have since been applied to numerous other disciplines, including machine learning. In this class you will only be using **scalars**, **vectors**, and **2D arrays**, so you do not need to worry about the name 'tensor'.\n",
    "\n",
    "We will use the following naming conventions:\n",
    "\n",
    "- scalar = just a number = rank 0 tensor  ($a$ ∈ $F$,)\n",
    "<BR><BR>\n",
    "- vector = 1D array = rank 1 tensor ( $x = (\\;x_1,...,x_i\\;)⊤$ ∈ $F^n$ )\n",
    "<BR><BR>\n",
    "- matrix = 2D array = rank 2 tensor ( $\\textbf{X} = [a_{ij}] ∈ F^{m×n}$ )\n",
    "<BR><BR>\n",
    "- 3D array = rank 3 tensor ( $\\mathscr{X} =[t_{i,j,k}]∈F^{m×n×l}$ )\n",
    "<BR><BR>\n",
    "- $\\mathscr{N}$D array = rank $\\mathscr{N}$ tensor ( $\\mathscr{T} =[t_{i1},...,t_{i\\mathscr{N}}]∈F^{n_1×...×n_\\mathscr{N}}$ )\n"
   ]
  },
  {
   "cell_type": "markdown",
   "id": "41bf49c0",
   "metadata": {},
   "source": [
    "### Vector operations"
   ]
  },
  {
   "cell_type": "markdown",
   "id": "59e4af21",
   "metadata": {},
   "source": [
    "As we will present below, Numpy supports vector operations.\n",
    "What does this mean? It means that instead of adding two arrays, element by element, you can just say: add the two arrays."
   ]
  },
  {
   "cell_type": "code",
   "execution_count": null,
   "id": "2e49e6bb",
   "metadata": {},
   "outputs": [],
   "source": [
    "first = np.ones(5)\n",
    "second = np.ones(5)\n",
    "first + second  # adds in-place"
   ]
  },
  {
   "cell_type": "markdown",
   "id": "8050450a",
   "metadata": {},
   "source": [
    "Note that this behavior is very different from python lists where concatenation happens."
   ]
  },
  {
   "cell_type": "code",
   "execution_count": null,
   "id": "c05b4f92",
   "metadata": {},
   "outputs": [],
   "source": [
    "first_list = [1.0, 1.0, 1.0, 1.0, 1.0]\n",
    "second_list = [1.0, 1.0, 1.0, 1.0, 1.0]\n",
    "first_list + second_list  # concatenation"
   ]
  },
  {
   "cell_type": "markdown",
   "id": "7cf21d58",
   "metadata": {},
   "source": [
    "**Broadcasting**\n",
    "\n",
    "Numpy supports a concept known as *broadcasting*, which dictates how arrays of different sizes are combined together. There are too many rules to list here, but importantly, multiplying an array by a number multiplies each element by the number. Adding a number adds the number to each element."
   ]
  },
  {
   "cell_type": "code",
   "execution_count": null,
   "id": "a5e4d8cc",
   "metadata": {},
   "outputs": [],
   "source": [
    "first + 1"
   ]
  },
  {
   "cell_type": "code",
   "execution_count": null,
   "id": "621a37c0",
   "metadata": {},
   "outputs": [],
   "source": [
    "first * 5"
   ]
  },
  {
   "cell_type": "markdown",
   "id": "8fc1192b",
   "metadata": {},
   "source": [
    "This means that if you wanted the distribution $N(5, 7)$ you could do:"
   ]
  },
  {
   "cell_type": "code",
   "execution_count": null,
   "id": "3ee53369",
   "metadata": {},
   "outputs": [],
   "source": [
    "normal_5_7 = 5 + 7 * normal_array\n",
    "np.mean(normal_5_7), np.std(normal_5_7)"
   ]
  },
  {
   "cell_type": "markdown",
   "id": "0e5c4a14",
   "metadata": {},
   "source": [
    "Multiplying two arrays multiplies them element-by-element"
   ]
  },
  {
   "cell_type": "code",
   "execution_count": null,
   "id": "669aaac4",
   "metadata": {},
   "outputs": [],
   "source": [
    "(first + 1) * (first * 5)"
   ]
  },
  {
   "cell_type": "markdown",
   "id": "e8e4cd67",
   "metadata": {},
   "source": [
    "You might have wanted to compute the **dot product** instead:"
   ]
  },
  {
   "cell_type": "code",
   "execution_count": null,
   "id": "d790b80a",
   "metadata": {},
   "outputs": [],
   "source": [
    "np.dot((first + 1), (first * 5))"
   ]
  },
  {
   "cell_type": "markdown",
   "id": "bcc3dfcf",
   "metadata": {},
   "source": [
    "# Food for thought before we say goodbye"
   ]
  },
  {
   "cell_type": "markdown",
   "id": "5256a7d5",
   "metadata": {},
   "source": [
    "### What is a program?\n",
    "As Allen Downey explains in Think Python, the main elements of a program are:\n",
    "\n",
    "* **input**: Get data from the keyboard, a ﬁle, or some other device.\n",
    "\n",
    "* **output**: Display data on the screen or send data to a ﬁle or other device.\n",
    "\n",
    "* **math**: Perform basic mathematical operations like addition and multiplication.\n",
    "\n",
    "* **conditional execution**: Check for certain conditions and execute the appropriate code.\n",
    "\n",
    "* **repetition**: Perform some action repeatedly, usually with some variation.\n",
    "\n",
    "These are common steps that you will find to be a generic recipe for many programs, whether written in Python or any other language."
   ]
  },
  {
   "cell_type": "markdown",
   "id": "9a0ffb9b",
   "metadata": {},
   "source": [
    "# Additional tools"
   ]
  },
  {
   "cell_type": "markdown",
   "id": "9fb3780f",
   "metadata": {},
   "source": [
    "## Importing and displaying rich content from the web"
   ]
  },
  {
   "cell_type": "markdown",
   "id": "e5f65c15",
   "metadata": {},
   "source": [
    "Notebooks can also include rich content from the web. For that, we need to import the `display` module:"
   ]
  },
  {
   "cell_type": "code",
   "execution_count": null,
   "id": "3cfa3789",
   "metadata": {},
   "outputs": [],
   "source": [
    "import IPython.display as display"
   ]
  },
  {
   "cell_type": "markdown",
   "id": "9a373758",
   "metadata": {},
   "source": [
    "This makes available additional functionality that allows us to embed rich content. For example, we can include a YouTube clip easily by passing it's ID:"
   ]
  },
  {
   "cell_type": "code",
   "execution_count": null,
   "id": "1bd34755",
   "metadata": {},
   "outputs": [],
   "source": [
    "display.YouTubeVideo(\"iinQDhsdE9s\")"
   ]
  },
  {
   "cell_type": "markdown",
   "id": "af1755a1",
   "metadata": {},
   "source": [
    "Or we can pass standard HTML code:"
   ]
  },
  {
   "cell_type": "code",
   "execution_count": null,
   "id": "e84c8baa",
   "metadata": {},
   "outputs": [],
   "source": [
    "display.HTML(\n",
    "    \"\"\"<table>\n",
    "<tr>\n",
    "<th>Header 1</th>\n",
    "<th>Header 2</th>\n",
    "</tr>\n",
    "<tr>\n",
    "<td>row 1, cell 1</td>\n",
    "<td>row 1, cell 2</td>\n",
    "</tr>\n",
    "<tr>\n",
    "<td>row 2, cell 1</td>\n",
    "<td>row 2, cell 2</td>\n",
    "</tr>\n",
    "</table>\"\"\"\n",
    ")"
   ]
  },
  {
   "cell_type": "markdown",
   "id": "6c8dec39",
   "metadata": {},
   "source": [
    "Note that this opens the door for including a large number of elements from the web, as an `iframe` is also allowed. For example, interactive maps can be included:"
   ]
  },
  {
   "cell_type": "code",
   "execution_count": null,
   "id": "8aef9d32",
   "metadata": {},
   "outputs": [],
   "source": [
    "osm = \"\"\"\n",
    "<iframe width=\"425\" height=\"350\" frameborder=\"0\" scrolling=\"no\" marginheight=\"0\" marginwidth=\"0\" src=\"https://www.openstreetmap.org/export/embed.html?bbox=-2.9662737250328064%2C53.400500637844594%2C-2.964626848697662%2C53.402550738394034&amp;layer=mapnik\" style=\"border: 1px solid black\"></iframe><br/><small><a href=\"https://www.openstreetmap.org/#map=19/53.40153/-2.96545\">View Larger Map</a></small>\n",
    "\"\"\"\n",
    "display.HTML(osm)"
   ]
  },
  {
   "cell_type": "markdown",
   "id": "8a1a99b6",
   "metadata": {},
   "source": [
    "Or sound content:"
   ]
  },
  {
   "cell_type": "code",
   "execution_count": null,
   "id": "52ebdcf4",
   "metadata": {},
   "outputs": [],
   "source": [
    "sound = \"\"\"\n",
    "<iframe width=\"100%\" height=\"300\" scrolling=\"no\" frameborder=\"no\" allow=\"autoplay\" src=\"https://w.soundcloud.com/player/?url=https%3A//api.soundcloud.com/tracks/327114763&color=%23ff5500&auto_play=false&hide_related=false&show_comments=true&show_user=true&show_reposts=false&show_teaser=true&visual=true\"></iframe>\"\"\"\n",
    "display.HTML(sound)"
   ]
  },
  {
   "cell_type": "markdown",
   "id": "e6d575f0",
   "metadata": {
    "jp-MarkdownHeadingCollapsed": true
   },
   "source": [
    "## List Comprehensions\n",
    "\n",
    "Lists can be constructed in a compact way using a *list comprehension*.  Here's a simple example."
   ]
  },
  {
   "cell_type": "code",
   "execution_count": null,
   "id": "4e9db422",
   "metadata": {},
   "outputs": [],
   "source": [
    "squaredlist = [i * i for i in int_list]\n",
    "squaredlist"
   ]
  },
  {
   "cell_type": "markdown",
   "id": "0ff10442",
   "metadata": {},
   "source": [
    "And here's a more complicated one, requiring a conditional."
   ]
  },
  {
   "cell_type": "code",
   "execution_count": null,
   "id": "1c9196a7",
   "metadata": {},
   "outputs": [],
   "source": [
    "comp_list1 = [2 * i for i in squaredlist if i % 2 == 0]\n",
    "print(comp_list1)"
   ]
  },
  {
   "cell_type": "markdown",
   "id": "6313802b",
   "metadata": {},
   "source": [
    "This is entirely equivalent to creating `comp_list1` using a loop with a conditional, as below:"
   ]
  },
  {
   "cell_type": "code",
   "execution_count": null,
   "id": "1bad4634",
   "metadata": {},
   "outputs": [],
   "source": [
    "comp_list2 = []\n",
    "for i in squaredlist:\n",
    "    if i % 2 == 0:\n",
    "        comp_list2.append(2 * i)\n",
    "print(comp_list2)"
   ]
  },
  {
   "cell_type": "markdown",
   "id": "b54dfd1e",
   "metadata": {},
   "source": [
    "The list comprehension syntax\n",
    "\n",
    "```\n",
    "[expression for item in list if conditional]\n",
    "\n",
    "```\n",
    "\n",
    "is equivalent to the syntax\n",
    "\n",
    "```\n",
    "for item in list:\n",
    "    if conditional:\n",
    "        expression\n",
    "```"
   ]
  },
  {
   "cell_type": "markdown",
   "id": "8dbe7a66",
   "metadata": {},
   "source": [
    "## Probabilitiy Distributions from 'scipy.stats' and 'statsmodels'"
   ]
  },
  {
   "cell_type": "markdown",
   "id": "1af9d60c",
   "metadata": {},
   "source": [
    "Two useful statistics libraries in python are `scipy` and `statsmodels`.\n",
    "\n",
    "For example to load the z_test:"
   ]
  },
  {
   "cell_type": "code",
   "execution_count": null,
   "id": "19db16ed",
   "metadata": {},
   "outputs": [],
   "source": [
    "import statsmodels\n",
    "from statsmodels.stats.proportion import proportions_ztest"
   ]
  },
  {
   "cell_type": "code",
   "execution_count": null,
   "id": "cd767c47",
   "metadata": {},
   "outputs": [],
   "source": [
    "x = np.array([74, 100])\n",
    "n = np.array([152, 266])\n",
    "\n",
    "zstat, pvalue = statsmodels.stats.proportion.proportions_ztest(x, n)\n",
    "print(\"Two-sided z-test for proportions: \\n\", \"z =\", zstat, \", pvalue =\", pvalue)"
   ]
  },
  {
   "cell_type": "code",
   "execution_count": null,
   "id": "9eeed51d",
   "metadata": {},
   "outputs": [],
   "source": [
    "# The `%matplotlib inline` ensures that plots are rendered inline in the browser.\n",
    "%matplotlib inline\n",
    "import matplotlib.pyplot as plt"
   ]
  },
  {
   "cell_type": "markdown",
   "id": "9b0e954c",
   "metadata": {},
   "source": [
    "Let's get the normal distribution namespace from `scipy.stats`. See here for [Documentation](https://docs.scipy.org/doc/scipy/reference/generated/scipy.stats.norm.html)."
   ]
  },
  {
   "cell_type": "code",
   "execution_count": null,
   "id": "60a25d9b",
   "metadata": {},
   "outputs": [],
   "source": [
    "from scipy.stats import norm"
   ]
  },
  {
   "cell_type": "markdown",
   "id": "910d6977",
   "metadata": {},
   "source": [
    "Let's create 1,000 points between -10 and 10"
   ]
  },
  {
   "cell_type": "code",
   "execution_count": null,
   "id": "9e84f858",
   "metadata": {},
   "outputs": [],
   "source": [
    "x = np.linspace(\n",
    "    -10, 10, 1000\n",
    ")  # linspace() returns evenly-spaced numbers over a specified interval\n",
    "x[0:10], x[-10:]"
   ]
  },
  {
   "cell_type": "markdown",
   "id": "da17d24b",
   "metadata": {},
   "source": [
    "Let's get the pdf of a normal distribution with a mean of 1 and standard deviation 3, and plot it using the grid points computed before:"
   ]
  },
  {
   "cell_type": "code",
   "execution_count": null,
   "id": "4c644912",
   "metadata": {},
   "outputs": [],
   "source": [
    "pdf_x = norm.pdf(x, 1, 3)\n",
    "plt.plot(x, pdf_x)"
   ]
  },
  {
   "cell_type": "markdown",
   "id": "3ce956fd",
   "metadata": {},
   "source": [
    "And you can get random variables using the `rvs` function."
   ]
  }
 ],
 "metadata": {
  "kernelspec": {
   "display_name": "Python 3 (ipykernel)",
   "language": "python",
   "name": "python3"
  }
 },
 "nbformat": 4,
 "nbformat_minor": 5
}
