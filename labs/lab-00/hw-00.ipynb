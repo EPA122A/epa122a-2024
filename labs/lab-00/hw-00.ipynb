{
 "cells": [
  {
   "cell_type": "markdown",
   "id": "e980db24",
   "metadata": {},
   "source": [
    "#  EPA-122A *Spatial* Data Science\n",
    "\n",
    "\n",
    "## Homework 0: Introduction to Python and its Numerical Stack\n",
    "\n",
    "**TU Delft**<br>\n",
    "**Q2 2024**<br>\n",
    "**Instructors:** Giacomo Marangoni, Theodoros Chatzivasileiadis <br>\n",
    "\n",
    "\n",
    "---\n",
    "\n"
   ]
  },
  {
   "cell_type": "markdown",
   "id": "09b359ad",
   "metadata": {},
   "source": [
    "# Homework Exercises"
   ]
  },
  {
   "cell_type": "markdown",
   "id": "36f836f8",
   "metadata": {},
   "source": [
    "## Exercise 1\n",
    "### Write a properly documented function with the following behaviour:\n",
    "\n",
    "- It has a meaningful name (i.e. it is related to its behaviour).\n",
    "- It takes an integer that represents the length of a sequence that will be created.\n",
    "- It creates a dictionary that is empty.\n",
    "- It loops over the sequence and stores each number as the key of an entry in the dictionary, assigning either \"odd\" or \"even\" to the value, depending on the type of number.\n",
    "\n",
    "- Returns the dictionary."
   ]
  },
  {
   "cell_type": "markdown",
   "id": "be5fdf7a",
   "metadata": {
    "lines_to_next_cell": 2
   },
   "source": [
    "your code here"
   ]
  },
  {
   "cell_type": "markdown",
   "id": "64768fd7",
   "metadata": {},
   "source": [
    "## Exercise 2\n",
    "### Create a tuple called `tup` with the following seven objects:\n",
    "\n",
    "- The first element is an integer of your choice\n",
    "- The second element is a float of your choice\n",
    "- The third element is the sum of the first two elements\n",
    "- The fourth element is the difference of the first two elements\n",
    "- The fifth element is the first element divided by the second element\n",
    "\n",
    "- Display the output of `tup`.  What is the type of the variable `tup`? What happens if you try and chage an item in the tuple?"
   ]
  },
  {
   "cell_type": "markdown",
   "id": "f0a0bbef",
   "metadata": {
    "lines_to_next_cell": 2
   },
   "source": [
    "your code here"
   ]
  },
  {
   "cell_type": "markdown",
   "id": "c2666e10",
   "metadata": {},
   "source": [
    "## Exercise 3\n",
    "### Build a list that contains every prime number between 1 and 100, in two different ways:\n",
    "\n",
    "1. Using for loops and conditional if statements.\n",
    "2. **(Stretch Goal)** Using a list comprehension.  You should be able to do this in one line of code. **Hint:** it might help to look up the function `all()` in the documentation."
   ]
  },
  {
   "cell_type": "markdown",
   "id": "79497fdf",
   "metadata": {
    "lines_to_next_cell": 2
   },
   "source": [
    "your code here"
   ]
  },
  {
   "cell_type": "markdown",
   "id": "2f63e895",
   "metadata": {},
   "source": [
    "## Exercise 4\n",
    "### Write a function to test the \"prime-ness\" of a number.\n",
    "\n",
    "In Exercise 4, above, you wrote code that generated a list of the prime numbers between 1 and 100. Now, write a function called `isprime()` that takes in a positive integer $N$, and determines whether or not it is prime.  Return `True` if it's prime and return `False` if it isn't. Then, using a list comprehension and `isprime()`, create a list `myprimes` that contains all the prime numbers less than 100."
   ]
  },
  {
   "cell_type": "markdown",
   "id": "e44a484c",
   "metadata": {
    "lines_to_next_cell": 2
   },
   "source": [
    "your code here"
   ]
  },
  {
   "cell_type": "markdown",
   "id": "ca2cf134",
   "metadata": {},
   "source": [
    "---"
   ]
  },
  {
   "cell_type": "markdown",
   "id": "7d4d2d23",
   "metadata": {},
   "source": [
    "## Optional Exercise\n",
    "### Try to reproduce, using markdown and the different tools the notebook affords you, the following WikiPedia entry:\n",
    "\n",
    "\n",
    "> https://en.wikipedia.org/wiki/Puppy\n"
   ]
  },
  {
   "cell_type": "code",
   "execution_count": null,
   "id": "b4528644",
   "metadata": {},
   "outputs": [],
   "source": [
    "from IPython.display import IFrame\n",
    "\n",
    "IFrame(\"https://en.wikipedia.org/wiki/Puppy\", 700, 500)"
   ]
  },
  {
   "cell_type": "markdown",
   "id": "20a56119",
   "metadata": {},
   "source": [
    "Do not over think it. Focuse and pay special attention to getting the bold, italics, links, headlines and lists correctly formated, but don't worry too much about the overall layout. Bonus if you manage to insert the image as well (it does not need to be properly placed as in the original page)!"
   ]
  },
  {
   "cell_type": "markdown",
   "id": "b97ba53a",
   "metadata": {},
   "source": [
    "your code here"
   ]
  }
 ],
 "metadata": {
  "kernelspec": {
   "display_name": "Python 3 (ipykernel)",
   "language": "python",
   "name": "python3"
  }
 },
 "nbformat": 4,
 "nbformat_minor": 5
}
