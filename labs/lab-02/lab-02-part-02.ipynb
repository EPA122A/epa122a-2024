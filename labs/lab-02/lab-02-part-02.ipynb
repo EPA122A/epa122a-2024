{
 "cells": [
  {
   "cell_type": "markdown",
   "id": "64c68e7b",
   "metadata": {},
   "source": [
    "#  EPA-122A *Spatial* Data Science\n",
    "\n",
    "\n",
    "## Lab 2 - part 2: Data Engineering\n",
    "\n",
    "**TU Delft**<br>\n",
    "**Q2 2024**<br>\n",
    "**Instructors:** Giacomo Marangoni, Theodoros Chatzivasileiadis <br>\n",
    "\n",
    "---"
   ]
  },
  {
   "cell_type": "markdown",
   "id": "22ed82d8",
   "metadata": {},
   "source": [
    "## Table of Contents\n",
    "\n",
    "* [Learning Goals](#chapter0)\n",
    "* [Basic EDA workflow](#chapter1)\n",
    "* [Loading and Cleaning with Pandas](#chapter2)\n",
    "    * [Reading in the data](#section2_1)\n",
    "    * [Examing the dataframe - quick checks](#section2_2)\n",
    "    * [Examining the dataframe - a deeper look](#section2_3)\n",
    "    * [Dealing with Missing Values](#section2_4)\n",
    "* [Parsing and Completing the Data Frame](#chapter3)\n",
    "* [Grouping](#section4)"
   ]
  },
  {
   "cell_type": "markdown",
   "id": "64072fd3",
   "metadata": {},
   "source": [
    "## Learning Goals <a class=\"anchor\" id=\"chapter0\"></a>\n",
    "\n",
    "About 6,000 odd \"best books\" were fetched and parsed from [Goodreads](https://www.goodreads.com). The \"bestness\" of these books came from a proprietary formula used by Goodreads and published as a list on their web site.\n",
    "\n",
    "We parsed the page for each book and saved data from all these pages in a tabular format as a CSV file. In this lab we'll clean and further parse the data.  We'll then do some exploratory data analysis to answer questions about these best books and popular genres.\n",
    "\n",
    "\n",
    "By the end of this lab, you should be able to:\n",
    "\n",
    "- Load and systematically address missing values, ancoded as `NaN` values in our data set, for example, by removing observations associated with these values.\n",
    "- Parse columns in the dataframe to create new dataframe columns.\n",
    "- Use groupby to aggregate data on a particular feature column, such as author."
   ]
  },
  {
   "cell_type": "markdown",
   "id": "6c6cc553",
   "metadata": {},
   "source": [
    "## Basic EDA workflow <a class=\"anchor\" id=\"chapter1\"></a>\n",
    "\n",
    "(From the lecture, repeated here for convenience).\n",
    "\n",
    "The basic workflow is as follows:\n",
    "\n",
    "1. **Build** a DataFrame from the data (ideally, put all data in this object)\n",
    "2. **Clean** the DataFrame. It should have the following properties:\n",
    "    - Each row describes a single object\n",
    "    - Each column describes a property of that object\n",
    "    - Columns are numeric whenever appropriate\n",
    "    - Columns contain atomic properties that cannot be further decomposed\n",
    "3. Explore **global properties**. Use histograms, scatter plots, and aggregation functions to summarize the data.\n",
    "4. Explore **group properties**. Use groupby and small multiples to compare subsets of the data.\n",
    "\n",
    "This process transforms your data into a format which is easier to work with, gives you a basic overview of the data's properties, and likely generates several questions for you to followup in subsequent analysis."
   ]
  },
  {
   "cell_type": "markdown",
   "id": "141b3536",
   "metadata": {},
   "source": [
    "## Part 1: Loading and Cleaning with Pandas <a class=\"anchor\" id=\"chapter2\"></a>\n",
    "Read in the `goodreads.csv` file, examine the data, and do any necessary data cleaning.\n",
    "\n",
    "Here is a description of the columns (in order) present in this csv file:\n",
    "\n",
    "```\n",
    "rating: the average rating on a 1-5 scale achieved by the book\n",
    "review_count: the number of Goodreads users who reviewed this book\n",
    "isbn: the ISBN code for the book\n",
    "booktype: an internal Goodreads identifier for the book\n",
    "author_url: the Goodreads (relative) URL for the author of the book\n",
    "year: the year the book was published\n",
    "genre_urls: a string with '|' separated relative URLS of Goodreads genre pages\n",
    "dir: a directory identifier internal to the scraping code\n",
    "rating_count: the number of ratings for this book (this is different from the number of reviews)\n",
    "name: the name of the book\n",
    "```\n",
    "\n",
    "Let us see what issues we find with the data and resolve them.\n",
    "\n",
    "\n",
    "\n",
    "----"
   ]
  },
  {
   "cell_type": "markdown",
   "id": "f0af5e63",
   "metadata": {},
   "source": [
    "\n",
    "\n",
    "\n",
    "After loading appropriate libraries\n"
   ]
  },
  {
   "cell_type": "code",
   "execution_count": null,
   "id": "629a44c5",
   "metadata": {},
   "outputs": [],
   "source": [
    "%matplotlib inline\n",
    "import numpy as np\n",
    "import matplotlib.pyplot as plt\n",
    "import pandas as pd\n",
    "import seaborn as sns\n",
    "\n",
    "pd.set_option(\"display.width\", 500)\n",
    "pd.set_option(\"display.max_columns\", 30)"
   ]
  },
  {
   "cell_type": "markdown",
   "id": "de76f76a",
   "metadata": {},
   "source": [
    "### Cleaning: Reading in the data <a class=\"anchor\" id=\"section2_1\"></a>\n",
    "We read in and clean the data from `goodreads.csv`."
   ]
  },
  {
   "cell_type": "code",
   "execution_count": null,
   "id": "0e2d84d8",
   "metadata": {},
   "outputs": [],
   "source": [
    "# Read the data into a dataframe\n",
    "df = pd.read_csv(\"./data/goodreads.csv\", encoding=\"utf-8\")\n",
    "\n",
    "# Examine the first few rows of the dataframe\n",
    "df"
   ]
  },
  {
   "cell_type": "markdown",
   "id": "3339e9a7",
   "metadata": {},
   "source": [
    "Here is a list of column in order:\n",
    "\n",
    "`[\"rating\", 'review_count', 'isbn', 'booktype','author_url', 'year', 'genre_urls', 'dir','rating_count', 'name']`\n",
    "\n",
    "\n",
    "<div class=\"exercise\"><b>Exercise 1</b></div>\n",
    "Use these to load the dataframe properly! And then \"head\" the dataframe... (you will need to look at the read_csv docs)\n"
   ]
  },
  {
   "cell_type": "code",
   "execution_count": null,
   "id": "b1d55591",
   "metadata": {},
   "outputs": [],
   "source": [
    "df = pd.read_csv(\n",
    "    \"data/goodreads.csv\",\n",
    "    header=None,\n",
    "    names=[\n",
    "        \"rating\",\n",
    "        \"review_count\",\n",
    "        \"isbn\",\n",
    "        \"booktype\",\n",
    "        \"author_url\",\n",
    "        \"year\",\n",
    "        \"genre_urls\",\n",
    "        \"dir\",\n",
    "        \"rating_count\",\n",
    "        \"name\",\n",
    "    ],\n",
    ")\n",
    "\n",
    "# Examine the first few rows of the dataframe\n",
    "df.head()"
   ]
  },
  {
   "cell_type": "markdown",
   "id": "5ccb5247",
   "metadata": {},
   "source": [
    "### Cleaning: Examing the dataframe - quick checks <a class=\"anchor\" id=\"section2_2\"></a>\n",
    "\n",
    "We should examine the dataframe to get a overall sense of the content.\n",
    "\n",
    "<div class=\"exercise\"><b>Exercise 2</b></div>\n",
    "Lets check the types of the columns. What do you find?"
   ]
  },
  {
   "cell_type": "code",
   "execution_count": null,
   "id": "cc390bb0",
   "metadata": {},
   "outputs": [],
   "source": [
    "df.dtypes"
   ]
  },
  {
   "cell_type": "markdown",
   "id": "c77132e0",
   "metadata": {},
   "source": [
    "Notice that `review_count` and `rating_counts` are objects instead of ints, and the `year` is a float!"
   ]
  },
  {
   "cell_type": "markdown",
   "id": "82b1cb8f",
   "metadata": {},
   "source": [
    "There are a couple more quick sanity checks to perform on the dataframe."
   ]
  },
  {
   "cell_type": "code",
   "execution_count": null,
   "id": "441ff24e",
   "metadata": {},
   "outputs": [],
   "source": [
    "print(df.shape)\n",
    "df.columns"
   ]
  },
  {
   "cell_type": "markdown",
   "id": "025ea549",
   "metadata": {},
   "source": [
    "### Cleaning: Examining the dataframe - a deeper look <a class=\"anchor\" id=\"section2_3\"></a>"
   ]
  },
  {
   "cell_type": "markdown",
   "id": "fdaad7fc",
   "metadata": {},
   "source": [
    "Beyond performing checking some quick general properties of the data frame and looking at the first $n$ rows, we can dig a bit deeper into the values being stored. If you haven't already, check to see if there are any missing values in the data frame.\n",
    "\n",
    "Let's see for a column which seemed OK to us."
   ]
  },
  {
   "cell_type": "code",
   "execution_count": null,
   "id": "ca3ed0bb",
   "metadata": {},
   "outputs": [],
   "source": [
    "# Get a sense of how many missing values there are in the dataframe.\n",
    "print(np.sum([df.rating.isnull()]))\n",
    "print(np.sum([df.review_count.isnull()]))\n",
    "print(np.sum([df.isbn.isnull()]))\n",
    "print(np.sum([df.booktype.isnull()]))\n",
    "print(np.sum([df.author_url.isnull()]))\n",
    "print(np.sum([df.year.isnull()]))\n",
    "print(np.sum([df.genre_urls.isnull()]))\n",
    "print(np.sum([df.dir.isnull()]))\n",
    "print(np.sum([df.rating_count.isnull()]))\n",
    "print(np.sum([df.name.isnull()]))"
   ]
  },
  {
   "cell_type": "code",
   "execution_count": null,
   "id": "3024fba9",
   "metadata": {},
   "outputs": [],
   "source": [
    "# Try to locate where the missing values occur\n",
    "df[df.rating.isnull()]"
   ]
  },
  {
   "cell_type": "markdown",
   "id": "8126ccb0",
   "metadata": {},
   "source": [
    "How does `pandas` or `numpy` handle missing values when we try to compute with data sets that include them?"
   ]
  },
  {
   "cell_type": "markdown",
   "id": "a56907ce",
   "metadata": {},
   "source": [
    "We'll now check if any of the other suspicious columns have missing values.  Let's look at `year` and `review_count` first.\n",
    "\n",
    "One thing you can do is to try and convert to the type you expect the column to be. If something goes wrong, it likely means your data are bad."
   ]
  },
  {
   "cell_type": "markdown",
   "id": "d3f328c9",
   "metadata": {},
   "source": [
    "Lets test for missing data:"
   ]
  },
  {
   "cell_type": "code",
   "execution_count": null,
   "id": "4eab72cd",
   "metadata": {},
   "outputs": [],
   "source": [
    "df[df.year.isnull()]\n",
    "\n",
    "df.year.isnull()\n",
    "df.shape"
   ]
  },
  {
   "cell_type": "markdown",
   "id": "5f147347",
   "metadata": {},
   "source": [
    "### Cleaning: Dealing with Missing Values <a class=\"anchor\" id=\"section2_4\"></a>\n",
    "How should we interpret 'missing' or 'invalid' values in the data (hint: look at where these values occur)? One approach is to simply exclude them from the dataframe. Is this appropriate for all 'missing' or 'invalid' values?"
   ]
  },
  {
   "cell_type": "code",
   "execution_count": null,
   "id": "685b6e77",
   "metadata": {},
   "outputs": [],
   "source": [
    "# Treat the missing or invalid values in your dataframe\n",
    "#######\n",
    "\n",
    "df = df[df.year.notnull()]"
   ]
  },
  {
   "cell_type": "markdown",
   "id": "73523061",
   "metadata": {},
   "source": [
    "Ok so we have done some cleaning. What do things look like now? Notice the float has not yet changed."
   ]
  },
  {
   "cell_type": "code",
   "execution_count": null,
   "id": "4aa3ba61",
   "metadata": {},
   "outputs": [],
   "source": [
    "df.dtypes"
   ]
  },
  {
   "cell_type": "code",
   "execution_count": null,
   "id": "09d5a932",
   "metadata": {},
   "outputs": [],
   "source": [
    "print(np.sum(df.year.isnull()))\n",
    "df.shape  # We removed seven rows"
   ]
  },
  {
   "cell_type": "markdown",
   "id": "de456fea",
   "metadata": {},
   "source": [
    "<div class=\"exercise\"><b>Exercise 3</b></div>\n",
    "\n",
    "Ok so lets fix those types. Convert them to ints. If the type conversion fails, we now know we have further problems."
   ]
  },
  {
   "cell_type": "code",
   "execution_count": null,
   "id": "93dff83f",
   "metadata": {},
   "outputs": [],
   "source": [
    "# your code here\n",
    "df.rating_count = df.rating_count.astype(int)\n",
    "df.review_count = df.review_count.astype(int)\n",
    "df.year = df.year.astype(int)"
   ]
  },
  {
   "cell_type": "markdown",
   "id": "c8648adc",
   "metadata": {},
   "source": [
    "Once you do this, we seem to be good on these columns (no errors in conversion). Lets look:"
   ]
  },
  {
   "cell_type": "code",
   "execution_count": null,
   "id": "36a6175c",
   "metadata": {},
   "outputs": [],
   "source": [
    "df.dtypes"
   ]
  },
  {
   "cell_type": "markdown",
   "id": "cdc63c56",
   "metadata": {},
   "source": [
    "Some of the other colums that should be strings have NaN."
   ]
  },
  {
   "cell_type": "code",
   "execution_count": null,
   "id": "f5f56f44",
   "metadata": {},
   "outputs": [],
   "source": [
    "df.loc[df.genre_urls.isnull(), \"genre_urls\"] = \"\"\n",
    "df.loc[df.isbn.isnull(), \"isbn\"] = \"\""
   ]
  },
  {
   "cell_type": "markdown",
   "id": "80c38a93",
   "metadata": {},
   "source": [
    "##  Part 2: Parsing and Completing the Data Frame <a class=\"anchor\" id=\"chapter3\"></a>\n",
    "\n",
    "We will parse the `author` column from the author_url and `genres` column from the genre_urls. Keep the `genres` column as a string separated by '|'.\n",
    "\n",
    "We will use panda's `map` to assign new columns to the dataframe."
   ]
  },
  {
   "cell_type": "markdown",
   "id": "18c278bf",
   "metadata": {},
   "source": [
    "Examine an example `author_url` and reason about which sequence of string operations must be performed in order to isolate the author's name."
   ]
  },
  {
   "cell_type": "code",
   "execution_count": null,
   "id": "2ff48f3c",
   "metadata": {},
   "outputs": [],
   "source": [
    "# Get the first author_url\n",
    "test_string = df.author_url[0]\n",
    "test_string"
   ]
  },
  {
   "cell_type": "code",
   "execution_count": null,
   "id": "60c4b518",
   "metadata": {
    "lines_to_next_cell": 2
   },
   "outputs": [],
   "source": [
    "# Test out some string operations to isolate the author name\n",
    "\n",
    "test_string.split(\"/\")[-1].split(\".\")[1:][0]"
   ]
  },
  {
   "cell_type": "markdown",
   "id": "20504a42",
   "metadata": {
    "lines_to_next_cell": 2
   },
   "source": [
    "<div class=\"exercise\"><b>Exercise 4</b></div>\n",
    "\n",
    "Lets wrap the above code into a function which we will then use"
   ]
  },
  {
   "cell_type": "code",
   "execution_count": null,
   "id": "1a9d5d80",
   "metadata": {},
   "outputs": [],
   "source": [
    "# Write a function that accepts an author url and returns the author's name based on your experimentation above\n",
    "def get_author(url):\n",
    "\n",
    "    name = url.split(\"/\")[-1].split(\".\")[1:][0]\n",
    "\n",
    "    return name"
   ]
  },
  {
   "cell_type": "code",
   "execution_count": null,
   "id": "91cc63b1",
   "metadata": {},
   "outputs": [],
   "source": [
    "# Apply the get_author function to the 'author_url' column using '.map'\n",
    "# and add a new column 'author' to store the names\n",
    "df[\"author\"] = df.author_url.map(get_author)\n",
    "df.author[0:5]"
   ]
  },
  {
   "cell_type": "markdown",
   "id": "19d7b921",
   "metadata": {},
   "source": [
    "<div class=\"exercise\"><b>Exercise 5</b></div>\n",
    "\n",
    "Now parse out the genres from `genre_url`.\n",
    "\n",
    "This is a little more complicated because there be more than one genre.\n"
   ]
  },
  {
   "cell_type": "code",
   "execution_count": null,
   "id": "9bee9e6e",
   "metadata": {},
   "outputs": [],
   "source": [
    "df.genre_urls.head()"
   ]
  },
  {
   "cell_type": "code",
   "execution_count": null,
   "id": "90745af2",
   "metadata": {
    "lines_to_next_cell": 2
   },
   "outputs": [],
   "source": [
    "# Examine some examples of genre_urls\n",
    "\n",
    "# Test out some string operations to isolate the genre name\n",
    "test_genre_string = df.genre_urls[0]\n",
    "genres = test_genre_string.strip().split(\"|\")\n",
    "for e in genres:\n",
    "    print(e.split(\"/\")[-1])\n",
    "    \"|\".join(genres)"
   ]
  },
  {
   "cell_type": "markdown",
   "id": "b75c2510",
   "metadata": {
    "lines_to_next_cell": 2
   },
   "source": [
    "<div class=\"exercise\"><b>Exercise 6</b></div>\n",
    "\n",
    "Write a function that accepts a genre url and returns the genre name based on your experimentation above\n",
    "\n"
   ]
  },
  {
   "cell_type": "code",
   "execution_count": null,
   "id": "3b5b5aca",
   "metadata": {},
   "outputs": [],
   "source": [
    "def split_and_join_genres(url):\n",
    "\n",
    "    genres = url.strip().split(\"|\")\n",
    "    genres = [e.split(\"/\")[-1] for e in genres]\n",
    "    return \"|\".join(genres)"
   ]
  },
  {
   "cell_type": "markdown",
   "id": "c8239e26",
   "metadata": {},
   "source": [
    "Test your function"
   ]
  },
  {
   "cell_type": "code",
   "execution_count": null,
   "id": "9eed0b42",
   "metadata": {},
   "outputs": [],
   "source": [
    "split_and_join_genres(\"/genres/young-adult|/genres/science-fiction\")"
   ]
  },
  {
   "cell_type": "code",
   "execution_count": null,
   "id": "2ec0759d",
   "metadata": {},
   "outputs": [],
   "source": [
    "split_and_join_genres(\"\")"
   ]
  },
  {
   "cell_type": "markdown",
   "id": "bf999ac2",
   "metadata": {},
   "source": [
    "<div class=\"exercise\"><b>Exercise 7</b></div>\n",
    "\n",
    "Use map again to create a new \"genres\" column"
   ]
  },
  {
   "cell_type": "code",
   "execution_count": null,
   "id": "3813f993",
   "metadata": {},
   "outputs": [],
   "source": [
    "\n",
    "df[\"genres\"] = df.genre_urls.map(split_and_join_genres)\n",
    "df.head()"
   ]
  },
  {
   "cell_type": "markdown",
   "id": "bb24a43a",
   "metadata": {},
   "source": [
    "Finally, let's pick an author at random so we can see the results of the transformations.  Scroll to see the `author` and `genre` columns that we added to the dataframe."
   ]
  },
  {
   "cell_type": "code",
   "execution_count": null,
   "id": "c7858f73",
   "metadata": {},
   "outputs": [],
   "source": [
    "df[df.author == \"Marguerite_Yourcenar\"]"
   ]
  },
  {
   "cell_type": "markdown",
   "id": "84566021",
   "metadata": {},
   "source": [
    "Let us delete the `genre_urls` column."
   ]
  },
  {
   "cell_type": "code",
   "execution_count": null,
   "id": "6515467e",
   "metadata": {},
   "outputs": [],
   "source": [
    "del df[\"genre_urls\"]"
   ]
  },
  {
   "cell_type": "markdown",
   "id": "1ca632a9",
   "metadata": {},
   "source": [
    "And then save the dataframe out!"
   ]
  },
  {
   "cell_type": "code",
   "execution_count": null,
   "id": "a527a700",
   "metadata": {},
   "outputs": [],
   "source": [
    "df.to_csv(\"data/cleaned-goodreads.csv\", index=False, header=True)"
   ]
  },
  {
   "cell_type": "markdown",
   "id": "554e7a17",
   "metadata": {},
   "source": [
    "---"
   ]
  },
  {
   "cell_type": "markdown",
   "id": "e6fe60dc",
   "metadata": {},
   "source": [
    "## Part 3: Grouping  <a class=\"anchor\" id=\"chapter4\"></a>"
   ]
  },
  {
   "cell_type": "markdown",
   "id": "85310c95",
   "metadata": {},
   "source": [
    "It appears that some books were written in negative years!  Print out the observations that correspond to negative years.  What do you notice about these books?"
   ]
  },
  {
   "cell_type": "code",
   "execution_count": null,
   "id": "fc242bb9",
   "metadata": {},
   "outputs": [],
   "source": [
    "# your code here\n",
    "df[df.year < 0].name\n",
    "# These are books written before the Common Era (BCE, equivalent to BC)."
   ]
  },
  {
   "cell_type": "markdown",
   "id": "07e91053",
   "metadata": {},
   "source": [
    "We can determine the \"best book\" by year! For this we use Panda's `groupby()`. `Groupby()` allows grouping a dataframe by any (usually categorical) variable. Would it make sense to ever groupby integer variables? Floating point variables?"
   ]
  },
  {
   "cell_type": "code",
   "execution_count": null,
   "id": "47aeafac",
   "metadata": {},
   "outputs": [],
   "source": [
    "dfgb_author = df.groupby(\"author\")\n",
    "type(dfgb_author)"
   ]
  },
  {
   "cell_type": "markdown",
   "id": "a2f4d7f1",
   "metadata": {},
   "source": [
    "Perhaps we want the number of books each author wrote"
   ]
  },
  {
   "cell_type": "code",
   "execution_count": null,
   "id": "509e9cae",
   "metadata": {},
   "outputs": [],
   "source": [
    "dfgb_author.count()"
   ]
  },
  {
   "cell_type": "markdown",
   "id": "6f3b20e8",
   "metadata": {},
   "source": [
    "Lots of useless info there. One column should suffice"
   ]
  },
  {
   "cell_type": "markdown",
   "id": "133779b6",
   "metadata": {},
   "source": [
    "<div class=\"exercise\"><b>Exercise 8</b></div>\n",
    "\n",
    "- Group the dataframe by `author`. Include the following columns: `rating`, `name`, `author`. For the aggregation of the `name` column which includes the names of the books create a list with the strings containing the name of each book. Make sure that the way you aggregate the rest of the columns make sense!\n",
    "\n",
    "- Create a new column with number of books for each author and find the most prolific author!"
   ]
  },
  {
   "cell_type": "code",
   "execution_count": null,
   "id": "125ead98",
   "metadata": {},
   "outputs": [],
   "source": [
    "###### Before we start : what do we do about these titles where 'name' is unreadable? Try different encodings?\n",
    "auth_name = \"A_id_al_Qarni\"\n",
    "df[df.author == auth_name].head()"
   ]
  },
  {
   "cell_type": "code",
   "execution_count": null,
   "id": "9a6e88f6",
   "metadata": {},
   "outputs": [],
   "source": [
    "df[df.author == auth_name].iat[0, 8].encode(\"UTF-16\")"
   ]
  },
  {
   "cell_type": "code",
   "execution_count": null,
   "id": "fefe88b1",
   "metadata": {},
   "outputs": [],
   "source": [
    "# let's examine the columns we have\n",
    "df.columns"
   ]
  },
  {
   "cell_type": "markdown",
   "id": "2c6d0258",
   "metadata": {},
   "source": [
    "Create the GroupBy table"
   ]
  },
  {
   "cell_type": "code",
   "execution_count": null,
   "id": "bc24efac",
   "metadata": {},
   "outputs": [],
   "source": [
    "authors = df.copy()\n",
    "authors = (\n",
    "    authors[[\"rating\", \"name\", \"author\"]]\n",
    "    .groupby(\"author\")\n",
    "    .agg({\"rating\": \"mean\", \"name\": \"|\".join})\n",
    ")"
   ]
  },
  {
   "cell_type": "code",
   "execution_count": null,
   "id": "c5c51c7c",
   "metadata": {},
   "outputs": [],
   "source": [
    "authors = authors.reset_index()\n",
    "authors.head()"
   ]
  },
  {
   "cell_type": "code",
   "execution_count": null,
   "id": "d6a612d7",
   "metadata": {},
   "outputs": [],
   "source": [
    "# split the column string and make a list of string book names\n",
    "authors[\"name\"] = authors.name.str.split(\"|\")\n",
    "authors.head()"
   ]
  },
  {
   "cell_type": "code",
   "execution_count": null,
   "id": "22908d02",
   "metadata": {},
   "outputs": [],
   "source": [
    "# count the books - create new column\n",
    "len(authors.name[0])"
   ]
  },
  {
   "cell_type": "code",
   "execution_count": null,
   "id": "607c50be",
   "metadata": {},
   "outputs": [],
   "source": [
    "authors[\"num_books\"] = authors[\"name\"].str.len()\n",
    "authors"
   ]
  },
  {
   "cell_type": "code",
   "execution_count": null,
   "id": "ef4c538a",
   "metadata": {},
   "outputs": [],
   "source": [
    "# sort for more prolific\n",
    "authors.sort_values(by=\"num_books\", ascending=False).iloc[0]"
   ]
  },
  {
   "cell_type": "markdown",
   "id": "ddea6676",
   "metadata": {},
   "source": [
    "#### Winner is Stephen King with 56 books"
   ]
  },
  {
   "cell_type": "markdown",
   "id": "a939cbc3",
   "metadata": {},
   "source": [
    "Perhaps you want more detailed info..."
   ]
  },
  {
   "cell_type": "code",
   "execution_count": null,
   "id": "b7749dd5",
   "metadata": {},
   "outputs": [],
   "source": [
    "dfgb_author[[\"rating\", \"rating_count\", \"review_count\", \"year\"]].describe()"
   ]
  },
  {
   "cell_type": "markdown",
   "id": "55e03841",
   "metadata": {},
   "source": [
    "You can also access a `groupby` dictionary style."
   ]
  },
  {
   "cell_type": "code",
   "execution_count": null,
   "id": "607db2c4",
   "metadata": {},
   "outputs": [],
   "source": [
    "ratingdict = {}\n",
    "for author, subset in dfgb_author:\n",
    "    ratingdict[author] = (subset[\"rating\"].mean(), subset[\"rating\"].std())\n",
    "ratingdict"
   ]
  },
  {
   "cell_type": "markdown",
   "id": "f23275f3",
   "metadata": {},
   "source": [
    "<div class=\"exercise\"><b>Exercise 9</b></div>\n",
    "\n",
    "Lets get the best-rated book(s) for every year in our dataframe."
   ]
  },
  {
   "cell_type": "code",
   "execution_count": null,
   "id": "b7e5dba5",
   "metadata": {},
   "outputs": [],
   "source": [
    "# Using .groupby, we can divide the dataframe into subsets by the values of 'year'.\n",
    "# We can then iterate over these subsets\n",
    "for year, subset in df.groupby(\"year\"):\n",
    "    # Find the best book of the year\n",
    "\n",
    "    bestbook = subset[subset.rating == subset.rating.max()]\n",
    "    if bestbook.shape[0] > 1:\n",
    "        print(year, bestbook.name.values, bestbook.rating.values)\n",
    "    else:\n",
    "        print(year, bestbook.name.values[0], bestbook.rating.values[0])"
   ]
  }
 ],
 "metadata": {
  "kernelspec": {
   "display_name": "Python 3 (ipykernel)",
   "language": "python",
   "name": "python3"
  }
 },
 "nbformat": 4,
 "nbformat_minor": 5
}
