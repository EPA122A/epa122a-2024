{
 "cells": [
  {
   "cell_type": "markdown",
   "id": "a140baa6",
   "metadata": {},
   "source": [
    "#  EPA-122A *Spatial* Data Science\n",
    "\n",
    "\n",
    "## Lab 2 - part 1: Data Engineering\n",
    "\n",
    "**TU Delft**<br>\n",
    "**Q2 2024**<br>\n",
    "**Instructors:** Giacomo Marangoni, Theodoros Chatzivasileiadis <br>\n",
    "\n",
    "---\n"
   ]
  },
  {
   "cell_type": "markdown",
   "id": "012cf0b7",
   "metadata": {},
   "source": [
    "## Table of Contents\n",
    "\n",
    "* [Learning Goals](#chapter0)\n",
    "* [Creating data](#chapter1)\n",
    "    * [DataFrame](#section1_1)\n",
    "    * [Series](#section1_2)\n",
    "* [Reading data files](#chapter2)\n",
    "* [Indexing data](#chapter3)\n",
    "    * [Native accessors](#section3_1)\n",
    "    * [Indexing in pandas](#section3_2)\n",
    "        * [Index-based selection](#section3_2_1)\n",
    "        * [Label-based selection](#section3_2_2)\n",
    "        * [Choosing between loc and iloc](#section3_2_3)\n",
    "        * [Manipulating the index](#section3_2_4)\n",
    "    * [Conditional selection](#section3_3)\n",
    "    * [Using indexing to assign data](#section3_4)\n",
    "* [Groupwise analysis (Advanced skill)](#chapter4)\n",
    "    * [Multi-indexes](#section4_1)\n",
    "    * [Sorting](#section4_2)\n",
    "* [Additional tools](#chapter5)\n",
    "    * [Summary functions](#section5_1)\n",
    "    * [Maps (Advanced skill)](#section5_2)\n",
    "    * [Dtypes](#section5_3)\n",
    "    * [Missing data](#section5_4)\n",
    "    * [Renaming](#section5_5)\n",
    "    * [Combining data](#section5_6)"
   ]
  },
  {
   "cell_type": "markdown",
   "id": "c617379c",
   "metadata": {},
   "source": [
    "## Learning Goals <a class=\"anchor\" id=\"chapter0\"></a>\n",
    "\n",
    "- Understand different core objects, learn how to create data and reading data files.\n",
    "- Learn the concepts and tools of 'indexing' data.\n",
    "- Develop an understanding of 'groupwise analysis' and learn the necessary tools.\n",
    "- Learn additional tools of analysing data as mentioned in TOC.\n",
    "\n",
    "This notebook covers the basic tools of data analysis that are **needed** for the course"
   ]
  },
  {
   "cell_type": "code",
   "execution_count": null,
   "id": "d053fe1e",
   "metadata": {
    "lines_to_next_cell": 2
   },
   "outputs": [],
   "source": [
    "import pandas as pd"
   ]
  },
  {
   "cell_type": "markdown",
   "id": "dbdc7f83",
   "metadata": {},
   "source": [
    "## Creating data  <a class=\"anchor\" id=\"chapter1\"></a>\n",
    "\n",
    "There are two core objects in pandas: the DataFrame and the Series.\n"
   ]
  },
  {
   "cell_type": "markdown",
   "id": "92bec2c2",
   "metadata": {},
   "source": [
    "### DataFrame <a class=\"anchor\" id=\"section1_1\"></a>\n",
    "\n",
    "A DataFrame is a table. It contains an array of individual entries, each of which has a certain value. Each entry corresponds to a row (or record) and a column.\n",
    "\n",
    "For example, consider the following simple DataFrame:"
   ]
  },
  {
   "cell_type": "code",
   "execution_count": null,
   "id": "157f2e87",
   "metadata": {},
   "outputs": [],
   "source": [
    "pd.DataFrame({\"Yes\": [50, 21], \"No\": [131, 2]})"
   ]
  },
  {
   "cell_type": "markdown",
   "id": "e5f26e85",
   "metadata": {},
   "source": [
    "\n",
    "In this example, the \"0, No\" entry has the value of 131. The \"0, Yes\" entry has a value of 50, and so on.\n",
    "\n",
    "DataFrame entries are not limited to integers. For instance, here's a DataFrame whose values are strings:\n"
   ]
  },
  {
   "cell_type": "code",
   "execution_count": null,
   "id": "c5395f39",
   "metadata": {},
   "outputs": [],
   "source": [
    "pd.DataFrame(\n",
    "    {\"Bob\": [\"I liked it.\", \"It was awful.\"], \"Sue\": [\"Pretty good.\", \"Bland.\"]}\n",
    ")"
   ]
  },
  {
   "cell_type": "markdown",
   "id": "1d550099",
   "metadata": {},
   "source": [
    "\n",
    "\n",
    "We are using the `pd.DataFrame()` constructor to generate these DataFrame objects. The syntax for declaring a new one is a dictionary whose keys are the column names (`Bob` and `Sue` in this example), and whose values are a list of entries. This is the standard way of constructing a new DataFrame, and the one you are most likely to encounter.\n",
    "\n",
    "The dictionary-list constructor assigns values to the column labels, but just uses an ascending count from 0 (0, 1, 2, 3, ...) for the row labels. Sometimes this is OK, but oftentimes we will want to assign these labels ourselves.\n",
    "\n",
    "The list of row labels used in a DataFrame is known as an Index. We can assign values to it by using an `index` parameter in our constructor:\n"
   ]
  },
  {
   "cell_type": "code",
   "execution_count": null,
   "id": "1473d15d",
   "metadata": {},
   "outputs": [],
   "source": [
    "pd.DataFrame(\n",
    "    {\"Bob\": [\"I liked it.\", \"It was awful.\"], \"Sue\": [\"Pretty good.\", \"Bland.\"]},\n",
    "    index=[\"Product A\", \"Product B\"],\n",
    ")"
   ]
  },
  {
   "cell_type": "markdown",
   "id": "495b8e53",
   "metadata": {},
   "source": [
    "### Series  <a class=\"anchor\" id=\"section1_2\"></a>\n",
    "\n",
    "A Series, by contrast, is a sequence of data values. If a DataFrame is a table, a Series is a list. And in fact you can create one with nothing more than a list:\n"
   ]
  },
  {
   "cell_type": "code",
   "execution_count": null,
   "id": "ea3b4c0d",
   "metadata": {},
   "outputs": [],
   "source": [
    "pd.Series([1, 2, 3, 4, 5])"
   ]
  },
  {
   "cell_type": "markdown",
   "id": "5115cdfe",
   "metadata": {},
   "source": [
    "A Series is, in essence, a single column of a DataFrame. So you can assign column values to the Series the same way as before, using an index parameter. However, a Series does not have a column name, it only has one overall name:"
   ]
  },
  {
   "cell_type": "code",
   "execution_count": null,
   "id": "710e1f32",
   "metadata": {},
   "outputs": [],
   "source": [
    "pd.Series(\n",
    "    [30, 35, 40], index=[\"2015 Sales\", \"2016 Sales\", \"2017 Sales\"], name=\"Product A\"\n",
    ")"
   ]
  },
  {
   "cell_type": "markdown",
   "id": "8f06340f",
   "metadata": {},
   "source": [
    "\n",
    "\n",
    "The Series and the DataFrame are intimately related. It's helpful to think of a DataFrame as actually being just a bunch of Series \"glued together\". We'll see more of this in the next section of this tutorial.\n"
   ]
  },
  {
   "cell_type": "markdown",
   "id": "2e7bbcfa",
   "metadata": {},
   "source": [
    "## Reading data files  <a class=\"anchor\" id=\"chapter2\"></a>\n",
    "\n",
    "Being able to create a DataFrame or Series by hand is handy. But, most of the time, we won't actually be creating our own data by hand. Instead, we'll be working with data that already exists.\n",
    "\n",
    "Data can be stored in any of a number of different forms and formats. By far the most basic of these is the humble CSV file. When you open a CSV file you get something that looks like this:\n",
    "\n",
    "`Product A,Product B,Product C,\n",
    "30,21,9,\n",
    "35,34,1,\n",
    "41,11,11`\n",
    "\n",
    "So a CSV file is a table of values separated by commas. Hence the name: \"Comma-Separated Values\", or CSV.\n",
    "\n",
    "Let's now set aside our toy datasets and see what a real dataset looks like when we read it into a DataFrame. We'll use the pd.read_csv() function to read the data into a DataFrame. This goes thusly:"
   ]
  },
  {
   "cell_type": "code",
   "execution_count": null,
   "id": "f65df675",
   "metadata": {},
   "outputs": [],
   "source": [
    "wine_reviews = pd.read_csv(\"./data/winemag-data-130k-v2.csv\")"
   ]
  },
  {
   "cell_type": "markdown",
   "id": "d16fbf86",
   "metadata": {},
   "source": [
    "We can use the `shape` attribute to check how large the resulting DataFrame is:"
   ]
  },
  {
   "cell_type": "code",
   "execution_count": null,
   "id": "051bb7aa",
   "metadata": {},
   "outputs": [],
   "source": [
    "wine_reviews.shape"
   ]
  },
  {
   "cell_type": "markdown",
   "id": "ae8cc6e8",
   "metadata": {},
   "source": [
    "So our new DataFrame has 130,000 records split across 14 different columns. That's almost 2 million entries!\n",
    "\n",
    "We can examine the contents of the resultant DataFrame using the head() command, which grabs the first five rows:"
   ]
  },
  {
   "cell_type": "code",
   "execution_count": null,
   "id": "53bf2e94",
   "metadata": {},
   "outputs": [],
   "source": [
    "wine_reviews.head()"
   ]
  },
  {
   "cell_type": "markdown",
   "id": "31483d4e",
   "metadata": {},
   "source": [
    "The `pd.read_csv()` function is well-endowed, with over 30 optional parameters you can specify. For example, you can see in this dataset that the CSV file has a built-in index, which pandas did not pick up on automatically. To make pandas use that column for the index (instead of creating a new one from scratch), we can specify an `index_col`.\n"
   ]
  },
  {
   "cell_type": "code",
   "execution_count": null,
   "id": "fd1fb8bf",
   "metadata": {},
   "outputs": [],
   "source": [
    "wine_reviews = pd.read_csv(\"./data/winemag-data-130k-v2.csv\", index_col=0)\n",
    "wine_reviews.head()"
   ]
  },
  {
   "cell_type": "markdown",
   "id": "8b8d03a1",
   "metadata": {},
   "source": [
    "## Indexing data   <a class=\"anchor\" id=\"chapter3\"></a>"
   ]
  },
  {
   "cell_type": "markdown",
   "id": "9f5f42e1",
   "metadata": {},
   "source": [
    "### Native accessors   <a class=\"anchor\" id=\"section3_1\"></a>\n",
    "\n",
    "Native Python objects provide good ways of indexing data. Pandas carries all of these over, which helps make it easy to start with.\n",
    "\n",
    "Consider this DataFrame:"
   ]
  },
  {
   "cell_type": "code",
   "execution_count": null,
   "id": "d8340609",
   "metadata": {},
   "outputs": [],
   "source": [
    "reviews = pd.read_csv(\"./data/winemag-data-130k-v2.csv\", index_col=0)"
   ]
  },
  {
   "cell_type": "markdown",
   "id": "e2d51340",
   "metadata": {},
   "source": [
    "In Python, we can access the property of an object by accessing it as an attribute. A `book` object, for example, might have a title property, which we can access by calling `book.title`. Columns in a pandas DataFrame work in much the same way.\n",
    "\n",
    "Hence to access the `country` property of `reviews` we can use:\n"
   ]
  },
  {
   "cell_type": "code",
   "execution_count": null,
   "id": "74675edd",
   "metadata": {},
   "outputs": [],
   "source": [
    "reviews.country  #'country' being the name of the column of interest"
   ]
  },
  {
   "cell_type": "markdown",
   "id": "1118b337",
   "metadata": {},
   "source": [
    "If we have a Python dictionary, we can access its values using the indexing ([]) operator. We can do the same with columns in a DataFrame:"
   ]
  },
  {
   "cell_type": "code",
   "execution_count": null,
   "id": "c69280b2",
   "metadata": {},
   "outputs": [],
   "source": [
    "reviews[\"country\"]"
   ]
  },
  {
   "cell_type": "markdown",
   "id": "a26ccdc4",
   "metadata": {},
   "source": [
    "These are the two ways of selecting a specific Series out of a DataFrame. Neither of them is more or less syntactically valid than the other, but the indexing operator `[]` does have the advantage that it can handle column names with reserved characters in them (e.g. if we had a `country providence` column, `reviews.country` providence wouldn't work).\n",
    "\n",
    "Doesn't a pandas Series look kind of like a fancy dictionary? It pretty much is, so it's no surprise that, to drill down to a single specific value, we need only use the indexing operator `[]` once more:\n"
   ]
  },
  {
   "cell_type": "code",
   "execution_count": null,
   "id": "becea8e3",
   "metadata": {},
   "outputs": [],
   "source": [
    "reviews[\"country\"][0]"
   ]
  },
  {
   "cell_type": "markdown",
   "id": "6162bfa0",
   "metadata": {},
   "source": [
    "### Indexing in pandas   <a class=\"anchor\" id=\"section3_2\"></a>\n",
    "\n",
    "The indexing operator and attribute selection are nice because they work just like they do in the rest of the Python ecosystem. As a novice, this makes them easy to pick up and use. However, pandas has its own accessor operators, `loc` and `iloc`. For more advanced operations, these are the ones you're supposed to be using."
   ]
  },
  {
   "cell_type": "markdown",
   "id": "4db9f48d",
   "metadata": {},
   "source": [
    "\n",
    "#### Index-based selection   <a class=\"anchor\" id=\"section3_2_1\"></a>\n",
    "\n",
    "Pandas indexing works in one of two paradigms. The first is **index-based selection**: selecting data based on its numerical position in the data. `iloc` follows this paradigm.\n",
    "\n",
    "To select the first row of data in a DataFrame, we may use the following:"
   ]
  },
  {
   "cell_type": "code",
   "execution_count": null,
   "id": "adda5ed7",
   "metadata": {},
   "outputs": [],
   "source": [
    "reviews.iloc[0]"
   ]
  },
  {
   "cell_type": "markdown",
   "id": "71274bd4",
   "metadata": {},
   "source": [
    "Both `loc` and `iloc` are row-first, column-second. This is the opposite of what we do in native Python, which is column-first, row-second.\n",
    "\n",
    "This means that it's marginally easier to retrieve rows, and marginally harder to get retrieve columns. To get a column with `iloc`, we can do the following:\n"
   ]
  },
  {
   "cell_type": "code",
   "execution_count": null,
   "id": "b20784c5",
   "metadata": {},
   "outputs": [],
   "source": [
    "reviews.iloc[:, 0]"
   ]
  },
  {
   "cell_type": "markdown",
   "id": "0697bbff",
   "metadata": {},
   "source": [
    "On its own, the `:` operator, which also comes from native Python, means \"everything\". When combined with other selectors, however, it can be used to indicate a range of values. For example, to select the country column from just the first, second, and third row, we would do:"
   ]
  },
  {
   "cell_type": "code",
   "execution_count": null,
   "id": "9d4af83c",
   "metadata": {},
   "outputs": [],
   "source": [
    "reviews.iloc[:3, 0]"
   ]
  },
  {
   "cell_type": "markdown",
   "id": "50c9f724",
   "metadata": {},
   "source": [
    "\n",
    "\n",
    "Or, to select just the second and third entries, we would do:\n"
   ]
  },
  {
   "cell_type": "code",
   "execution_count": null,
   "id": "9114c612",
   "metadata": {},
   "outputs": [],
   "source": [
    "reviews.iloc[1:3, 0]"
   ]
  },
  {
   "cell_type": "markdown",
   "id": "c5c15f41",
   "metadata": {},
   "source": [
    "\n",
    "\n",
    "It's also possible to pass a list:\n"
   ]
  },
  {
   "cell_type": "code",
   "execution_count": null,
   "id": "30a7323c",
   "metadata": {},
   "outputs": [],
   "source": [
    "reviews.iloc[[0, 1, 2], 0]"
   ]
  },
  {
   "cell_type": "markdown",
   "id": "ecfb9d0b",
   "metadata": {},
   "source": [
    "Finally, it's worth knowing that negative numbers can be used in selection. This will start counting forwards from the end of the values. So for example here are the last five elements of the dataset.\n"
   ]
  },
  {
   "cell_type": "code",
   "execution_count": null,
   "id": "7496bd2c",
   "metadata": {},
   "outputs": [],
   "source": [
    "reviews.iloc[-5:]"
   ]
  },
  {
   "cell_type": "markdown",
   "id": "4dbe17ed",
   "metadata": {},
   "source": [
    "\n",
    "#### Label-based selection  <a class=\"anchor\" id=\"section3_2_2\"></a>\n",
    "\n",
    "The second paradigm for attribute selection is the one followed by the `loc` operator: **label-based selection**. In this paradigm, it's the data index value, not its position, which matters.\n",
    "\n",
    "For example, to get the first entry in `reviews`, we would now do the following:\n"
   ]
  },
  {
   "cell_type": "code",
   "execution_count": null,
   "id": "877f592e",
   "metadata": {},
   "outputs": [],
   "source": [
    "reviews.loc[0, \"country\"]"
   ]
  },
  {
   "cell_type": "markdown",
   "id": "889349a8",
   "metadata": {},
   "source": [
    "`iloc` is conceptually simpler than `loc` because it ignores the dataset's indices. When we use `iloc` we treat the dataset like a big matrix (a list of lists), one that we have to index into by position. loc, by contrast, uses the information in the indices to do its work. Since your dataset usually has meaningful indices, it's usually easier to do things using `loc` instead. For example, here's one operation that's much easier using `loc`:\n"
   ]
  },
  {
   "cell_type": "code",
   "execution_count": null,
   "id": "06f531e0",
   "metadata": {},
   "outputs": [],
   "source": [
    "reviews.loc[:, [\"taster_name\", \"taster_twitter_handle\", \"points\"]]"
   ]
  },
  {
   "cell_type": "markdown",
   "id": "05c1b355",
   "metadata": {},
   "source": [
    "\n",
    "#### Choosing between `loc` and `iloc`  <a class=\"anchor\" id=\"section3_2_3\"></a>\n",
    "\n",
    "When choosing or transitioning between `loc` and `iloc`, there is one \"gotcha\" worth keeping in mind, which is that the two methods use slightly different indexing schemes.\n",
    "\n",
    "`iloc` uses the Python stdlib indexing scheme, where the first element of the range is included and the last one excluded. So `0:10` will select entries `0,...,9`. `loc`, meanwhile, indexes inclusively. So `0:10` will select entries `0,...,10`.\n",
    "\n",
    "Why the change? Remember that loc can index any stdlib type: strings, for example. If we have a DataFrame with index values `Apples, ..., Potatoes, ...,` and we want to select \"all the alphabetical fruit choices between Apples and Potatoes\", then it's a lot more convenient to index `df.loc['Apples':'Potatoes']` than it is to index something like `df.loc['Apples', 'Potatoet]` (`t` coming after `s` in the alphabet).\n",
    "\n",
    "This is particularly confusing when the DataFrame index is a simple numerical list, e.g. `0,...,1000`. In this case `df.iloc[0:1000]` will return 1000 entries, while `df.loc[0:1000]` return 1001 of them! To get 1000 elements using `loc`, you will need to go one lower and ask for `df.loc[0:999]`.\n",
    "\n",
    "Otherwise, the semantics of using `loc` are the same as those for `iloc`.\n"
   ]
  },
  {
   "cell_type": "markdown",
   "id": "9aa8b56e",
   "metadata": {},
   "source": [
    "#### Manipulating the index  <a class=\"anchor\" id=\"section3_2_4\"></a>\n",
    "\n",
    "Label-based selection derives its power from the labels in the index. Critically, the index we use is not immutable. We can manipulate the index in any way we see fit.\n",
    "\n",
    "The `set_index()` method can be used to do the job. Here is what happens when we `set_index` to the `title` field:"
   ]
  },
  {
   "cell_type": "code",
   "execution_count": null,
   "id": "410ddec1",
   "metadata": {},
   "outputs": [],
   "source": [
    "reviews.set_index(\"title\")"
   ]
  },
  {
   "cell_type": "markdown",
   "id": "950159eb",
   "metadata": {},
   "source": [
    "This is useful if you can come up with an index for the dataset which is better than the current one."
   ]
  },
  {
   "cell_type": "markdown",
   "id": "222c40d6",
   "metadata": {},
   "source": [
    "\n",
    "### Conditional selection  <a class=\"anchor\" id=\"section3_3\"></a>\n",
    "\n",
    "So far we've been indexing various strides of data, using structural properties of the DataFrame itself. To do interesting things with the data, however, we often need to ask questions based on conditions.\n",
    "\n",
    "For example, suppose that we're interested specifically in better-than-average wines produced in Italy.\n",
    "\n",
    "We can start by checking if each wine is Italian or not:\n"
   ]
  },
  {
   "cell_type": "code",
   "execution_count": null,
   "id": "0ce4d986",
   "metadata": {},
   "outputs": [],
   "source": [
    "reviews.country == \"Italy\""
   ]
  },
  {
   "cell_type": "markdown",
   "id": "9d05fca7",
   "metadata": {},
   "source": [
    "This operation produced a Series of `True/False` booleans based on the `country` of each record. This result can then be used inside of `loc` to select the relevant data:"
   ]
  },
  {
   "cell_type": "code",
   "execution_count": null,
   "id": "059d4f23",
   "metadata": {},
   "outputs": [],
   "source": [
    "reviews.loc[reviews.country == \"Italy\"]"
   ]
  },
  {
   "cell_type": "markdown",
   "id": "1e41ac83",
   "metadata": {},
   "source": [
    "This DataFrame has ~20,000 rows. The original had ~130,000. That means that around 15% of wines originate from Italy.\n",
    "\n",
    "We also wanted to know which ones are better than average. Wines are reviewed on a 80-to-100 point scale, so this could mean wines that accrued at least 90 points.\n",
    "\n",
    "We can use the ampersand (`&`) to bring the two questions together"
   ]
  },
  {
   "cell_type": "code",
   "execution_count": null,
   "id": "0121b0d6",
   "metadata": {},
   "outputs": [],
   "source": [
    "reviews.loc[(reviews.country == \"Italy\") & (reviews.points >= 90)]"
   ]
  },
  {
   "cell_type": "markdown",
   "id": "f3b27ae0",
   "metadata": {},
   "source": [
    "Suppose we'll buy any wine that's made in Italy or which is rated above average. For this we use a pipe (`|`):"
   ]
  },
  {
   "cell_type": "code",
   "execution_count": null,
   "id": "89e4c5d4",
   "metadata": {},
   "outputs": [],
   "source": [
    "reviews.loc[(reviews.country == \"Italy\") | (reviews.points >= 90)]"
   ]
  },
  {
   "cell_type": "markdown",
   "id": "825a24a9",
   "metadata": {},
   "source": [
    "\n",
    "\n",
    "Pandas comes with a few built-in conditional selectors, two of which we will highlight here.\n",
    "\n",
    "The first is `isin`. `isin` is lets you select data whose value \"is in\" a list of values. For example, here's how we can use it to select wines only from Italy or France:\n"
   ]
  },
  {
   "cell_type": "code",
   "execution_count": null,
   "id": "e2942d9b",
   "metadata": {},
   "outputs": [],
   "source": [
    "reviews.loc[reviews.country.isin([\"Italy\", \"France\"])]"
   ]
  },
  {
   "cell_type": "markdown",
   "id": "6df643c6",
   "metadata": {},
   "source": [
    "The second is `isnull` (and its companion `notnull`). These methods let you highlight values which are (or are not) empty (`NaN`). For example, to filter out wines lacking a price tag in the dataset, here's what we would do:"
   ]
  },
  {
   "cell_type": "code",
   "execution_count": null,
   "id": "dafc309e",
   "metadata": {},
   "outputs": [],
   "source": [
    "reviews.loc[reviews.price.notnull()]"
   ]
  },
  {
   "cell_type": "markdown",
   "id": "f8edf409",
   "metadata": {},
   "source": [
    "\n",
    "### Use indexing to assign data   <a class=\"anchor\" id=\"section3_4\"></a>\n",
    "\n",
    "Going the other way, assigning data to a DataFrame is easy. You can assign either a constant value:\n"
   ]
  },
  {
   "cell_type": "code",
   "execution_count": null,
   "id": "78a992bc",
   "metadata": {},
   "outputs": [],
   "source": [
    "reviews[\"critic\"] = \"everyone\"\n",
    "reviews[\"critic\"]"
   ]
  },
  {
   "cell_type": "markdown",
   "id": "75d530f1",
   "metadata": {},
   "source": [
    "Or with an iterable of values:"
   ]
  },
  {
   "cell_type": "code",
   "execution_count": null,
   "id": "3b0661ab",
   "metadata": {},
   "outputs": [],
   "source": [
    "reviews[\"index_backwards\"] = range(len(reviews), 0, -1)\n",
    "reviews[\"index_backwards\"]"
   ]
  },
  {
   "cell_type": "markdown",
   "id": "5aee275b",
   "metadata": {},
   "source": [
    "## Groupwise analysis (Advanced skill)  <a class=\"anchor\" id=\"chapter4\"></a>\n",
    "\n",
    "One function we've been using heavily thus far is the `value_counts()` function. We can replicate what `value_counts()` does by doing the following:"
   ]
  },
  {
   "cell_type": "code",
   "execution_count": null,
   "id": "b49613ef",
   "metadata": {},
   "outputs": [],
   "source": [
    "reviews.groupby(\"points\").points.count()"
   ]
  },
  {
   "cell_type": "markdown",
   "id": "250f0e1f",
   "metadata": {},
   "source": [
    "`groupby()` created a group of reviews which allotted the same point values to the given wines. Then, for each of these groups, we grabbed the `points()` column and counted how many times it appeared. `value_counts()` is just a shortcut to this `groupby()` operation.\n",
    "\n",
    "We can use any of the summary functions we've used before with this data. For example, to get the cheapest wine in each point value category, we can do the following:\n"
   ]
  },
  {
   "cell_type": "code",
   "execution_count": null,
   "id": "499e3ec5",
   "metadata": {},
   "outputs": [],
   "source": [
    "reviews.groupby(\"points\").price.min()"
   ]
  },
  {
   "cell_type": "markdown",
   "id": "bc673ff1",
   "metadata": {},
   "source": [
    "You can think of each group we generate as being a slice of our DataFrame containing only data with values that match. This DataFrame is accessible to us directly using the `apply()` method, and we can then manipulate the data in any way we see fit. For example, here's one way of selecting the name of the first wine reviewed from each winery in the dataset:\n"
   ]
  },
  {
   "cell_type": "code",
   "execution_count": null,
   "id": "8c3e71b9",
   "metadata": {},
   "outputs": [],
   "source": [
    "reviews.groupby(\"winery\").apply(lambda df: df.title.iloc[0], include_groups=False)"
   ]
  },
  {
   "cell_type": "markdown",
   "id": "d4253452",
   "metadata": {},
   "source": [
    "For even more fine-grained control, you can also group by more than one column. For an example, here's how we would pick out the best wine by country and province:\n"
   ]
  },
  {
   "cell_type": "code",
   "execution_count": null,
   "id": "0cc80007",
   "metadata": {},
   "outputs": [],
   "source": [
    "reviews.groupby([\"country\", \"province\"]).apply(lambda df: df.loc[df.points.idxmax()], include_groups=False)"
   ]
  },
  {
   "cell_type": "markdown",
   "id": "0a79bade",
   "metadata": {},
   "source": [
    "Another `groupby()` method worth mentioning is `agg()`, which lets you run a bunch of different functions on your DataFrame simultaneously. For example, we can generate a simple statistical summary of the dataset as follows:\n"
   ]
  },
  {
   "cell_type": "code",
   "execution_count": null,
   "id": "5c5e40c2",
   "metadata": {},
   "outputs": [],
   "source": [
    "reviews.groupby([\"country\"]).price.agg([len, \"min\", \"max\"])"
   ]
  },
  {
   "cell_type": "markdown",
   "id": "2a702ed3",
   "metadata": {},
   "source": [
    "Effective use of `groupby()` will allow you to do lots of really powerful things with your dataset."
   ]
  },
  {
   "cell_type": "markdown",
   "id": "c083b7a1",
   "metadata": {},
   "source": [
    "### Multi-indexes  <a class=\"anchor\" id=\"section4_1\"></a>\n",
    "\n",
    "In all of the examples we've seen thus far we've been working with DataFrame or Series objects with a single-label index. `groupby()` is slightly different in the fact that, depending on the operation we run, it will sometimes result in what is called a multi-index.\n",
    "\n",
    "A multi-index differs from a regular index in that it has multiple levels. For example:\n"
   ]
  },
  {
   "cell_type": "code",
   "execution_count": null,
   "id": "fd7883f7",
   "metadata": {},
   "outputs": [],
   "source": [
    "countries_reviewed = reviews.groupby([\"country\", \"province\"]).description.agg([len])\n",
    "countries_reviewed"
   ]
  },
  {
   "cell_type": "code",
   "execution_count": null,
   "id": "20f06b74",
   "metadata": {},
   "outputs": [],
   "source": [
    "mi = countries_reviewed.index\n",
    "type(mi)"
   ]
  },
  {
   "cell_type": "markdown",
   "id": "eca879c5",
   "metadata": {},
   "source": [
    "Multi-indices have several methods for dealing with their tiered structure which are absent for single-level indices. They also require two levels of labels to retrieve a value. Dealing with multi-index output is a common \"gotcha\" for users new to pandas.\n",
    "\n",
    "The use cases for a multi-index are detailed alongside instructions on using them in the MultiIndex / Advanced Selection section of the pandas documentation.\n",
    "\n",
    "However, in general the multi-index method you will use most often is the one for converting back to a regular index, the `reset_index()` method:\n"
   ]
  },
  {
   "cell_type": "code",
   "execution_count": null,
   "id": "6d6ba4ba",
   "metadata": {},
   "outputs": [],
   "source": [
    "countries_reviewed.reset_index()"
   ]
  },
  {
   "cell_type": "markdown",
   "id": "b04e9476",
   "metadata": {},
   "source": [
    "\n",
    "### Sorting  <a class=\"anchor\" id=\"section4_2\"></a>\n",
    "\n",
    "Looking again at `countries_reviewed` we can see that grouping returns data in index order, not in value order. That is to say, when outputting the result of a `groupby`, the order of the rows is dependent on the values in the index, not in the data.\n",
    "\n",
    "To get data in the order want it in we can sort it ourselves. The `sort_values()` method is handy for this.\n"
   ]
  },
  {
   "cell_type": "code",
   "execution_count": null,
   "id": "5354a138",
   "metadata": {},
   "outputs": [],
   "source": [
    "countries_reviewed = countries_reviewed.reset_index()\n",
    "countries_reviewed.sort_values(by=\"len\")"
   ]
  },
  {
   "cell_type": "markdown",
   "id": "069390fd",
   "metadata": {},
   "source": [
    "`sort_values()` defaults to an ascending sort, where the lowest values go first. However, most of the time we want a descending sort, where the higher numbers go first. That goes thusly:"
   ]
  },
  {
   "cell_type": "code",
   "execution_count": null,
   "id": "cf1169b7",
   "metadata": {},
   "outputs": [],
   "source": [
    "countries_reviewed.sort_values(by=\"len\", ascending=False)"
   ]
  },
  {
   "cell_type": "markdown",
   "id": "986de5eb",
   "metadata": {},
   "source": [
    "To sort by index values, use the companion method sort_index(). This method has the same arguments and default order:"
   ]
  },
  {
   "cell_type": "code",
   "execution_count": null,
   "id": "70662621",
   "metadata": {},
   "outputs": [],
   "source": [
    "countries_reviewed.sort_index()"
   ]
  },
  {
   "cell_type": "markdown",
   "id": "857d645c",
   "metadata": {},
   "source": [
    "Finally, know that you can sort by more than one column at a time"
   ]
  },
  {
   "cell_type": "markdown",
   "id": "e1986817",
   "metadata": {},
   "source": [
    "## Additional tools  <a class=\"anchor\" id=\"chapter5\"></a>"
   ]
  },
  {
   "cell_type": "markdown",
   "id": "33d57d6c",
   "metadata": {},
   "source": [
    "\n",
    "### Summary functions  <a class=\"anchor\" id=\"section5_1\"></a>\n",
    "\n",
    "Pandas provides many simple \"summary functions\" (not an official name) which restructure the data in some useful way. For example, consider the `describe()` method:\n"
   ]
  },
  {
   "cell_type": "code",
   "execution_count": null,
   "id": "5c2d1a0e",
   "metadata": {},
   "outputs": [],
   "source": [
    "reviews.points.describe()"
   ]
  },
  {
   "cell_type": "markdown",
   "id": "c9f8fb8a",
   "metadata": {},
   "source": [
    "This method generates a high-level summary of the attributes of the given column. It is type-aware, meaning that its output changes based on the data type of the input. The output above only makes sense for numerical data; for string data here's what we get:"
   ]
  },
  {
   "cell_type": "code",
   "execution_count": null,
   "id": "755db8c9",
   "metadata": {},
   "outputs": [],
   "source": [
    "reviews.taster_name.describe()"
   ]
  },
  {
   "cell_type": "markdown",
   "id": "c4a90df1",
   "metadata": {},
   "source": [
    "If you want to get some particular simple summary statistic about a column in a DataFrame or a Series, there is usually a helpful pandas function that makes it happen.\n",
    "\n",
    "For example, to see the mean of the points allotted (e.g. how well an averagely rated wine does), we can use the `mean()` function:\n"
   ]
  },
  {
   "cell_type": "code",
   "execution_count": null,
   "id": "9f7444c3",
   "metadata": {},
   "outputs": [],
   "source": [
    "reviews.points.mean()"
   ]
  },
  {
   "cell_type": "markdown",
   "id": "edbeaca9",
   "metadata": {},
   "source": [
    "To see a list of unique values we can use the `unique()` function:"
   ]
  },
  {
   "cell_type": "code",
   "execution_count": null,
   "id": "0babfbd9",
   "metadata": {},
   "outputs": [],
   "source": [
    "reviews.taster_name.unique()"
   ]
  },
  {
   "cell_type": "markdown",
   "id": "8a657a70",
   "metadata": {},
   "source": [
    "To see a list of unique values and how often they occur in the dataset, we can use the `value_counts()` method:\n"
   ]
  },
  {
   "cell_type": "code",
   "execution_count": null,
   "id": "f7e9794d",
   "metadata": {},
   "outputs": [],
   "source": [
    "reviews.taster_name.value_counts()"
   ]
  },
  {
   "cell_type": "markdown",
   "id": "210939ee",
   "metadata": {},
   "source": [
    "\n",
    "### Maps (Advanced skill)  <a class=\"anchor\" id=\"section5_2\"></a>\n",
    "\n",
    "\n",
    "\n",
    "A **map** is a term, borrowed from mathematics, for a function that takes one set of values and \"maps\" them to another set of values. In data science we often have a need for creating new representations from existing data, or for transforming data from the format it is in now to the format that we want it to be in later. Maps are what handle this work, making them extremely important for getting your work done!\n",
    "\n",
    "There are two mapping methods that you will use often.\n",
    "\n",
    "`map()` is the first, and slightly simpler one. For example, suppose that we wanted to remean the scores the wines received to 0. We can do this as follows:\n"
   ]
  },
  {
   "cell_type": "code",
   "execution_count": null,
   "id": "0bca2503",
   "metadata": {
    "lines_to_next_cell": 2
   },
   "outputs": [],
   "source": [
    "review_points_mean = reviews.points.mean()\n",
    "reviews.points.map(lambda p: p - review_points_mean)"
   ]
  },
  {
   "cell_type": "markdown",
   "id": "d4088990",
   "metadata": {
    "lines_to_next_cell": 2
   },
   "source": [
    "The function you pass to `map()` should expect a single value from the Series (a point value, in the above example), and return a transformed version of that value. `map()` returns a new Series where all the values have been transformed by your function.\n",
    "\n",
    "`apply()` is the equivalent method if we want to transform a whole DataFrame by calling a custom method on each row.\n"
   ]
  },
  {
   "cell_type": "code",
   "execution_count": null,
   "id": "b3ba4435",
   "metadata": {},
   "outputs": [],
   "source": [
    "def remean_points(row):\n",
    "    row.points = row.points - review_points_mean\n",
    "    return row\n",
    "\n",
    "\n",
    "reviews.apply(remean_points, axis=\"columns\")"
   ]
  },
  {
   "cell_type": "markdown",
   "id": "496a3cfe",
   "metadata": {},
   "source": [
    "\n",
    "If we had called `reviews.apply()` with `axis='index'`, then instead of passing a function to transform each row, we would need to give a function to transform each column.\n",
    "\n",
    "Note that `map()` and `apply()` return new, transformed Series and DataFrames, respectively. They don't modify the original data they're called on. If we look at the first row of `reviews`, we can see that it still has its original `points` value.\n"
   ]
  },
  {
   "cell_type": "code",
   "execution_count": null,
   "id": "93585483",
   "metadata": {},
   "outputs": [],
   "source": [
    "reviews.head(1)"
   ]
  },
  {
   "cell_type": "markdown",
   "id": "343fc93f",
   "metadata": {},
   "source": [
    "Pandas provides many common mapping operations as built-ins. For example, here's a faster way of remeaning our points column:"
   ]
  },
  {
   "cell_type": "code",
   "execution_count": null,
   "id": "8b3e109f",
   "metadata": {},
   "outputs": [],
   "source": [
    "review_points_mean = reviews.points.mean()\n",
    "reviews.points - review_points_mean"
   ]
  },
  {
   "cell_type": "markdown",
   "id": "3a90906a",
   "metadata": {},
   "source": [
    "In this code we are performing an operation between a lot of values on the left-hand side (everything in the Series) and a single value on the right-hand side (the mean value). Pandas looks at this expression and figures out that we must mean to subtract that mean value from every value in the dataset.\n",
    "\n",
    "Pandas will also understand what to do if we perform these operations between Series of equal length. For example, an easy way of combining country and region information in the dataset would be to do the following:\n"
   ]
  },
  {
   "cell_type": "code",
   "execution_count": null,
   "id": "5001ebe4",
   "metadata": {},
   "outputs": [],
   "source": [
    "reviews.country + \" - \" + reviews.region_1"
   ]
  },
  {
   "cell_type": "markdown",
   "id": "27ede970",
   "metadata": {},
   "source": [
    "These operators are faster than `map()` or `apply()` because they uses speed ups built into pandas. All of the standard Python operators (`>`, `<`, `==`, and so on) work in this manner.\n",
    "\n",
    "However, they are not as flexible as `map()` or `apply()`, which can do more advanced things, like applying conditional logic, which cannot be done with addition and subtraction alone."
   ]
  },
  {
   "cell_type": "markdown",
   "id": "62c7fea4",
   "metadata": {},
   "source": [
    "### Dtypes  <a class=\"anchor\" id=\"section5_3\"></a>\n",
    "\n",
    "The data type for a column in a DataFrame or a Series is known as the **dtype**.\n",
    "\n",
    "You can use the `dtype` property to grab the type of a specific column. For instance, we can get the dtype of the `price` column in the `reviews` DataFrame:"
   ]
  },
  {
   "cell_type": "code",
   "execution_count": null,
   "id": "e7d6d8f2",
   "metadata": {},
   "outputs": [],
   "source": [
    "reviews.price.dtype"
   ]
  },
  {
   "cell_type": "markdown",
   "id": "456ac6b7",
   "metadata": {},
   "source": [
    "Alternatively, the dtypes property returns the dtype of every column in the DataFrame:"
   ]
  },
  {
   "cell_type": "code",
   "execution_count": null,
   "id": "437e9bb9",
   "metadata": {},
   "outputs": [],
   "source": [
    "reviews.dtypes"
   ]
  },
  {
   "cell_type": "markdown",
   "id": "882a8cc9",
   "metadata": {},
   "source": [
    "Data types tell us something about how pandas is storing the data internally. `float64` means that it's using a 64-bit floating point number; `int64` means a similarly sized integer instead, and so on.\n",
    "\n",
    "One peculiarity to keep in mind (and on display very clearly here) is that columns consisting entirely of strings do not get their own type; they are instead given the `object` type.\n",
    "\n",
    "It's possible to convert a column of one type into another wherever such a conversion makes sense by using the `astype()` function. For example, we may transform the `points` column from its existing `int64` data type into a `float64` data type:\n"
   ]
  },
  {
   "cell_type": "code",
   "execution_count": null,
   "id": "48819f44",
   "metadata": {},
   "outputs": [],
   "source": [
    "reviews.points.astype(\"float64\")"
   ]
  },
  {
   "cell_type": "markdown",
   "id": "7540be58",
   "metadata": {},
   "source": [
    "A DataFrame or Series index has its own `dtype`, too:"
   ]
  },
  {
   "cell_type": "code",
   "execution_count": null,
   "id": "bb25c577",
   "metadata": {},
   "outputs": [],
   "source": [
    "reviews.index.dtype"
   ]
  },
  {
   "cell_type": "markdown",
   "id": "ee5bb155",
   "metadata": {},
   "source": [
    "Pandas also supports more exotic data types, such as categorical data and timeseries data. Because these data types are more rarely used, we will omit them until a much later section of this tutorial.\n"
   ]
  },
  {
   "cell_type": "markdown",
   "id": "61eacb27",
   "metadata": {},
   "source": [
    "### Missing data  <a class=\"anchor\" id=\"section5_4\"></a>\n",
    "\n",
    "Entries missing values are given the value NaN, short for \"Not a Number\". For technical reasons these `NaN` values are always of the `float64` dtype.\n",
    "\n",
    "Pandas provides some methods specific to missing data. To select `NaN` entries you can use `pd.isnull()` (or its companion `pd.notnull()`). This is meant to be used thusly:\n"
   ]
  },
  {
   "cell_type": "code",
   "execution_count": null,
   "id": "9e5fb7f6",
   "metadata": {},
   "outputs": [],
   "source": [
    "reviews[pd.isnull(reviews.country)]"
   ]
  },
  {
   "cell_type": "markdown",
   "id": "65afc5e5",
   "metadata": {},
   "source": [
    "Replacing missing values is a common operation. Pandas provides a really handy method for this problem: `fillna()`. `fillna()` provides a few different strategies for mitigating such data. For example, we can simply replace each `NaN` with an `\"Unknown\"`:"
   ]
  },
  {
   "cell_type": "code",
   "execution_count": null,
   "id": "da7a2c08",
   "metadata": {},
   "outputs": [],
   "source": [
    "reviews.region_2.fillna(\"Unknown\")"
   ]
  },
  {
   "cell_type": "markdown",
   "id": "d909ad3b",
   "metadata": {},
   "source": [
    "\n",
    "Or we could fill each missing value with the first non-null value that appears sometime after the given record in the database. This is known as the backfill strategy.\n",
    "\n",
    "\n",
    "\n",
    "\n",
    "\n",
    "Alternatively, we may have a non-null value that we would like to replace. For example, suppose that since this dataset was published, reviewer Kerin O'Keefe has changed her Twitter handle from @kerinokeefe to @kerino. One way to reflect this in the dataset is using the `replace()` method:\n"
   ]
  },
  {
   "cell_type": "code",
   "execution_count": null,
   "id": "b3bbdbe0",
   "metadata": {},
   "outputs": [],
   "source": [
    "reviews.taster_twitter_handle.replace(\"@kerinokeefe\", \"@kerino\")"
   ]
  },
  {
   "cell_type": "markdown",
   "id": "8c0bc015",
   "metadata": {},
   "source": [
    "The `replace()` method is worth mentioning here because it's handy for replacing missing data which is given some kind of sentinel value in the dataset: things like `\"Unknown\"`, `\"Undisclosed\"`, `\"Invalid\"`, and so on."
   ]
  },
  {
   "cell_type": "markdown",
   "id": "fa5ad5fd",
   "metadata": {},
   "source": [
    "### Renaming  <a class=\"anchor\" id=\"section5_5\"></a>\n",
    "\n",
    "The first function we'll introduce here is `rename()`, which lets you change index names and/or column names. For example, to change the `points` column in our dataset to `score`, we would do:"
   ]
  },
  {
   "cell_type": "code",
   "execution_count": null,
   "id": "63a09d59",
   "metadata": {},
   "outputs": [],
   "source": [
    "reviews.rename(columns={\"points\": \"score\"})"
   ]
  },
  {
   "cell_type": "markdown",
   "id": "01519cec",
   "metadata": {},
   "source": [
    "`rename()` lets you rename index or column values by specifying a `index` or `column` keyword parameter, respectively. It supports a variety of input formats, but usually a Python dictionary is the most convenient. Here is an example using it to rename some elements of the index."
   ]
  },
  {
   "cell_type": "code",
   "execution_count": null,
   "id": "eea40a33",
   "metadata": {},
   "outputs": [],
   "source": [
    "reviews.rename(index={0: \"firstEntry\", 1: \"secondEntry\"})"
   ]
  },
  {
   "cell_type": "markdown",
   "id": "6558e53f",
   "metadata": {},
   "source": [
    "You'll probably rename columns very often, but rename index values very rarely. For that, `set_index()` is usually more convenient.\n",
    "\n",
    "Both the row index and the column index can have their own `name` attribute. The complimentary `rename_axis()` method may be used to change these names. For example:\n"
   ]
  },
  {
   "cell_type": "code",
   "execution_count": null,
   "id": "c5832696",
   "metadata": {},
   "outputs": [],
   "source": [
    "reviews.rename_axis(\"wines\", axis=\"rows\").rename_axis(\"fields\", axis=\"columns\")"
   ]
  },
  {
   "cell_type": "markdown",
   "id": "b4d75df0",
   "metadata": {},
   "source": [
    "\n",
    "### Combining  <a class=\"anchor\" id=\"section5_6\"></a>\n",
    "\n",
    "When performing operations on a dataset, we will sometimes need to combine different DataFrames and/or Series in non-trivial ways. Pandas has three core methods for doing this. In order of increasing complexity, these are `concat()`, `join()`, and `merge()`. Most of what `merge()` can do can also be done more simply with `join()`, so we will omit it and focus on the first two functions here.\n",
    "\n",
    "The simplest combining method is `concat()`. Given a list of elements, this function will smush those elements together along an axis.\n",
    "\n"
   ]
  },
  {
   "cell_type": "code",
   "execution_count": null,
   "id": "13d04b67",
   "metadata": {},
   "outputs": [],
   "source": [
    "df1 = pd.DataFrame(\n",
    "    {\n",
    "        \"A\": [\"A0\", \"A1\", \"A2\", \"A3\"],\n",
    "        \"B\": [\"B0\", \"B1\", \"B2\", \"B3\"],\n",
    "        \"C\": [\"C0\", \"C1\", \"C2\", \"C3\"],\n",
    "        \"D\": [\"D0\", \"D1\", \"D2\", \"D3\"],\n",
    "    },\n",
    "    index=[0, 1, 2, 3],\n",
    ")\n",
    "df2 = pd.DataFrame(\n",
    "    {\n",
    "        \"A\": [\"A4\", \"A5\", \"A6\", \"A7\"],\n",
    "        \"B\": [\"B4\", \"B5\", \"B6\", \"B7\"],\n",
    "        \"C\": [\"C4\", \"C5\", \"C6\", \"C7\"],\n",
    "        \"D\": [\"D4\", \"D5\", \"D6\", \"D7\"],\n",
    "    },\n",
    "    index=[4, 5, 6, 7],\n",
    ")\n",
    "df3 = pd.DataFrame(\n",
    "    {\n",
    "        \"A\": [\"A8\", \"A9\", \"A10\", \"A11\"],\n",
    "        \"B\": [\"B8\", \"B9\", \"B10\", \"B11\"],\n",
    "        \"C\": [\"C8\", \"C9\", \"C10\", \"C11\"],\n",
    "        \"D\": [\"D8\", \"D9\", \"D10\", \"D11\"],\n",
    "    },\n",
    "    index=[8, 9, 10, 11],\n",
    ")"
   ]
  },
  {
   "cell_type": "code",
   "execution_count": null,
   "id": "cc4d57f0",
   "metadata": {},
   "outputs": [],
   "source": [
    "pd.concat([df1, df2, df3])"
   ]
  },
  {
   "cell_type": "code",
   "execution_count": null,
   "id": "40d76e81",
   "metadata": {},
   "outputs": [],
   "source": [
    "pd.concat([df1, df2, df3], axis=1)"
   ]
  },
  {
   "cell_type": "code",
   "execution_count": null,
   "id": "73364169",
   "metadata": {},
   "outputs": [],
   "source": [
    "merge_1 = pd.DataFrame(\n",
    "    {\n",
    "        \"key\": [\"K0\", \"K1\", \"K2\", \"K3\"],\n",
    "        \"A\": [\"A0\", \"A1\", \"A2\", \"A3\"],\n",
    "        \"B\": [\"B0\", \"B1\", \"B2\", \"B3\"],\n",
    "    }\n",
    ")\n",
    "\n",
    "merge_2 = pd.DataFrame(\n",
    "    {\n",
    "        \"key\": [\"K0\", \"K1\", \"K2\", \"K3\"],\n",
    "        \"C\": [\"C0\", \"C1\", \"C2\", \"C3\"],\n",
    "        \"D\": [\"D0\", \"D1\", \"D2\", \"D3\"],\n",
    "    }\n",
    ")"
   ]
  },
  {
   "cell_type": "code",
   "execution_count": null,
   "id": "7cdca106",
   "metadata": {},
   "outputs": [],
   "source": [
    "pd.merge(merge_1, merge_2, how=\"inner\", on=\"key\")"
   ]
  },
  {
   "cell_type": "code",
   "execution_count": null,
   "id": "e7907a44",
   "metadata": {},
   "outputs": [],
   "source": [
    "join_1 = pd.DataFrame(\n",
    "    {\"A\": [\"A0\", \"A1\", \"A2\"], \"B\": [\"B0\", \"B1\", \"B2\"]}, index=[\"K0\", \"K1\", \"K2\"]\n",
    ")\n",
    "\n",
    "join_2 = pd.DataFrame(\n",
    "    {\"C\": [\"C0\", \"C2\", \"C3\"], \"D\": [\"D0\", \"D2\", \"D3\"]}, index=[\"K0\", \"K2\", \"K3\"]\n",
    ")"
   ]
  },
  {
   "cell_type": "code",
   "execution_count": null,
   "id": "222aadc8",
   "metadata": {},
   "outputs": [],
   "source": [
    "join_1.join(join_2)"
   ]
  }
 ],
 "metadata": {
  "kernelspec": {
   "display_name": "Python 3 (ipykernel)",
   "language": "python",
   "name": "python3"
  }
 },
 "nbformat": 4,
 "nbformat_minor": 5
}
