{
 "cells": [
  {
   "cell_type": "markdown",
   "id": "5dd462d4",
   "metadata": {},
   "source": [
    "#  EPA-122A *Spatial* Data Science\n",
    "\n",
    "\n",
    "## Homework 2: Data Engineering and Transformation\n",
    "\n",
    "**TU Delft**<br>\n",
    "**Q2 2024**<br>\n",
    "**Instructors:** Giacomo Marangoni, Theodoros Chatzivasileiadis <br>\n",
    "\n",
    "---\n",
    "\n"
   ]
  },
  {
   "cell_type": "markdown",
   "id": "68817581",
   "metadata": {},
   "source": [
    "__This homework assignment document will guide you through five tasks in cleaning your data.__\n",
    "\n",
    "1. Reading and Summarizing the Data.\n",
    "2. Subsetting the Data.\n",
    "3. Manage Missing Data.\n",
    "4. Shape the Data.\n",
    "5. Saving the Results.\n"
   ]
  },
  {
   "cell_type": "markdown",
   "id": "b05f8ade",
   "metadata": {},
   "source": [
    "## Exercise 1: Loading the data:\n",
    "\n",
    "- Load the `goodreads.csv` file into Python\n",
    "- Explore it by looking at first and last 5 rows\n",
    "- Change the column names to `[\"rating\", 'review_count', 'isbn', 'booktype','author_url', 'year', 'genre_urls', 'dir','rating_count', 'name']`\n",
    "\n"
   ]
  },
  {
   "cell_type": "markdown",
   "id": "d050b384",
   "metadata": {
    "lines_to_next_cell": 2
   },
   "source": [
    "your code here\n",
    "use many cells if you like to structure your code well"
   ]
  },
  {
   "cell_type": "markdown",
   "id": "762ab7ab",
   "metadata": {},
   "source": [
    "## Exercise 2: Subsetting the data\n",
    "\n",
    "- Subset the data by creating new dataframe only with `[\"rating\", 'isbn', 'author_url', 'year', 'genre_urls', 'name']`"
   ]
  },
  {
   "cell_type": "markdown",
   "id": "edffd4ea",
   "metadata": {
    "lines_to_next_cell": 2
   },
   "source": [
    "your code here\n",
    "use many cells if you like to structure your code well"
   ]
  },
  {
   "cell_type": "markdown",
   "id": "8a5d1188",
   "metadata": {},
   "source": [
    "## Exercise 3: Manage Missing Data\n",
    "We’ve got a number of ways in general of dealing with missing data. These involve\n",
    "\n",
    "1. Dropping off cases (or rows) in the data with any missing variables\n",
    "2. Excluding variables in the data with any missing data\n",
    "3. Selectively choosing indicators with only a limited amount of missing data\n",
    "4. Replacing missing variables with averages, or other representative values\n",
    "5. Creating a separate model to predict missing data\n",
    "\n",
    "- Count the missing values in each column\n",
    "- Manage the missing values (delete or replace values or leave them as they are) and briefly explain your choice for each column\n"
   ]
  },
  {
   "cell_type": "markdown",
   "id": "b4a83523",
   "metadata": {
    "lines_to_next_cell": 2
   },
   "source": [
    "your code here\n",
    "use many cells if you like to structure your code well"
   ]
  },
  {
   "cell_type": "markdown",
   "id": "d7b87a41",
   "metadata": {},
   "source": [
    "## Exercise 4: Shape the data\n",
    "- Parse the `author_url` to create new column named `author`\n",
    "- Sort the data by putting higher rates go first. If there are overlapping rates, try to put earlier years go first.\n",
    "- **(Stretch Goal)** Examine how many books were published at each year and find lowest, highest rate of each year."
   ]
  },
  {
   "cell_type": "markdown",
   "id": "8eb23a75",
   "metadata": {
    "lines_to_next_cell": 2
   },
   "source": [
    "your code here\n",
    "use many cells if you like to structure your code well"
   ]
  },
  {
   "cell_type": "markdown",
   "id": "b8f888e0",
   "metadata": {},
   "source": [
    "## Exercise 5: Saving the results\n",
    "- Save the cleaned dataframe as 'hw-03-cleaned.csv' in data folder"
   ]
  },
  {
   "cell_type": "markdown",
   "id": "8c55e676",
   "metadata": {},
   "source": [
    "your code here\n",
    "use many cells if you like to structure your code well"
   ]
  }
 ],
 "metadata": {
  "kernelspec": {
   "display_name": "Python 3 (ipykernel)",
   "language": "python",
   "name": "python3"
  }
 },
 "nbformat": 4,
 "nbformat_minor": 5
}
