{
 "cells": [
  {
   "cell_type": "markdown",
   "id": "a2ba098b",
   "metadata": {},
   "source": [
    "#  EPA-122A *Spatial* Data Science\n",
    "\n",
    "\n",
    "## Homework 1: Data, Grammar and Engineering\n",
    "\n",
    "**TU Delft**<br>\n",
    "**Q2 2024**<br>\n",
    "**Instructors:** Giacomo Marangoni, Theodoros Chatzivasileiadis <br>\n",
    "\n",
    "---\n",
    "\n"
   ]
  },
  {
   "cell_type": "markdown",
   "id": "bf819d44",
   "metadata": {},
   "source": [
    "# Homework exercises to work on your own"
   ]
  },
  {
   "cell_type": "markdown",
   "id": "2df2553f",
   "metadata": {},
   "source": [
    "## Exercise 1\n",
    "\n",
    "Practice your data tidying skills with a different dataset. For example, you can have a look at the Guardian's version of [Wikileaks' Afghanistan war logs](http://www.theguardian.com/news/datablog/2010/jul/27/wikileaks-afghanistan-data-datajournalism). The table is stored on a GoogleDoc on the following address:\n",
    "\n",
    "> [https://docs.google.com/spreadsheets/d/1EAx8_ksSCmoWW_SlhFyq2QrRn0FNNhcg1TtDFJzZRgc/edit?hl=en#gid=1](https://docs.google.com/spreadsheets/d/1EAx8_ksSCmoWW_SlhFyq2QrRn0FNNhcg1TtDFJzZRgc/edit?hl=en#gid=1)\n",
    "\n",
    "And its structure is as follows:"
   ]
  },
  {
   "cell_type": "code",
   "execution_count": null,
   "id": "86960eee",
   "metadata": {},
   "outputs": [],
   "source": [
    "from IPython.display import IFrame\n",
    "\n",
    "url = \"https://docs.google.com/spreadsheets/d/1EAx8_ksSCmoWW_SlhFyq2QrRn0FNNhcg1TtDFJzZRgc/edit?hl=en#gid=1\"\n",
    "IFrame(url, 700, 400)"
   ]
  },
  {
   "cell_type": "markdown",
   "id": "c59d2ec4",
   "metadata": {},
   "source": [
    "Follow these steps:\n",
    "\n",
    "* Download the table as a `csv` file (File --> Download as --> .csv, current sheet).\n",
    "* Read it into Python.\n",
    "* Explore it by creating a few plots.\n",
    "* Examine its level of tidiness and turn it into a fully tidy dataset.\n",
    "* Obtain a monthly total count of casualties and create a line or a bar plot of them.\n",
    "* Ask yourself what biases might already be in the untidy data? Did the cleaning process intensify or counteract these biases?\n"
   ]
  },
  {
   "cell_type": "markdown",
   "id": "eb6f5476",
   "metadata": {},
   "source": [
    "your code here\n",
    "use many cells if you like to structure your code well"
   ]
  }
 ],
 "metadata": {
  "kernelspec": {
   "display_name": "Python 3 (ipykernel)",
   "language": "python",
   "name": "python3"
  }
 },
 "nbformat": 4,
 "nbformat_minor": 5
}
