{
 "cells": [
  {
   "cell_type": "markdown",
   "id": "47882f47",
   "metadata": {},
   "source": [
    "#  EPA-122A *Spatial* Data Science\n",
    "\n",
    "\n",
    "## Lab 1 - part 2: Data, Grammar and Engineering\n",
    "\n",
    "**TU Delft**<br>\n",
    "**Q2 2024**<br>\n",
    "**Instructors:** Giacomo Marangoni, Theodoros Chatzivasileiadis <br>\n",
    "\n",
    "---\n",
    "\n",
    "\n",
    "This notebook elaborates on the previous session and shows some more advanced tricks that will allow you to perform data cleaning and processing in cases where the original source data used are not made available ready for analysis (as we did in the previous session). In particular, we will show how you can transform data downloaded from the internet into the table you used to explore population patterns in Liverpool."
   ]
  },
  {
   "cell_type": "markdown",
   "id": "b09cb5aa",
   "metadata": {},
   "source": [
    "## Table of Contents\n",
    "\n",
    "* [Learning Goals](#section0)\n",
    "* [Obtaining raw data: The Liverpool Census Data Pack](#section1)\n",
    "* [Preparing data: Creating the table from the previous notebook](#section2)\n",
    "* [Investigate the data: Delving deeper into the Census Data Pack](#section3)\n",
    "    * [Advanced extension (optional)](#section3_1)"
   ]
  },
  {
   "cell_type": "markdown",
   "id": "ec684de3",
   "metadata": {},
   "source": [
    "## Learning Goals  <a class=\"anchor\" id=\"section0\"></a>\n",
    "\n",
    "- Understand how to use the necessary tools to transform data into the desired format.\n",
    "- Develop an understanding about how to explore the data and extract useful information\n",
    "\n",
    "\n",
    "Before anything, let us import the libraries we will need:"
   ]
  },
  {
   "cell_type": "code",
   "execution_count": null,
   "id": "70684224",
   "metadata": {},
   "outputs": [],
   "source": [
    "# This ensures visualizations are plotted inside the notebook\n",
    "%matplotlib inline\n",
    "\n",
    "import os  # This provides several system utilities\n",
    "import pandas as pd  # This is the workhorse of data munging in Python\n",
    "import seaborn as sns  # This allows us to easily and beautifully plot"
   ]
  },
  {
   "cell_type": "markdown",
   "id": "d8b764be",
   "metadata": {},
   "source": [
    "## Obtaining raw data: The Liverpool Census Data Pack  <a class=\"anchor\" id=\"section1\"></a>\n",
    "\n",
    "Throughout this notebook (and later on as well), we will use the [CDRC](https://cdrc.ac.uk/)'s Census Data Pack for the city of Liverpool ([link](https://data.cdrc.ac.uk/dataset/cdrc-2011-census-data-packs-for-local-authority-district-liverpool-e08000012)) and explore some of the city's socio-demogaphic characteristics. This is a large package crafted by the CDRC that brings together several Census tables in a consistent way for the city of Liverpool. We will only be able to use just a few of them but, since they are consistently organized, the procedure used should teach you how to explore other variables on your own. In particular, in this session, we will be using a table that lists **population by country of birth**.\n",
    "\n",
    "The pack is composed of two types of data: tabular and spatial. Tabular data are numerical tables that contain information relating to many socio-economic variables for different units (areas); spatial data contains the geometries of the areas in which Liverpool is divided into. Since there are many variables contained in several tables, that can be linked to more than one geography, the pack also includes two \"compass files\" that help you find what you are looking for: one table that lists and describes the different datasets available; and a much more detailed table that lists and describes each and every single variable available in the pack.\n",
    "\n",
    "The remainder assumes you have downloaded and unpacked the data.\n",
    "\n",
    "**IMPORTANT**: if you are working on a university lab computer, make sure to store the downloaded files (as well as the notebook) in the `M:` drive. This will ensure it is safe and does not get erased.\n",
    "\n",
    "Specify the path to the folder in the following cell, so you can correctly run the code without errors:"
   ]
  },
  {
   "cell_type": "code",
   "execution_count": null,
   "id": "ee58eada",
   "metadata": {},
   "outputs": [],
   "source": [
    "# Important! You need to specify the path to the data in *your* machine\n",
    "# If you have placed the data folder in the same directory as this notebook,\n",
    "# you would do:\n",
    "# path = 'Liverpool/'\n",
    "# Now you may tweak the line below to reflect your proper path\n",
    "path = \"data/Liverpool/\"\n",
    "\n",
    "# Check to see if the path is correct and works. If you have set it\n",
    "# correctly, you should obtain the following list\n",
    "os.listdir(path)"
   ]
  },
  {
   "cell_type": "markdown",
   "id": "27fb7636",
   "metadata": {},
   "source": [
    "**IMPORTANT**: the paths above might have look different in your computer. It is the most important thing for reproducing your code on someone else's machine. So spend some time understanding where the files are and how to set that path. You will use this again in Q3 and Q4 of the programme."
   ]
  },
  {
   "cell_type": "markdown",
   "id": "a88c80ab",
   "metadata": {},
   "source": [
    "## Preparing data: Creating the table from the previous notebook  <a class=\"anchor\" id=\"section2\"></a>\n",
    "\n",
    "It is not only that data are not ready to analyze when you get a hold on them. Sometimes, there is not such thing as *the dataset* to analyze. Instead, what you have is a collection of separated files, sometimes with different structures, that you need to bring together to begin with. This is one of the areas where a bit of scripting skills can help you a long way. While in a traditional point-and-click program like Microsoft Excel or SPSS, you would have to repeat the steps every time you wanted to incorporate a new dataset, with a bit of Python ninja tricks, you can write code that will do it for you as many times as you need.\n",
    "\n",
    "We will begin jumping straight into the analysis of population in Liverpool, organized by country of birth, at the Local Super Output Area (LSOA) level. Because the Census Data Pack contains a lot of data and very many different tables, you will have to bear with us and trust that what we are extracting is exactly the data of interest. This will speed up the process to walk through the reading, processing and manipulating of a dataset. Once you are familiar with these skills, the final section goes into how to explore the entire pack with more detail.\n",
    "\n",
    "To read a \"comma separated values\" (`.csv`) file, we can run:"
   ]
  },
  {
   "cell_type": "code",
   "execution_count": null,
   "id": "947096e7",
   "metadata": {},
   "outputs": [],
   "source": [
    "lsoa_orig = pd.read_csv(path + \"tables/QS203EW_lsoa11.csv\", index_col=\"GeographyCode\")\n",
    "lsoa_orig.head()"
   ]
  },
  {
   "cell_type": "markdown",
   "id": "f2160b3c",
   "metadata": {},
   "source": [
    "Before we continue with the data, let us have a look at the object `lsoa_orig`. It is a different \"animal\" than we have seen so far:"
   ]
  },
  {
   "cell_type": "code",
   "execution_count": null,
   "id": "aacf2be0",
   "metadata": {},
   "outputs": [],
   "source": [
    "type(lsoa_orig)"
   ]
  },
  {
   "cell_type": "markdown",
   "id": "40747538",
   "metadata": {},
   "source": [
    "It is a \"pandas data frame\". Similar to R's \"data.frame\" class, it is one of the most essential data structures in Python for data analysis, and we will use it intensively. Data frames are sophisticated costructs that can perform several advanced tasks and have many properties. We will be discovering them as we progress on the course but, for now, let us keep in mind they are tables, indexed on rows and columns that can support mixed data types and can be flexibly manipulated.\n",
    "\n",
    "Now we have read the file, we can inspect it. For example, to show the first lines of the table:"
   ]
  },
  {
   "cell_type": "code",
   "execution_count": null,
   "id": "a3179588",
   "metadata": {},
   "outputs": [],
   "source": [
    "lsoa_orig.head()"
   ]
  },
  {
   "cell_type": "markdown",
   "id": "c6b8e098",
   "metadata": {},
   "source": [
    "Let us also quickly check the dimensions of the table:"
   ]
  },
  {
   "cell_type": "code",
   "execution_count": null,
   "id": "a1a637af",
   "metadata": {},
   "outputs": [],
   "source": [
    "lsoa_orig.shape"
   ]
  },
  {
   "cell_type": "markdown",
   "id": "79ee0c27",
   "metadata": {},
   "source": [
    "This implies 298 rows by 78 columns. That is a lot of columns, all named under obscure codes. For now, just trust that the columns we want are:"
   ]
  },
  {
   "cell_type": "code",
   "execution_count": null,
   "id": "42ecc75c",
   "metadata": {},
   "outputs": [],
   "source": [
    "region_codes = [\n",
    "    \"QS203EW0002\",\n",
    "    \"QS203EW0032\",\n",
    "    \"QS203EW0045\",\n",
    "    \"QS203EW0063\",\n",
    "    \"QS203EW0072\",\n",
    "]"
   ]
  },
  {
   "cell_type": "markdown",
   "id": "30a30170",
   "metadata": {},
   "source": [
    "To keep only those with us, we can *slice* the table using the `loc` operator:"
   ]
  },
  {
   "cell_type": "code",
   "execution_count": null,
   "id": "8b81c9d8",
   "metadata": {},
   "outputs": [],
   "source": [
    "# Select only the columns with names in the list `region_codes`\n",
    "lsoa_orig_sub = lsoa_orig.loc[:, region_codes]\n",
    "\n",
    "lsoa_orig_sub.head()"
   ]
  },
  {
   "cell_type": "markdown",
   "id": "4119c5d2",
   "metadata": {},
   "source": [
    "Note how we use the operator `loc` (for locator) on the dataframe, followed by squared brackets and, inside it, two alternatives:\n",
    "\n",
    "* We can use `:` to keep *all* the elements (rows in this case).\n",
    "* And we can use a list of strings (or simply one would work too) with the names what we want to select.\n",
    "\n",
    "We can further inspect the dataset with an additional command called `info`, that lists the names of the columns and how many non-null elements each contains:"
   ]
  },
  {
   "cell_type": "code",
   "execution_count": null,
   "id": "9dab9bf1",
   "metadata": {},
   "outputs": [],
   "source": [
    "lsoa_orig_sub.info()"
   ]
  },
  {
   "cell_type": "markdown",
   "id": "774e84df",
   "metadata": {},
   "source": [
    "---\n",
    "\n",
    "**[Renaming columns]**\n",
    "\n",
    "**IMPORTANT**: some of the elements in this part are more advanced hence optional. If you want to move quickly through the lab, simply run the code cells without paying much attention to what it does. Once you have become more familiar with the rest of the tutorial, return here and work through the logic.\n",
    "\n",
    "The table we have compiled contains exactly what we wanted. However, the names of the columns are a bit unintuitive, to say the least. It would be much handier if we could rename the columns into something more human readable. The easiest way to do that in `pandas` is by creating a dictionary that maps the original name into the desired one, and then applying it to the `DataFrame` with the command `rename`. Let us walk through the steps necessary, one by one:\n",
    "\n",
    "* Create a dictionary that maps the codes to the names. For this, we can use the list we have created before (`region_variables`), and what we have learnt about querying tables, combined with a small `for` loop.\n",
    "\n",
    "First we need to bring up the variable names into a separate table (see the final section for more detail):"
   ]
  },
  {
   "cell_type": "code",
   "execution_count": null,
   "id": "dac2cf66",
   "metadata": {},
   "outputs": [],
   "source": [
    "# Read file with variable descriptions\n",
    "variables = pd.read_csv(path + \"variables_description.csv\", index_col=0)\n",
    "variables"
   ]
  },
  {
   "cell_type": "code",
   "execution_count": null,
   "id": "1ab99753",
   "metadata": {},
   "outputs": [],
   "source": [
    "# Create a \"dictionary\" to store names of the variables\n",
    "# and their description\n",
    "code2name = {}\n",
    "# Set the index to be the code of each variable\n",
    "lookup_table = variables.set_index(\"ColumnVariableCode\")  # Reindex to be able to query\n",
    "lookup_table"
   ]
  },
  {
   "cell_type": "code",
   "execution_count": null,
   "id": "9f09ed51",
   "metadata": {},
   "outputs": [],
   "source": [
    "# Run over every region code, select its description/name and store it\n",
    "# in the `code2name` dictionary\n",
    "for code in region_codes:\n",
    "    code2name[code] = lookup_table.loc[code, \"ColumnVariableDescription\"]\n",
    "code2name"
   ]
  },
  {
   "cell_type": "markdown",
   "id": "f1a6be8a",
   "metadata": {},
   "source": [
    "* Because we know that each of these variables are totals for each group, we can further declutter the names by removing the piece of the string `\": Total\"`. A `for` loop can help us:"
   ]
  },
  {
   "cell_type": "code",
   "execution_count": null,
   "id": "973ed33e",
   "metadata": {},
   "outputs": [],
   "source": [
    "# Loop over every code in the `code2name` dictionary and chop off\n",
    "# \": Total\" so the name is shorter and neater\n",
    "for code in code2name:\n",
    "    code2name[code] = code2name[code].replace(\": Total\", \"\")\n",
    "code2name"
   ]
  },
  {
   "cell_type": "markdown",
   "id": "ab7a613e",
   "metadata": {},
   "source": [
    "* With the dictionary in hand, renaming the columns can be done by:"
   ]
  },
  {
   "cell_type": "code",
   "execution_count": null,
   "id": "811e2810",
   "metadata": {},
   "outputs": [],
   "source": [
    "# Rename each column in `lsoa_orig_sub` from its code to its name\n",
    "lsoa_orig_sub = lsoa_orig_sub.rename(columns=code2name)\n",
    "\n",
    "lsoa_orig_sub.head()"
   ]
  },
  {
   "cell_type": "markdown",
   "id": "fceea5e8",
   "metadata": {},
   "source": [
    "And this is it! The table stored in `lsoa_orig_sub` is essentially the same as we played with in the previous session.\n",
    "\n",
    "## Investigate the data: Delving deeper into the Census Data Pack  <a class=\"anchor\" id=\"section3\"></a>\n",
    "\n",
    "We started this notebook assuming we already knew what variables in particular we wanted, out of the hundreds available on the Liverpool Census Data Pack. Unfortunately, that is not always the case, and sometimes  you have to explore an entire dataset by yourself to find what you are looking for. To dip your toes into the sea of the Census Data Pack, in this section we will walk through how to systematically identify a variable and extract it.\n",
    "\n",
    "The folder contains data at different scales. We will be using the Local Super Output Area (LSOAs). The folder is structured in the following way:"
   ]
  },
  {
   "cell_type": "code",
   "execution_count": null,
   "id": "3ff38cf7",
   "metadata": {},
   "outputs": [],
   "source": [
    "# This command lists the files in the folder passed (`path` in this case)\n",
    "os.listdir(path)"
   ]
  },
  {
   "cell_type": "markdown",
   "id": "312c721c",
   "metadata": {},
   "source": [
    "For now, we will ignore the spatial information contained in the folder `shapefiles` and focus on the `tables` one. If you have a peek at the folder, it contains many files. You can get their names into a Python list with the following command:"
   ]
  },
  {
   "cell_type": "code",
   "execution_count": null,
   "id": "6bdf4bfe",
   "metadata": {},
   "outputs": [],
   "source": [
    "# Create a list with the names of all the tables available\n",
    "csvs = os.listdir(path + \"tables\")"
   ]
  },
  {
   "cell_type": "markdown",
   "id": "62c7d27c",
   "metadata": {},
   "source": [
    "And count them using the core fuction `len`, which returns the length of a list:"
   ]
  },
  {
   "cell_type": "code",
   "execution_count": null,
   "id": "8f6057f8",
   "metadata": {},
   "outputs": [],
   "source": [
    "# Obtain the length of the list `csvs`\n",
    "len(csvs)"
   ]
  },
  {
   "cell_type": "markdown",
   "id": "acddb64e",
   "metadata": {},
   "source": [
    "That is right, 303 files! Luckily, to navigate that sea of seemingly non-sensical letters, there is a codebook that explains things a bit. You can open it with a text editor or a spreadsheet program but, since it is a `csv` file, we can also ingest it with Python:"
   ]
  },
  {
   "cell_type": "code",
   "execution_count": null,
   "id": "c557d603",
   "metadata": {},
   "outputs": [],
   "source": [
    "# Load up the file and set the first column as index\n",
    "codebook = pd.read_csv(path + \"datasets_description.csv\", index_col=0)"
   ]
  },
  {
   "cell_type": "markdown",
   "id": "680cec65",
   "metadata": {},
   "source": [
    "\n",
    "Now we have read the file, we can inspect it. For example, to show the first lines of the table:"
   ]
  },
  {
   "cell_type": "code",
   "execution_count": null,
   "id": "9c32067b",
   "metadata": {},
   "outputs": [],
   "source": [
    "codebook.head()"
   ]
  },
  {
   "cell_type": "markdown",
   "id": "010e7fe0",
   "metadata": {},
   "source": [
    "You can use the index chosen to query rows. For example, if we want to see what dataset code `QS203EW` corresponds to:"
   ]
  },
  {
   "cell_type": "code",
   "execution_count": null,
   "id": "73dc42ba",
   "metadata": {},
   "outputs": [],
   "source": [
    "# Extract the value for the column `DatasetTitle` and the row `QS203EW`\n",
    "# This is effectively the name of the dataset with that code\n",
    "codebook.loc[\"QS203EW\", \"DatasetTitle\"]"
   ]
  },
  {
   "cell_type": "markdown",
   "id": "c8ec2502",
   "metadata": {},
   "source": [
    "If we want to see what that dataset contains, there is another file in the folder called `variables_description.csv` that has further information. We can bring it in the same way we did before and, again, we will index it using the first column of the table, the ID of the dataset where the variable belongs to:"
   ]
  },
  {
   "cell_type": "code",
   "execution_count": null,
   "id": "0c67a47e",
   "metadata": {},
   "outputs": [],
   "source": [
    "variables = pd.read_csv(path + \"variables_description.csv\", index_col=0)"
   ]
  },
  {
   "cell_type": "markdown",
   "id": "b941db39",
   "metadata": {},
   "source": [
    "To have a sense of how large it is, we can call its `shape` property, which returns the number of rows and columns, respectively:"
   ]
  },
  {
   "cell_type": "code",
   "execution_count": null,
   "id": "a05e9e18",
   "metadata": {},
   "outputs": [],
   "source": [
    "# Get the dimensions of the table `variables`\n",
    "variables.shape"
   ]
  },
  {
   "cell_type": "markdown",
   "id": "5717579d",
   "metadata": {},
   "source": [
    "2,563 different variables!!! Let us see what the structure of the table is:"
   ]
  },
  {
   "cell_type": "code",
   "execution_count": null,
   "id": "c81451ad",
   "metadata": {},
   "outputs": [],
   "source": [
    "variables.head()"
   ]
  },
  {
   "cell_type": "markdown",
   "id": "6789db99",
   "metadata": {},
   "source": [
    "If we are interested in exploring the country of birth (code `QS203EW`), we can subset the table using `loc` in a similar way as before. The only difference is that now we do not want to restrict the column to only one, so we use the colon `:` instead of a particular name, including thus *all* the columns. Let us also save the subset by assigning it to a new object, `birth_orig`:"
   ]
  },
  {
   "cell_type": "code",
   "execution_count": null,
   "id": "2c51f664",
   "metadata": {},
   "outputs": [],
   "source": [
    "# Select all the column values for the row `QS203EW`\n",
    "birth_orig = variables.loc[\"QS203EW\", :]\n",
    "\n",
    "birth_orig.shape"
   ]
  },
  {
   "cell_type": "markdown",
   "id": "22ca6213",
   "metadata": {},
   "source": [
    "To be clear, the table above contains all the variables that the dataset `QS203EW` is comprised of. This means that, for every row in this table, there is a column in the actual dataset which, for the LSOAs, is on the file `QS203EW_lsoa11.csv`, in the `tables` folder.\n",
    "\n",
    "This is still a lot. Arguably, to get a first sense of the data and start exploring it, we do not need every single disaggregation available. Let us look at the names and codes of the first 25 variables to see if we can spot any pattern that helps us simplify (note how we now use `:` first to indicate we want *all* the rows):"
   ]
  },
  {
   "cell_type": "code",
   "execution_count": null,
   "id": "2a88a6ea",
   "metadata": {},
   "outputs": [],
   "source": [
    "# Select all the rows for the two columns 'ColumnVariableCode' and\n",
    "# 'ColumnVariableDescription', and show the top 25\n",
    "birth_orig.loc[:, [\"ColumnVariableCode\", \"ColumnVariableDescription\"]].head(25)"
   ]
  },
  {
   "cell_type": "markdown",
   "id": "e5ff7d5a",
   "metadata": {},
   "source": [
    "Note how we have been able to pass a list of variables we wanted to select as columns, and `pandas` has returned the dataframe \"sliced\" with only those, cutting off the rest.\n",
    "\n",
    "It looks like the variable name follows a hierarchical pattern that dissaggregates by regions of the world. A sensible first approach might be to start considering only the largest regions. To do that, we need a list of the variable name for those aggregates since, once we have it, subsetting the dataframe will be straightforward. There are several ways we can go about it:\n",
    "\n",
    "* Since there are not that many regions, we can hardcode them into a list, the same we have used above:"
   ]
  },
  {
   "cell_type": "code",
   "execution_count": null,
   "id": "1a265c4c",
   "metadata": {},
   "outputs": [],
   "source": [
    "region_codes = [\n",
    "    \"QS203EW0002\",\n",
    "    \"QS203EW0032\",\n",
    "    \"QS203EW0045\",\n",
    "    \"QS203EW0063\",\n",
    "    \"QS203EW0072\",\n",
    "]"
   ]
  },
  {
   "cell_type": "markdown",
   "id": "f9ffce6a",
   "metadata": {},
   "source": [
    "---\n",
    "\n",
    "### Advanced extension (optional)  <a class=\"anchor\" id=\"section3_1\"></a>\n",
    "\n",
    "* However, this approach would not get us very far if the list was longer. For that, a much more useful way is to write a loop that builds the list for us. To do this, we can remember some of the tricks learnt in the previous session about writing `for` loops and `if` statements and combine them with new ones about working with strings."
   ]
  },
  {
   "cell_type": "code",
   "execution_count": null,
   "id": "28e7ddd7",
   "metadata": {},
   "outputs": [],
   "source": [
    "regions = []\n",
    "for var in birth_orig[\"ColumnVariableDescription\"]:\n",
    "    # Split the name of the variable in pieces by ': '\n",
    "    pieces = var.split(\": \")\n",
    "    # Keep the first one (top hierarchy) and append ': Total'\n",
    "    name = pieces[0] + \": Total\"\n",
    "    # If the name created matches the variable (i.e, it exists in the original list),\n",
    "    # add the name to the list\n",
    "    if name == var:\n",
    "        regions.append(name)\n",
    "regions"
   ]
  },
  {
   "cell_type": "markdown",
   "id": "b7138ccc",
   "metadata": {},
   "source": [
    "Let us work slowly by each step of this loop:\n",
    "\n",
    "* We first create an empty list where we will store the names of the regions.\n",
    "* We begin a loop over every single row the column containing the names (`ColumnVariableDescription`).\n",
    "* For each name, which is a string, we split it in pieces using `\": \"` as the points in the string where we want to break it, obtaining a list with the resulting pieces. For instance if we have `Europe: Total`, we essentially do:"
   ]
  },
  {
   "cell_type": "code",
   "execution_count": null,
   "id": "f7ff2a9d",
   "metadata": {},
   "outputs": [],
   "source": [
    "\"Europe: Total\".split(\": \")"
   ]
  },
  {
   "cell_type": "markdown",
   "id": "a2d320fa",
   "metadata": {},
   "source": [
    "* We keep the first element, as it contains the name we want to maintain.\n",
    "* In order to build the actual name of the variable, we join it to `\": Total\"`, obtaining the string we want to keep:"
   ]
  },
  {
   "cell_type": "code",
   "execution_count": null,
   "id": "99919dc3",
   "metadata": {},
   "outputs": [],
   "source": [
    "\"Europe\" + \": Total\""
   ]
  },
  {
   "cell_type": "markdown",
   "id": "bb20134d",
   "metadata": {},
   "source": [
    "* We then check that the string we have built is the same as the variable we began with. If so, we save it on the list we created in the beginning. This step is a bit counter-intuitive, but is done to ensure a) that the name of the variable exists, and b) that it is saved only once.\n",
    "\n",
    "Now we have the names, we need to convert them into the codes. There are several ways to go about it, but here we will show one that relies on the indexing capabilities of `pandas`. Essentially we take `birth_orig` and index it on the names of the variables, to then subset it, keeping only those in our list (the variables we want to retain)."
   ]
  },
  {
   "cell_type": "code",
   "execution_count": null,
   "id": "7105da5f",
   "metadata": {},
   "outputs": [],
   "source": [
    "# Set the column `ColumnVariableDescription` as the index and keep only those\n",
    "# in the list `regions`\n",
    "subset = birth_orig.set_index(\"ColumnVariableDescription\").reindex(regions)\n",
    "\n",
    "subset"
   ]
  },
  {
   "cell_type": "markdown",
   "id": "9e4c9932",
   "metadata": {},
   "source": [
    " Once this is done, all left to do is to retrieve the codes:"
   ]
  },
  {
   "cell_type": "code",
   "execution_count": null,
   "id": "bfb63c74",
   "metadata": {},
   "outputs": [],
   "source": [
    "# Convert the column `ColumnVariableCode` in the table `subset`\n",
    "# into a list\n",
    "region_codes = list(subset[\"ColumnVariableCode\"])\n",
    "\n",
    "region_codes"
   ]
  },
  {
   "cell_type": "markdown",
   "id": "3672a25f",
   "metadata": {},
   "source": [
    "Which is the same that we hardcoded originally, only it has been entirely picked up by our python code, not by a human."
   ]
  }
 ],
 "metadata": {
  "kernelspec": {
   "display_name": "Python 3 (ipykernel)",
   "language": "python",
   "name": "python3"
  }
 },
 "nbformat": 4,
 "nbformat_minor": 5
}
