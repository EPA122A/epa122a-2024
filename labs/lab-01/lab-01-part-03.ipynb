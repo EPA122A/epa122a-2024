{
 "cells": [
  {
   "cell_type": "markdown",
   "id": "b57f8eb7",
   "metadata": {},
   "source": [
    "#  EPA-122A *Spatial* Data Science\n",
    "\n",
    "\n",
    "## Lab 1 - part 3: Web Scraping\n",
    "\n",
    "**TU Delft**<br>\n",
    "**Q2 2024**<br>\n",
    "**Instructors:** Giacomo Marangoni, Theodoros Chatzivasileiadis <br>\n",
    "\n",
    "\n",
    "---\n"
   ]
  },
  {
   "cell_type": "code",
   "execution_count": null,
   "id": "f0356b77",
   "metadata": {},
   "outputs": [],
   "source": [
    "%matplotlib inline\n",
    "import numpy as np\n",
    "import matplotlib.pyplot as plt\n",
    "import pandas as pd\n",
    "import seaborn as sns\n",
    "import time\n",
    "import os\n",
    "from IPython.display import Image"
   ]
  },
  {
   "cell_type": "markdown",
   "id": "5aed51e4",
   "metadata": {},
   "source": [
    "# **NOTE:** The contents of this notebook are advanced in nature and only optional to look at.\n",
    "\n",
    "## Table of Contents\n",
    "\n",
    "* [Learning Goals](#section0)\n",
    "* [Introduction to Web Servers and HTTP](#section1)\n",
    "* [Download webpages and get basic properties](#section2)\n",
    "* [Beautiful Soup](#section3)\n",
    "    * [Parse the page with Beautiful Soup](#section3_1)\n",
    "    * [Takeaway lesson](#section3_2)\n",
    "* [String formatting](#section4)\n",
    "* [Walkthrough Example of web scraping](#section5)\n",
    "* [How To Utilize APIs](#section6)\n",
    "    * [What is an API?](#section6_1)\n",
    "    * [Making API Requests in Python](#section6_2)\n",
    "    * [First API Request](#section6_3)"
   ]
  },
  {
   "cell_type": "markdown",
   "id": "ee602f69",
   "metadata": {},
   "source": [
    "## Learning Goals <a class=\"anchor\" id=\"section0\"></a>\n",
    "\n",
    "- Understand the structure of a web page\n",
    "- Understand how to use Beautiful soup to scrape content from web pages.\n",
    "- Feel comfortable storing and manipulating the content in various formats.\n",
    "- Understand how to convert structured format into a Pandas DataFrame\n",
    "\n",
    "In this lab, we'll scrape Projects Gutenberg's Best Books list:\n",
    "\n",
    "https://www.gutenberg.org/ebooks/bookshelf/13?start_index=1 .\n",
    "\n",
    "We'll walk through scraping the list pages for the book names/urls. First, we start with an even simpler example."
   ]
  },
  {
   "cell_type": "markdown",
   "id": "30dc79b3",
   "metadata": {},
   "source": [
    "## Introduction to Web Servers and HTTP <a class=\"anchor\" id=\"section1\"></a>\n",
    "\n",
    "A web server is just a computer -- usually a powerful one, but ultimately it's just another computer -- that runs a long/continuous process that listens for requests on a pre-specified (Internet) _port_ on your computer. It responds to those requests via a protocol called HTTP (HyperText Transfer Protocol). HTTPS is the secure version. When we use a web browser and navigate to a web page, our browser is actually sending a request on our behalf to a specific web server. The browser request is essentially saying \"hey, please give me the web page contents\", and it's up to the browser to correctly render that raw content into a coherent manner, dependent on the format of the file. For example, HTML is one format, XML is another format, and so on.\n",
    "\n",
    "Ideally (and usually), the web server complies with the request and all is fine. As part of this communication exchange with web servers, the server also sends a status code.\n",
    "- If the code starts with a **2**, it means the request was successful.\n",
    "- If the code starts with a **4**, it means there was a client error (you, as the user, are the client). For example, ever receive a 404 File Not Found error because a web page doesn't exist? This is an example of a client error, because you are requesting a bogus item.\n",
    "- If the code starts with a **5**, it means there was a server error (often that your request was incorrectly formed).\n",
    "\n",
    "[Click here](https://www.restapitutorial.com/httpstatuscodes.html) for a full list of status codes.\n",
    "\n",
    "As an analogy, you can think of a web server as being like a server at a restaurant; its goal is _serve_ you your requests. When you try to order something not on the menu (i.e., ask for a web page at a wrong location), the server says 'sorry, we don't have that' (i.e., 404, client error; your mistake).\n",
    "\n",
    "**IMPORTANT:**\n",
    "As humans, we visit pages in a sane, reasonable rate. However, as we start to scrape web pages with our computers, we will be sending requests with our code, and thus, we can make requests at an incredible rate. This is potentially dangerous because it's akin to going to a restaurant and bombarding the server(s) with thousands of food orders. Very often, the restaurant will ban you (i.e., Harvard's network gets banned from the website, and you are potentially held responsible in some capacity?). It is imperative to be responsible and careful. In fact, this act of flooding web pages with requests is the single-most popular, yet archiac, method for maliciously attacking websites / computers with Internet connections. In short, be respectful and careful with your decisions and code. It is better to err on the side of caution, which includes using the **``time.sleep()`` function** to pause your code's execution between subsequent requests. ``time.sleep(2)`` should be fine when making just a few dozen requests. Each site has its own rules, which are often visible via their site's ``robots.txt`` file.\n",
    "\n",
    "### Additional Resources\n",
    "\n",
    "**HTML:** if you are not familiar with HTML see https://www.w3schools.com/html/ or one of the many tutorials on the internet.\n",
    "\n",
    "**Document Object Model (DOM):** for more on this programming interface for HTML and XML documents see https://www.w3schools.com/js/js_htmldom.asp."
   ]
  },
  {
   "cell_type": "markdown",
   "id": "d48da5fa",
   "metadata": {
    "incorrectly_encoded_metadata": "vscode={\"languageId\": \"plaintext\"} [markdown]"
   },
   "source": [
    "# Download webpages and get basic properties <a class=\"anchor\" id=\"section2\"></a>\n",
    "\n",
    "``Requests`` is a highly useful Python library that allows us to fetch web pages.\n",
    "``BeautifulSoup`` is a phenomenal Python library that allows us to easily parse web content and perform basic extraction.\n",
    "\n",
    "If one wishes to scrape webpages, one usually uses ``requests`` to fetch the page and ``BeautifulSoup`` to parse the page's meaningful components. Webpages can be messy, despite having a structured format, which is why BeautifulSoup is so handy.\n",
    "\n",
    "Let's get started:"
   ]
  },
  {
   "cell_type": "code",
   "execution_count": null,
   "id": "d4126ad4",
   "metadata": {},
   "outputs": [],
   "source": [
    "from bs4 import BeautifulSoup\n",
    "import requests"
   ]
  },
  {
   "cell_type": "markdown",
   "id": "e45d8303",
   "metadata": {},
   "source": [
    "To fetch a webpage's content, we can simply use the ``get()`` function within the requests library:"
   ]
  },
  {
   "cell_type": "code",
   "execution_count": null,
   "id": "b087c9f9",
   "metadata": {},
   "outputs": [],
   "source": [
    "url = \"https://www.npr.org/2018/11/05/664395755/what-if-the-polls-are-wrong-again-4-scenarios-for-what-might-happen-in-the-elect\"\n",
    "response = requests.get(url)  # you can use any URL that you wish"
   ]
  },
  {
   "cell_type": "markdown",
   "id": "3083c225",
   "metadata": {},
   "source": [
    "The response variable has many highly useful attributes, such as:\n",
    "- status_code\n",
    "- text\n",
    "- content\n",
    "\n",
    "Let's try each of them!"
   ]
  },
  {
   "cell_type": "markdown",
   "id": "7c6ffe38",
   "metadata": {},
   "source": [
    "### response.status_code"
   ]
  },
  {
   "cell_type": "code",
   "execution_count": null,
   "id": "99cd93b7",
   "metadata": {},
   "outputs": [],
   "source": [
    "response.status_code"
   ]
  },
  {
   "cell_type": "markdown",
   "id": "0f750d5f",
   "metadata": {},
   "source": [
    "You should have received a status code of 200, which means the page was successfully found on the server and sent to receiver (aka client/user/you). [Again, you can click here](https://www.restapitutorial.com/httpstatuscodes.html) for a full list of status codes.\n",
    "\n",
    "### response.text\n"
   ]
  },
  {
   "cell_type": "code",
   "execution_count": null,
   "id": "b0f30e18",
   "metadata": {},
   "outputs": [],
   "source": [
    "response.text"
   ]
  },
  {
   "cell_type": "markdown",
   "id": "aa1feaf9",
   "metadata": {},
   "source": [
    "Holy moly! That looks awful. If we use our browser to visit the URL, then right-click the page and click 'View Page Source', we see that it is identical to this chunk of glorious text.\n",
    "\n",
    "### response.content"
   ]
  },
  {
   "cell_type": "code",
   "execution_count": null,
   "id": "0e49260e",
   "metadata": {},
   "outputs": [],
   "source": [
    "response.content"
   ]
  },
  {
   "cell_type": "markdown",
   "id": "8c07e335",
   "metadata": {},
   "source": [
    "What?! This seems identical to the ``.text`` field. However, the careful eye would notice that the very 1st characters differ; that is, ``.content`` has a *b'* character at the beginning, which in Python syntax denotes that the data type is bytes, whereas the ``.text`` field did not have it and is a regular String.\n",
    "\n",
    "Ok, so that's great, but how do we make sense of this text? We could manually parse it, but that's tedious and difficult. As mentioned, BeautifulSoup is specifically designed to parse this exact content (any webpage content).\n",
    "\n",
    "## Beautiful Soup <a class=\"anchor\" id=\"section3\"></a>\n",
    "\n",
    "The [documentation for BeautifulSoup is found here](https://www.crummy.com/software/BeautifulSoup/bs4/doc/).\n",
    "\n",
    "A BeautifulSoup object can be initialized with the ``.content`` from request and a flag denoting the type of parser that we should use. For example, we could specify ``html.parser``, ``lxml``, etc [documentation here](https://www.crummy.com/software/BeautifulSoup/bs4/doc/#differences-between-parsers). Since we are interested in standard webpages that use HTML, let's specify the html.parser:"
   ]
  },
  {
   "cell_type": "code",
   "execution_count": null,
   "id": "8538f57e",
   "metadata": {},
   "outputs": [],
   "source": [
    "soup = BeautifulSoup(response.content, \"html.parser\")\n",
    "soup"
   ]
  },
  {
   "cell_type": "markdown",
   "id": "7089f2e1",
   "metadata": {},
   "source": [
    "Alright! That looks a little better; there's some whitespace formatting, adding some structure to our content! HTML code is structured by `<tags>`. Every tag has an opening and closing portion, denoted by ``< >`` and ``</ >``, respectively. If we want just the text (not the tags), we can use:"
   ]
  },
  {
   "cell_type": "code",
   "execution_count": null,
   "id": "6719a898",
   "metadata": {},
   "outputs": [],
   "source": [
    "soup.get_text()"
   ]
  },
  {
   "cell_type": "markdown",
   "id": "bcb70411",
   "metadata": {},
   "source": [
    "There's some tricky Javascript still nesting within it, but it definitely cleaned up a bit. On other websites, you may find even clearer text extraction.\n",
    "\n",
    "As detailed in the [BeautifulSoup documentation](https://www.crummy.com/software/BeautifulSoup/bs4/doc/), the easiest way to navigate through the tags is to simply name the tag you're interested in. For example:"
   ]
  },
  {
   "cell_type": "code",
   "execution_count": null,
   "id": "1363c7c9",
   "metadata": {},
   "outputs": [],
   "source": [
    "soup.head  # fetches the head tag, which ecompasses the title tag"
   ]
  },
  {
   "cell_type": "markdown",
   "id": "6dc114a1",
   "metadata": {},
   "source": [
    "Usually head tags are small and only contain the most important contents; however, here, there's some Javascript code. The ``title`` tag resides within the head tag."
   ]
  },
  {
   "cell_type": "code",
   "execution_count": null,
   "id": "4f46fb78",
   "metadata": {},
   "outputs": [],
   "source": [
    "soup.title  # we can specifically call for the title tag"
   ]
  },
  {
   "cell_type": "markdown",
   "id": "d38b5a47",
   "metadata": {},
   "source": [
    "This result includes the tag itself. To get just the text within the tags, we can use the ``.name`` property."
   ]
  },
  {
   "cell_type": "code",
   "execution_count": null,
   "id": "6b947b99",
   "metadata": {},
   "outputs": [],
   "source": [
    "soup.title.string"
   ]
  },
  {
   "cell_type": "markdown",
   "id": "54245491",
   "metadata": {},
   "source": [
    "We can navigate to the parent tag (the tag that encompasses the current tag) via the ``.parent`` attribute:"
   ]
  },
  {
   "cell_type": "code",
   "execution_count": null,
   "id": "d8789e53",
   "metadata": {},
   "outputs": [],
   "source": [
    "soup.title.parent.name"
   ]
  },
  {
   "cell_type": "markdown",
   "id": "fa367397",
   "metadata": {},
   "source": [
    "### Parse the page with Beautiful Soup <a class=\"anchor\" id=\"section3_1\"></a>\n",
    "In HTML code, paragraphs are often denoated with a ``<p>`` tag."
   ]
  },
  {
   "cell_type": "code",
   "execution_count": null,
   "id": "7627300a",
   "metadata": {},
   "outputs": [],
   "source": [
    "soup.p"
   ]
  },
  {
   "cell_type": "markdown",
   "id": "fd523a20",
   "metadata": {},
   "source": [
    "This returns the first paragraph, and we can access properties of the given tag with the same syntax we use for dictionaries and dataframes:"
   ]
  },
  {
   "cell_type": "code",
   "execution_count": null,
   "id": "7bab04af",
   "metadata": {},
   "outputs": [],
   "source": [
    "c = BeautifulSoup('<p class=\"body\"></p>')\n",
    "c.p[\"class\"]"
   ]
  },
  {
   "cell_type": "code",
   "execution_count": null,
   "id": "62a124ad",
   "metadata": {},
   "outputs": [],
   "source": [
    "c.p.attrs"
   ]
  },
  {
   "cell_type": "markdown",
   "id": "b6106326",
   "metadata": {},
   "source": [
    "In addition to 'paragraph' (aka p) tags, link tags are also very common and are denoted by ``<a>`` tags"
   ]
  },
  {
   "cell_type": "code",
   "execution_count": null,
   "id": "a2515bdf",
   "metadata": {},
   "outputs": [],
   "source": [
    "soup.a"
   ]
  },
  {
   "cell_type": "markdown",
   "id": "0488a08d",
   "metadata": {},
   "source": [
    "It is called the a tag because links are also called 'anchors'. Nearly every page has multiple paragraphs and anchors, so how do we access the subsequent tags? There are two common functions, `.find()` and `.find_all()`."
   ]
  },
  {
   "cell_type": "code",
   "execution_count": null,
   "id": "f92b5e2f",
   "metadata": {},
   "outputs": [],
   "source": [
    "soup.find(\"title\")"
   ]
  },
  {
   "cell_type": "code",
   "execution_count": null,
   "id": "cbb01de1",
   "metadata": {},
   "outputs": [],
   "source": [
    "soup.find_all(\"title\")"
   ]
  },
  {
   "cell_type": "markdown",
   "id": "a02d5b4a",
   "metadata": {},
   "source": [
    "Here, the results were seemingly the same, since there is only one title to a webpage. However, you'll notice that ``.find_all()`` returned a list, not a single item. Sure, there was only one item in the list, but it returned a list. As the name implies, find_all() returns all items that match the passed-in tag."
   ]
  },
  {
   "cell_type": "code",
   "execution_count": null,
   "id": "eef3bfe1",
   "metadata": {},
   "outputs": [],
   "source": [
    "soup.find_all(\"a\")"
   ]
  },
  {
   "cell_type": "markdown",
   "id": "023ccf75",
   "metadata": {},
   "source": [
    "Look at all of those links! Amazing. It might be hard to read but the **href** portion of an *a* tag denotes the URL, and we can capture it via the ``.get()`` function."
   ]
  },
  {
   "cell_type": "code",
   "execution_count": null,
   "id": "0401c43a",
   "metadata": {},
   "outputs": [],
   "source": [
    "for link in soup.find_all(\n",
    "    \"a\"\n",
    "):  # we could optionally pass the href=True flag .find_all('a', href=True)\n",
    "    print(link.get(\"href\"))"
   ]
  },
  {
   "cell_type": "markdown",
   "id": "8ad98fdc",
   "metadata": {},
   "source": [
    "Many of those links are relative to the current URL (e.g., /section/news/)."
   ]
  },
  {
   "cell_type": "code",
   "execution_count": null,
   "id": "d453a98d",
   "metadata": {},
   "outputs": [],
   "source": [
    "paragraphs = soup.find_all(\"p\")\n",
    "paragraphs"
   ]
  },
  {
   "cell_type": "markdown",
   "id": "d94002c9",
   "metadata": {},
   "source": [
    "If we want just the paragraph text:"
   ]
  },
  {
   "cell_type": "code",
   "execution_count": null,
   "id": "8fd2e0dd",
   "metadata": {},
   "outputs": [],
   "source": [
    "for pa in paragraphs:\n",
    "    print(pa.get_text())"
   ]
  },
  {
   "cell_type": "markdown",
   "id": "58f7af08",
   "metadata": {},
   "source": [
    "Since there are multiple tags and various attributes, it is useful to check the data type of BeautifulSoup objects:"
   ]
  },
  {
   "cell_type": "code",
   "execution_count": null,
   "id": "e789c90b",
   "metadata": {},
   "outputs": [],
   "source": [
    "type(soup.find(\"p\"))"
   ]
  },
  {
   "cell_type": "markdown",
   "id": "98c1f23e",
   "metadata": {},
   "source": [
    "Since the ``.find()`` function returns a BeautifulSoup element, we can tack on multiple calls that continue to return elements:"
   ]
  },
  {
   "cell_type": "code",
   "execution_count": null,
   "id": "8ac8b878",
   "metadata": {},
   "outputs": [],
   "source": [
    "soup.find(\"p\")"
   ]
  },
  {
   "cell_type": "code",
   "execution_count": null,
   "id": "6c66a174",
   "metadata": {},
   "outputs": [],
   "source": [
    "soup.find(\"p\").find(\"a\")"
   ]
  },
  {
   "cell_type": "code",
   "execution_count": null,
   "id": "8f4b5ba5",
   "metadata": {},
   "outputs": [],
   "source": [
    "soup.find(\"p\").find(\"a\").attrs[\"href\"]  # att"
   ]
  },
  {
   "cell_type": "code",
   "execution_count": null,
   "id": "42940d00",
   "metadata": {},
   "outputs": [],
   "source": [
    "soup.find(\"p\").find(\"a\").text"
   ]
  },
  {
   "cell_type": "markdown",
   "id": "680fe7de",
   "metadata": {},
   "source": [
    "That doesn't look pretty, but it makes sense because if you look at what ``.find('a')`` returned, there is plenty of whitespace. We can remove that with Python's built-in ``.strip()`` function."
   ]
  },
  {
   "cell_type": "code",
   "execution_count": null,
   "id": "0daebd06",
   "metadata": {},
   "outputs": [],
   "source": [
    "soup.find(\"p\").find(\"a\").text.strip()"
   ]
  },
  {
   "cell_type": "markdown",
   "id": "eb13a278",
   "metadata": {},
   "source": [
    "**NOTE:** above, we accessed the attributes of a link by using the property ``.attrs``. ``.attrs`` takes a dictionary as a parameter, and in the example above, we only provided the _key_, not a _value_, too. That is, we only cared that the ``<a>`` tag had an attribute named ``href`` (which we grabbed by typing that command), and we made no specific demands on what the value must be. In other words, regardless of the value of _href_, we grabbed that element. Alternatively, if you inspect your HTML code and notice select regions for which you'd like to extract text, you can specify it as part of the attributes, too!\n",
    "\n",
    "For example, in the full ``response.text``, we see the following line:\n",
    "\n",
    "``<header class=\"npr-header\" id=\"globalheader\" aria-label=\"NPR header\">``\n",
    "\n",
    "Let's say that we know that the information we care about is within tags that match this template (i.e., **class** is an attribute, and its value is **'npr-header'**)."
   ]
  },
  {
   "cell_type": "code",
   "execution_count": null,
   "id": "a5ca03d9",
   "metadata": {},
   "outputs": [],
   "source": [
    "# soup.find('header') has 1 attribute called \"role\"\n",
    "soup.find(\"header\").attrs"
   ]
  },
  {
   "cell_type": "code",
   "execution_count": null,
   "id": "1f993edf",
   "metadata": {},
   "outputs": [],
   "source": [
    "# That is why the line below won't work\n",
    "soup.find(\"header\", attrs={\"role\": \"banner\"})\n",
    "\n",
    "# But this will:\n",
    "# soup.find('header', attrs={'id':'globalheader'})"
   ]
  },
  {
   "cell_type": "markdown",
   "id": "f1365d2c",
   "metadata": {},
   "source": [
    "This matched it! We could then continue further processing by tacking on other commands:"
   ]
  },
  {
   "cell_type": "code",
   "execution_count": null,
   "id": "5c7aec40",
   "metadata": {},
   "outputs": [],
   "source": [
    "soup.find(\"header\", attrs={\"id\": \"globalheader\"}).find_all(\n",
    "    \"li\"\n",
    ")  # li stands for list items"
   ]
  },
  {
   "cell_type": "markdown",
   "id": "e8d588f5",
   "metadata": {},
   "source": [
    "This returns all of our list items, and since it's within a particular header section of the page, it appears they are links to menu items for navigating the webpage. If we wanted to grab just the links within these:"
   ]
  },
  {
   "cell_type": "code",
   "execution_count": null,
   "id": "63dcc4d3",
   "metadata": {},
   "outputs": [],
   "source": [
    "menu_links = set()\n",
    "for list_item in soup.find(\"header\", attrs={\"id\": \"globalheader\"}).find_all(\"li\"):\n",
    "    for link in list_item.find_all(\"a\", href=True):\n",
    "        menu_links.add(link)\n",
    "menu_links  # a unique set of all the seemingly important links in the header"
   ]
  },
  {
   "cell_type": "markdown",
   "id": "022ba626",
   "metadata": {},
   "source": [
    "### Takeaway lesson <a class=\"anchor\" id=\"section3_2\"></a>\n",
    "The above tutorial isn't meant to be a study guide to memorize; its point is to show you the most important functionaity that exist within BeautifulSoup, and to illustrate how one can access different pieces of content. No two web scraping tasks are identical, so it's useful to play around with code and try different things, while using the above as examples of how you may navigate between different tags and properties of a page. Don't worry; we are always here to help when you get stuck!"
   ]
  },
  {
   "cell_type": "markdown",
   "id": "823e288a",
   "metadata": {},
   "source": [
    "## String formatting <a class=\"anchor\" id=\"section4\"></a>\n",
    "As we parse webpages, we may often want to further adjust and format the text to a certain way.\n",
    "\n",
    "For example, say we wanted to scrape a polical website that lists all US Senators' name and office phone number. We may want to store information for each senator in a dictionary. All senators' information may be stored in a list. Thus, we'd have a list of dictionaries. Below, we will initialize such a list of dictionary (it has only 3 senators, for illustrative purposes, but imagine it contains many more)."
   ]
  },
  {
   "cell_type": "code",
   "execution_count": null,
   "id": "cd642864",
   "metadata": {},
   "outputs": [],
   "source": [
    "# this is a bit clumsy of an initialization, but we spell it out this way for clarity purposes\n",
    "# NOTE: imagine the dictionary were constructed in a more organic manner\n",
    "senator1 = {\"name\": \"Lamar Alexander\", \"number\": \"555-229-2812\"}\n",
    "senator2 = {\"name\": \"Tammy Baldwin\", \"number\": \"555-922-8393\"}\n",
    "senator3 = {\"name\": \"John Barrasso\", \"number\": \"555-827-2281\"}\n",
    "senators = [senator1, senator2, senator3]\n",
    "print(senators)"
   ]
  },
  {
   "cell_type": "markdown",
   "id": "5aeba0e7",
   "metadata": {},
   "source": [
    "In the real-world, we may not want the final form of our information to be in a Python dictionary; rather, we may need to send an email to people in our mailing list, urging them to call their senators. If we have a templated format in mind, we can do the following:"
   ]
  },
  {
   "cell_type": "code",
   "execution_count": null,
   "id": "d0f71a03",
   "metadata": {},
   "outputs": [],
   "source": [
    "email_template = \"\"\"Please call {name} at {number}\"\"\"\n",
    "for senator in senators:\n",
    "    print(email_template.format(**senator))"
   ]
  },
  {
   "cell_type": "markdown",
   "id": "e9e4a70c",
   "metadata": {},
   "source": [
    "**Please [visit here](https://docs.python.org/3/library/stdtypes.html#str.format)** for further documentation\n",
    "\n",
    "Alternatively, one can also format their text via the ``f'-strings`` property. [See documentation here](https://docs.python.org/3/reference/lexical_analysis.html#f-strings). For example, using the above data structure and goal, one could yield identical results via:"
   ]
  },
  {
   "cell_type": "code",
   "execution_count": null,
   "id": "44a0b7e6",
   "metadata": {},
   "outputs": [],
   "source": [
    "for senator in senators:\n",
    "    print(f\"Please call {senator['name']} at {senator['number']}\")"
   ]
  },
  {
   "cell_type": "markdown",
   "id": "c155feb4",
   "metadata": {},
   "source": [
    "Additionally, sometimes we wish to search large strings of text. If we wish to find all occurrences within a given string, a very mechanical, procedural way of doing it would be to use the ``.find()`` function in Python and to repeatedly update the starting index from which we are looking.\n",
    "\n",
    "### Regular Expressions\n",
    "A way more suitable and powerful way is to use Regular Expressions, which is a pattern matching mechanism used throughout Computer Science and programming (it's not just specific to Python). A tutorial on Regular Expressions (aka regex) is beond this lab, but below are many great resources that we recommend, if you are interested in them (could be very useful for a homework problem):\n",
    "- https://docs.python.org/3.3/library/re.html\n",
    "- https://regexone.com\n",
    "- https://docs.python.org/3/howto/regex.html.\n",
    "\n",
    "## Walkthrough Example of web scraping  <a class=\"anchor\" id=\"section5\"></a>\n",
    "We're going to see the structure of Project Gutenberg's best books list (**NOTE: We'll use a similar structure that is described a little more within the other Lab2_More_Pandas.ipynb notebook using data from Goodreads)**. We'll use the Developer tools in chrome, safari and firefox have similar tools available. To get this page we use the `requests` module. But first we should check if the company's policy allows scraping. Check the [robots.txt](https://www.gutenberg.org/policy/robot_access.html) to find what sites/elements are not accessible. Please read and verify."
   ]
  },
  {
   "cell_type": "code",
   "execution_count": null,
   "id": "3b0565ef",
   "metadata": {},
   "outputs": [],
   "source": [
    "url = \"https://www.npr.org/2018/11/05/664395755/what-if-the-polls-are-wrong-again-4-scenarios-for-what-might-happen-in-the-elect\"\n",
    "response = requests.get(url)\n",
    "# response.status_code\n",
    "# response.content\n",
    "\n",
    "# Beautiful Soup (library) time!\n",
    "soup = BeautifulSoup(response.content, \"html.parser\")\n",
    "# print(soup)\n",
    "# soup.prettify()\n",
    "soup.find(\"title\")\n",
    "\n",
    "# Q1: how do we get the title's text?\n",
    "\n",
    "# Q2: how do we get the webpage's entire content?"
   ]
  },
  {
   "cell_type": "code",
   "execution_count": null,
   "id": "78168c77",
   "metadata": {},
   "outputs": [],
   "source": [
    "URLSTART = \"https://www.gutenberg.org\"\n",
    "BESTBOOKS = \"/ebooks/bookshelf/13?start_index=\"\n",
    "url = URLSTART + BESTBOOKS + \"1\"\n",
    "print(url)\n",
    "page = requests.get(url)"
   ]
  },
  {
   "cell_type": "markdown",
   "id": "384b17b9",
   "metadata": {},
   "source": [
    "We can see properties of the page. Most relevant are `status_code` and `text`. The former tells us  if the web-page was found, and if found, ok."
   ]
  },
  {
   "cell_type": "code",
   "execution_count": null,
   "id": "addb8049",
   "metadata": {},
   "outputs": [],
   "source": [
    "page.status_code  # 200 is good"
   ]
  },
  {
   "cell_type": "code",
   "execution_count": null,
   "id": "71251f9e",
   "metadata": {},
   "outputs": [],
   "source": [
    "page.text[:5000]"
   ]
  },
  {
   "cell_type": "markdown",
   "id": "a5a1279f",
   "metadata": {},
   "source": [
    "Let us write a loop to fetch 2 pages of \"Best Books Ever Listings\" from Project Gutenberg. Notice the use of a format string."
   ]
  },
  {
   "cell_type": "code",
   "execution_count": null,
   "id": "a98e6876",
   "metadata": {},
   "outputs": [],
   "source": [
    "URLSTART = \"https://www.gutenberg.org\"\n",
    "BESTBOOKS = \"/ebooks/bookshelf/13?start_index=\"\n",
    "for i, gbindex in enumerate([1, 26]):\n",
    "    bookindex = str(gbindex)\n",
    "    stuff = requests.get(URLSTART + BESTBOOKS + bookindex)\n",
    "    filetowrite = f\"files/page{(i+1):02d}.html\"\n",
    "    os.makedirs(os.path.dirname(filetowrite), exist_ok=True)\n",
    "    print(\"FTW\", filetowrite)\n",
    "    fd = open(filetowrite, \"w+\", encoding=\"utf-8\")\n",
    "    fd.write(stuff.text)\n",
    "    fd.close()\n",
    "    time.sleep(2)"
   ]
  },
  {
   "cell_type": "markdown",
   "id": "7835722c",
   "metadata": {},
   "source": [
    "### Step 1. Parse the page, extract book urls\n",
    "\n",
    "Notice how we do file input-output, and use beautiful soup in the code below. The `with` construct ensures that the file being read is closed, something we do explicitly for the file being written. We look for the elements with class `bookTitle`, extract the urls, and write them into a file"
   ]
  },
  {
   "cell_type": "code",
   "execution_count": null,
   "id": "5c38227c",
   "metadata": {},
   "outputs": [],
   "source": [
    "bookdict = {}\n",
    "for i in range(1, 3):\n",
    "    books = []\n",
    "    stri = \"%02d\" % i\n",
    "    filetoread = \"files/page\" + stri + \".html\"\n",
    "    print(\"FTW\", filetoread)\n",
    "    with open(filetoread) as fdr:\n",
    "        data = fdr.read()\n",
    "    soup = BeautifulSoup(data, \"html.parser\")\n",
    "    for e in soup.select(\".booklink\"):\n",
    "        books.append(e.select_one(\"a\")[\"href\"])\n",
    "    print(books[:10])\n",
    "    bookdict[stri] = books\n",
    "    fd = open(\"files/list\" + stri + \".txt\", \"w\")\n",
    "    fd.write(\"\\n\".join(books))\n",
    "    fd.close()"
   ]
  },
  {
   "cell_type": "markdown",
   "id": "eb115964",
   "metadata": {},
   "source": [
    "### Step 2. Parse a book page, extract book properties\n",
    "\n",
    "Ok so now lets dive in and get one of these these files and parse them."
   ]
  },
  {
   "cell_type": "code",
   "execution_count": null,
   "id": "3097fe6f",
   "metadata": {},
   "outputs": [],
   "source": [
    "furl = URLSTART + bookdict[\"01\"][0]\n",
    "furl"
   ]
  },
  {
   "cell_type": "code",
   "execution_count": null,
   "id": "959dd4f5",
   "metadata": {},
   "outputs": [],
   "source": [
    "fstuff = requests.get(furl)\n",
    "print(fstuff.status_code)"
   ]
  },
  {
   "cell_type": "code",
   "execution_count": null,
   "id": "72d2eb08",
   "metadata": {},
   "outputs": [],
   "source": [
    "# d=BeautifulSoup(fstuff.text, 'html.parser')\n",
    "# try this to take care of arabic strings\n",
    "d = BeautifulSoup(fstuff.text, \"html.parser\")"
   ]
  },
  {
   "cell_type": "code",
   "execution_count": null,
   "id": "4794ef25",
   "metadata": {},
   "outputs": [],
   "source": [
    "d.select_one(\"meta[property='og:title']\")[\"content\"]"
   ]
  },
  {
   "cell_type": "code",
   "execution_count": null,
   "id": "d8e0c053",
   "metadata": {},
   "outputs": [],
   "source": [
    "Image(d.select_one(\"meta[property='og:image']\")[\"content\"])"
   ]
  },
  {
   "cell_type": "markdown",
   "id": "c812d872",
   "metadata": {},
   "source": [
    "Lets get everything we want... Note the use of `pprint` for prettier print formatting (hence the name!)."
   ]
  },
  {
   "cell_type": "code",
   "execution_count": null,
   "id": "56d08652",
   "metadata": {},
   "outputs": [],
   "source": [
    "from pprint import pprint\n",
    "\n",
    "# d=BeautifulSoup(fstuff.text, 'html.parser', from_encoding=\"utf-8\")\n",
    "pprint(\n",
    "    {\n",
    "        \"title\": d.select('[itemprop=\"headline\"]')[0].get_text().strip(),\n",
    "        \"author\": d.select('[itemprop=\"creator\"]')[0].get_text().strip(),\n",
    "        \"cover\": d.select_one(\"meta[property='og:image']\")[\"content\"],\n",
    "    }\n",
    ")"
   ]
  },
  {
   "cell_type": "markdown",
   "id": "7406520e",
   "metadata": {},
   "source": [
    "Ok, now that we know what to do, lets wrap our fetching into a proper script. So that we dont overwhelm their servers, we will only fetch 5 from each page, but you get the idea...\n",
    "\n",
    "We'll segue of a bit to explore new style format strings. See https://pyformat.info for more info."
   ]
  },
  {
   "cell_type": "code",
   "execution_count": null,
   "id": "625f36bd",
   "metadata": {},
   "outputs": [],
   "source": [
    "\"list{:0>2}.txt\".format(3)"
   ]
  },
  {
   "cell_type": "code",
   "execution_count": null,
   "id": "2e1f2e1a",
   "metadata": {},
   "outputs": [],
   "source": [
    "a = \"4\"\n",
    "b = 4\n",
    "\n",
    "\n",
    "class Four:\n",
    "    def __str__(self):\n",
    "        return \"Fourteen\"\n",
    "\n",
    "\n",
    "c = Four()"
   ]
  },
  {
   "cell_type": "code",
   "execution_count": null,
   "id": "594d4fb6",
   "metadata": {},
   "outputs": [],
   "source": [
    "\"The hazy cat jumped over the {} and {} and {}\".format(a, b, c)"
   ]
  },
  {
   "cell_type": "markdown",
   "id": "c8332bd6",
   "metadata": {},
   "source": [
    "### Step 3. Set up a pipeline for fetching and parsing\n",
    "\n",
    "Ok lets get back to the fetching..."
   ]
  },
  {
   "cell_type": "code",
   "execution_count": null,
   "id": "9c27d070",
   "metadata": {
    "lines_to_next_cell": 2
   },
   "outputs": [],
   "source": [
    "fetched = []\n",
    "for i in range(1, 3):\n",
    "    with open(\"files/list{:0>2}.txt\".format(i)) as fd:\n",
    "        for j, bookurl_line in enumerate(fd):\n",
    "            if j > 4:\n",
    "                break\n",
    "            bookurl = bookurl_line.strip()\n",
    "            stuff = requests.get(URLSTART + bookurl)\n",
    "            filetowrite = f\"files/page{i:02d}_book{(j+1):02d}.html\"\n",
    "            print(\"FTW\", filetowrite)\n",
    "            fd = open(filetowrite, \"w\", encoding=\"utf-8\")\n",
    "            fd.write(stuff.text)\n",
    "            fd.close()\n",
    "            fetched.append(filetowrite)\n",
    "            time.sleep(1)\n",
    "pprint(fetched)"
   ]
  },
  {
   "cell_type": "markdown",
   "id": "ca32ceab",
   "metadata": {
    "lines_to_next_cell": 2
   },
   "source": [
    "### <div class=\"exercise\"><b>Exercise</b></div>\n",
    "Your job is to fill in the code to get the genres. Go to your browser, enter the url of the bookpage above and \"View Page Source\". In the main web-page, search for the text which contains the year or the genre (or whichever field it is that you are looking for) and right-click and \"Inspect Element\". What properties do all the subjectes share? Use that information to identify them automatically in BeautifulSoup. Hint: CSS selectors include also the \"^=\" operator, which filters those tags that start with a certain substring."
   ]
  },
  {
   "cell_type": "code",
   "execution_count": null,
   "id": "f4962afb",
   "metadata": {},
   "outputs": [],
   "source": [
    "def get_genres(d):\n",
    "    # your code here\n",
    "    genres = d.select('[href^=\"/ebooks/subject\"]')\n",
    "    glist = []\n",
    "    for g in genres:\n",
    "        glist.append(g.get_text().strip())\n",
    "    return glist\n",
    "\n",
    "\n",
    "with open(fetched[0]) as fd:\n",
    "    datext = fd.read()\n",
    "    d = BeautifulSoup(datext, \"html.parser\")\n",
    "    pprint(get_genres(d))"
   ]
  },
  {
   "cell_type": "code",
   "execution_count": null,
   "id": "9a260281",
   "metadata": {},
   "outputs": [],
   "source": [
    "listofdicts = []\n",
    "for filetoread in fetched:\n",
    "    print(filetoread)\n",
    "    td = {}\n",
    "    with open(filetoread, encoding=\"utf-8\") as fd:\n",
    "        datext = fd.read()\n",
    "    d = BeautifulSoup(datext, \"html.parser\")\n",
    "    td[\"title\"] = d.select('[itemprop=\"headline\"]')[0].get_text().strip()\n",
    "    td[\"author\"] = d.select('[itemprop=\"creator\"]')[0].get_text().strip()\n",
    "    td[\"cover\"] = d.select_one(\"meta[property='og:image']\")[\"content\"]\n",
    "    td[\"file\"] = filetoread\n",
    "    glist = get_genres(d)\n",
    "    td[\"genres\"] = \"|\".join(glist)\n",
    "    listofdicts.append(td)"
   ]
  },
  {
   "cell_type": "code",
   "execution_count": null,
   "id": "2ce63200",
   "metadata": {},
   "outputs": [],
   "source": [
    "listofdicts[0]"
   ]
  },
  {
   "cell_type": "markdown",
   "id": "a4c9e33e",
   "metadata": {},
   "source": [
    "Finally lets write all this stuff into a csv file which we will use to do analysis."
   ]
  },
  {
   "cell_type": "code",
   "execution_count": null,
   "id": "f360f104",
   "metadata": {},
   "outputs": [],
   "source": [
    "df = pd.DataFrame.from_records(listofdicts)\n",
    "df"
   ]
  },
  {
   "cell_type": "code",
   "execution_count": null,
   "id": "e76e3751",
   "metadata": {},
   "outputs": [],
   "source": [
    "df.to_csv(\"files/meta_utf8_EK.csv\", index=False, header=True)"
   ]
  },
  {
   "cell_type": "markdown",
   "id": "69dd5752",
   "metadata": {},
   "source": [
    "<a id=\"3\"></a>\n",
    "## Let's Learn How To Utilize APIs <a class=\"anchor\" id=\"chapter6\"></a>"
   ]
  },
  {
   "cell_type": "markdown",
   "id": "f1d24982",
   "metadata": {},
   "source": [
    "Information below has been cited and edited from [Dataquest - Python API Tutorial](https://www.dataquest.io/blog/python-api-tutorial/)\n",
    "\n",
    "APIs can help you retrieve data for your data science projects. APIs are the industry standard way of providing access to data. Most government websites allow utilization of their data over their APIs. This would be very handy say, if you are searching for COVID statistics day-by-day in India, right?\n",
    "\n",
    "However, one might ask why use an API? I can download my CSVs just fine.. That could be true. But APIs are very useful in the following cases:\n",
    "* If your data is changing quickly and continiously.\n",
    "* You would like to access a certain part of the database and not the entire thing.\n",
    "* There is repeated computation involved.\n",
    "    * For example, Spotify has an API that can tell you the piece of music. You can create you own classifier to compute music categories yourself however you'll never have much data as Spotify does."
   ]
  },
  {
   "cell_type": "markdown",
   "id": "044018ab",
   "metadata": {},
   "source": [
    "### Then, What is an API? <a class=\"anchor\" id=\"section6_1\"></a>"
   ]
  },
  {
   "cell_type": "markdown",
   "id": "06d4c86e",
   "metadata": {},
   "source": [
    "from IPython.display import ImageAn API, in other words, an Application Programming Interface is a server that you can use to retrieve and send data to using code. APIs are most commonly used to retrieve data, which by the end of this tutorial you will be proficient at.\n",
    "\n",
    "When we would like to receive data from an API, we need to make a request. Requests are used all over the web. For instance, when you visit a blog post, your web browser makes a request to a web server, which responds with the content of the web page."
   ]
  },
  {
   "cell_type": "code",
   "execution_count": null,
   "id": "362e84ee",
   "metadata": {},
   "outputs": [],
   "source": [
    "Image(\"figs/api.png\")"
   ]
  },
  {
   "cell_type": "markdown",
   "id": "8ab003e6",
   "metadata": {},
   "source": [
    "API works in the same way. You make a request to an API server for data, and you get a response.\n"
   ]
  },
  {
   "cell_type": "markdown",
   "id": "e50b2c37",
   "metadata": {},
   "source": [
    "### Making API Requests in Python <a class=\"anchor\" id=\"section6_2\"></a>"
   ]
  },
  {
   "cell_type": "markdown",
   "id": "52337da5",
   "metadata": {},
   "source": [
    "To work with APIs in Python we can use the most common **requests** library.\n",
    "<div class=\"alert alert-block alert-info\">\n",
    "<b>Note:</b> As it is not part of base Python you will need to install it through pip install with the following: 'pip install requests' .\n",
    "</div>\n",
    "\n"
   ]
  },
  {
   "cell_type": "markdown",
   "id": "4c54fdb0",
   "metadata": {},
   "source": [
    "### Our First API Request <a class=\"anchor\" id=\"section6_3\"></a>"
   ]
  },
  {
   "cell_type": "markdown",
   "id": "adc68d8b",
   "metadata": {},
   "source": [
    "There are many different types of requests. The most commonly used one, a GET request, is used to retrieve data. Because we’ll just be working with retrieving data, our focus will be on making ‘get’ requests. When we make a request, the response from the API comes with a response code which tells us whether our request was successful. Response codes are important because they immediately tell us if something went wrong.\n",
    "\n",
    "\n",
    "But first, let us find an end point to connect to. We will use [Open Governence Data Platform India](https://data.gov.in/) for this endevour which could be a good example for your projects. Open Government Data Platform India or *data.gov.in* is a platform for supporting Open data initiative of Government of India. This portal is a single-point access to datasets, documents, services, tools and applications published by ministries, departments and organisations of the Government of India. You will now be introduced to how to use this website as an example for your future researches. Other end points are laid out in a similar matter with different documentation and structure which you must research and try to use yourself."
   ]
  },
  {
   "cell_type": "markdown",
   "id": "4239cfe4",
   "metadata": {},
   "source": [
    "Let us start our example. The website itself looks like this:\n"
   ]
  },
  {
   "cell_type": "code",
   "execution_count": null,
   "id": "e59400a5",
   "metadata": {},
   "outputs": [],
   "source": [
    "Image(\"figs/datagovin.png\", width=1400, height=1000)"
   ]
  },
  {
   "cell_type": "markdown",
   "id": "91106d87",
   "metadata": {},
   "source": [
    "To utilize this website let us first find a subject through the catalog. You can also select certain domains (databases) and sectors as seen below."
   ]
  },
  {
   "cell_type": "code",
   "execution_count": null,
   "id": "516b14ea",
   "metadata": {},
   "outputs": [],
   "source": [
    "Image(\"figs/datagovin2.png\")"
   ]
  },
  {
   "cell_type": "markdown",
   "id": "b73b8ae7",
   "metadata": {},
   "source": [
    "I arbitrarily chose covid as a topic and it has listed me all the APIs regarding the matter."
   ]
  },
  {
   "cell_type": "code",
   "execution_count": null,
   "id": "534c75af",
   "metadata": {},
   "outputs": [],
   "source": [
    "Image(\"figs/datagovin3.png\")"
   ]
  },
  {
   "cell_type": "markdown",
   "id": "0a293d00",
   "metadata": {},
   "source": [
    "After I select a API I am interested in, this page pops up where it asks for certain parameters.\n",
    "* API Key: This is specific to this website in particular, however do expect many other databases to establish their own rules.\n",
    "    * In this website, you need to create an account in order to receive a member specific key which you can use to get the entirety of the API output.\n",
    "    * With a sample key you can only access 10 data points.\n",
    "* Format : Here, many are tempted to get the output format as CSV however it is easier to just get a JSON file for now and only after then turn it into a csv which we will do later on.\n",
    "* Offset : If you would like to skip some records.\n",
    "* Limit : Maximum number of records.\n",
    "* Filters : Filters the results with respect to fields specified.\n",
    "\n",
    "There is no need to input all the parameters, the critical ones are the API key and format."
   ]
  },
  {
   "cell_type": "code",
   "execution_count": null,
   "id": "c0acec1b",
   "metadata": {},
   "outputs": [],
   "source": [
    "Image(\"figs/datagovin5.png\")"
   ]
  },
  {
   "cell_type": "code",
   "execution_count": null,
   "id": "af2b08bb",
   "metadata": {},
   "outputs": [],
   "source": [
    "Image(\"figs/datagovin6.png\")"
   ]
  },
  {
   "cell_type": "markdown",
   "id": "952b1f13",
   "metadata": {},
   "source": [
    "To make a ‘GET’ request, we’ll use the requests.get() function, which requires one argument — the URL we want to make the request to. Please note that we copied the request url in the image above on the url part in the code below. When you have your own api it is important that you change the code after the part \"<font color = red>?api-key= </font>\""
   ]
  },
  {
   "cell_type": "code",
   "execution_count": null,
   "id": "fab14c1d",
   "metadata": {},
   "outputs": [],
   "source": [
    "import requests\n",
    "import pandas as pd\n",
    "import json  # We can use JSON operations with this, we need it to change it a pandas dataframe later on.\n",
    "from pandas import (\n",
    "    json_normalize,\n",
    ")  # we use this so that we can stop an error such as arrays being not in the same length in fields in the json file.\n",
    "\n",
    "\n",
    "resp = requests.get(\n",
    "    \"https://api.data.gov.in/resource/0bdce1aa-10a9-4dcd-abfd-33ba51a879d6?api-key=579b464db66ec23bdd000001cdd3946e44ce4aad7209ff7b23ac571b&format=json\"\n",
    ")"
   ]
  },
  {
   "cell_type": "markdown",
   "id": "ec9691ab",
   "metadata": {},
   "source": [
    "The <font color = 'lightblue'> get()</font> function returns a <font color = \"orange\">response </font> object. We can use the response.status_code attribute to receive the status code for our request:"
   ]
  },
  {
   "cell_type": "code",
   "execution_count": null,
   "id": "1fb47497",
   "metadata": {},
   "outputs": [],
   "source": [
    "print(resp.status_code)"
   ]
  },
  {
   "cell_type": "markdown",
   "id": "8d593d78",
   "metadata": {},
   "source": [
    "<div class=\"alert alert-block alert-success\">\n",
    "We received a 200! This means our request was succesful. .\n",
    "</div>"
   ]
  },
  {
   "cell_type": "markdown",
   "id": "06b0e898",
   "metadata": {},
   "source": [
    "There are many API Status Codes. You can find a small snippet of them here if you are interested, and are willing to understand what went wrong in the future. Cited from [Dataquest - Python API Tutorial](https://www.dataquest.io/blog/python-api-tutorial/)"
   ]
  },
  {
   "cell_type": "code",
   "execution_count": null,
   "id": "e228295a",
   "metadata": {},
   "outputs": [],
   "source": [
    "Image(\"figs/status.png\")"
   ]
  },
  {
   "cell_type": "markdown",
   "id": "fe1c12af",
   "metadata": {},
   "source": [
    "Now that we have received a response and stored it in our \"response\" object, let us read what is inside the file as a JSON."
   ]
  },
  {
   "cell_type": "code",
   "execution_count": null,
   "id": "ca8f4a6c",
   "metadata": {},
   "outputs": [],
   "source": [
    "print(resp.json())"
   ]
  },
  {
   "cell_type": "markdown",
   "id": "30358860",
   "metadata": {},
   "source": [
    "As you can see very hard to utilize!"
   ]
  },
  {
   "cell_type": "markdown",
   "id": "55b8d957",
   "metadata": {},
   "source": [
    "Here you have 2 options you can choose. Either work with JSON which you can read further in the link provided in [Part 3: Let's Learn How To Utilize APIs](#3) or turn this data into a pandas dataframe. The continuation of this introduction will focus on the pandas dataframe route which was summarized from [this post in Stackoverflow](https://stackoverflow.com/questions/1871524/how-can-i-convert-json-to-csv)."
   ]
  },
  {
   "cell_type": "code",
   "execution_count": null,
   "id": "f4ec9fa1",
   "metadata": {},
   "outputs": [],
   "source": [
    "content = json.loads(\n",
    "    resp.content\n",
    ")  # We find the content of the response variable and we load it utilizing json.loads into a variable."
   ]
  },
  {
   "cell_type": "code",
   "execution_count": null,
   "id": "293a0d26",
   "metadata": {},
   "outputs": [],
   "source": [
    "content  # The variable shows what it has inside as content. Now here please be careful as we are looking for things that resemble a data cluster.\n",
    "# In this example we can see that the data itself starts after the 'records' and thus must be kept in mind."
   ]
  },
  {
   "cell_type": "code",
   "execution_count": null,
   "id": "eea4a1ca",
   "metadata": {},
   "outputs": [],
   "source": [
    "\"\"\"\n",
    "As we realized that the 'records' were where the data was starting to be written, we used that\n",
    "to create a data frame from the dictionary that was inside the content of the response. \n",
    "\"\"\"\n",
    "\n",
    "df = pd.DataFrame.from_dict(content[\"records\"])"
   ]
  },
  {
   "cell_type": "code",
   "execution_count": null,
   "id": "ed8728b7",
   "metadata": {},
   "outputs": [],
   "source": [
    "df.head()"
   ]
  },
  {
   "cell_type": "markdown",
   "id": "1b3fd2b0",
   "metadata": {},
   "source": [
    "There we go! We have the data now as a pandas data frame. From this moment on we can do any operations that we deem necessary. Follow the course to learn how :)\n",
    "\n",
    "You can also save this data frame in a csv file just like this:"
   ]
  },
  {
   "cell_type": "code",
   "execution_count": null,
   "id": "35b39c85",
   "metadata": {},
   "outputs": [],
   "source": [
    "df.to_csv(\"sample.csv\")"
   ]
  },
  {
   "cell_type": "markdown",
   "id": "06421497",
   "metadata": {},
   "source": [
    "<div class=\"alert alert-block alert-warning\">\n",
    "<b>Remember! </b> Always try to research the web first when you encounter a block - be it a bug, or a general sense of not knowing what to do. This will make you into better scientists. Hey, even I studied a bit on the web to remember how to do this! You can do it too :)\n",
    "</div>"
   ]
  },
  {
   "cell_type": "markdown",
   "id": "b8cbfa79",
   "metadata": {},
   "source": [
    "<a id = \"cite\"></a>\n",
    "**Citations utilized:**\n",
    "\n",
    "[ValueError: arrays must all be same length](https://stackoverflow.com/questions/50531308/valueerror-arrays-must-all-be-same-length)\n",
    "\n",
    "[Dataquest - Python API Tutorial](https://www.dataquest.io/blog/python-api-tutorial/)\n",
    "\n",
    "\n",
    "Best of Luck with your studies!"
   ]
  }
 ],
 "metadata": {
  "kernelspec": {
   "display_name": "Python 3 (ipykernel)",
   "language": "python",
   "name": "python3"
  }
 },
 "nbformat": 4,
 "nbformat_minor": 5
}
