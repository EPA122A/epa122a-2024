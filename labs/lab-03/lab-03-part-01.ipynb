{
 "cells": [
  {
   "cell_type": "markdown",
   "id": "05368e68",
   "metadata": {},
   "source": [
    "#  EPA-122A *Spatial* Data Science\n",
    "\n",
    "## Lab 3 Part 1:  Exploratory Data Analysis, `seaborn`\n",
    "\n",
    "\n",
    "**TU Delft**<br>\n",
    "**Q1 2022**<br>\n",
    "**Instructors:** Giacomo Marangoni, Theodoros Chatzivasileiadis <br>\n",
    "**TAs:** Auriane Técourt, Dorukhan Yeşilli, Ludovica Bindi, Nicolò Canal, Ruth Nelson, Vaibhavi Srivastava <br>\n",
    "\n",
    "---"
   ]
  },
  {
   "cell_type": "markdown",
   "id": "f45f38ca",
   "metadata": {},
   "source": [
    "## Table of Contents\n",
    "\n",
    "* [Learning Goals](#chapter0)\n",
    "* [Visualization Inspiration](#chapter1)\n",
    "* [Plotting using `matplotlib`  and `seaborn`.](#chapter2)\n",
    "    * [Introduction to `seaborn`](#section2_1)\n",
    "* [Different Plots](#chapter3)\n",
    "    * [Histograms](#section3_1)\n",
    "    * [Kernel Density Estimation](#section3_2)\n",
    "    * [Boxplots](#section3_3)\n",
    "    * [Scatterplots](#section3_4)\n",
    "    * [Pairplots](#section3_5)\n",
    "    * [Plotting categorical variables](#section3_6)\n",
    "* [Introduction to pandas plotting](#chapter4)\n",
    "    * [Line graph](#section4_1)\n",
    "    * [Bar plots](#section4_2)\n",
    "    * [Histograms](#section4_3)\n",
    "    * [Boxplots](#section4_4)\n",
    "    * [Area plots](#section4_5)\n",
    "    * [Scatterplots](#section4_6)\n",
    "* [Excercise: EDA on Medical Data](#chapter5)"
   ]
  },
  {
   "cell_type": "code",
   "execution_count": null,
   "id": "e5e2f130",
   "metadata": {
    "lines_to_next_cell": 2
   },
   "outputs": [],
   "source": [
    "# import the necessary libraries\n",
    "%matplotlib inline\n",
    "import numpy as np\n",
    "import scipy as sp\n",
    "import matplotlib as mpl\n",
    "import matplotlib.cm as cm\n",
    "import matplotlib.pyplot as plt\n",
    "import pandas as pd\n",
    "import time\n",
    "import requests\n",
    "import IPython\n",
    "from IPython.core.display import HTML\n",
    "\n",
    "pd.set_option(\"display.width\", 500)\n",
    "pd.set_option(\"display.max_columns\", 200)\n",
    "pd.set_option(\"display.notebook_repr_html\", True)\n",
    "import seaborn as sns\n",
    "\n",
    "from sklearn.linear_model import LinearRegression\n",
    "from sklearn.model_selection import train_test_split\n",
    "from sklearn.metrics import mean_squared_error\n",
    "\n",
    "import warnings\n",
    "\n",
    "warnings.filterwarnings(\"ignore\")\n",
    "%config InlineBackend.figure_format ='retina'"
   ]
  },
  {
   "cell_type": "markdown",
   "id": "ec527bad",
   "metadata": {},
   "source": [
    "## Learning Goals <a class=\"anchor\" id=\"chapter0\"></a>\n",
    "\n",
    "By the end of this lab, you should be able to:\n",
    "- Implement the different types of plots such as **histograms, boxplots** etc, that were mentioned in class.\n",
    "- Develop an understanding of how to use `seaborn` and `matplotlib` and have both in your plotting toolbox.\n"
   ]
  },
  {
   "cell_type": "markdown",
   "id": "aba3ba23",
   "metadata": {},
   "source": [
    "## Visualization Inspiration <a class=\"anchor\" id=\"chapter1\"></a>\n",
    "\n",
    "![title](figs/WGOITG.jpg)\n",
    "\n",
    "[source: nytimes.org](https://www.nytimes.com/2018/08/27/learning/whats-going-on-in-this-graph-is-now-weekly-stem-teachers-explain-why-its-a-powerful-activity.html)\n",
    "\n",
    "Notice that in “Summers Are Getting Hotter,” above, the histogram has intervals for global summer temperatures on the x-axis, designated from extremely cold to extremely hot, and their frequency on the y-axis.\n",
    "\n",
    "That was an **infographic** intended for the general public. In contrast, take a look at the plots below of the same type of data published at a **scientific journal**. They look quite different, don't they?\n",
    "\n",
    "![title](figs/F4.jpg)\n",
    "\n",
    "*James Hansen, Makiko Sato, and Reto Ruedy*, Perception of climate change. [PNAS](https://www.pnas.org/content/109/37/E2415.full#abstract-1)"
   ]
  },
  {
   "cell_type": "markdown",
   "id": "e0aad3a0",
   "metadata": {},
   "source": [
    "## Plotting using `matplotlib`  and `seaborn`. <a class=\"anchor\" id=\"chapter2\"></a>\n",
    "\n",
    "Before you start coding your visualization, you need to decide what **type** of vizualization to use. A box plot, a histogram, a scatter plot, or something else? That will depend on the purpose of the plot (is it for performing an inspection on your data (EDA, or for showing your results/conclusions to people) and the number variables that you want to plot.\n",
    "\n",
    "You have a lot of tools for plotting in Python. The basic one, of course, is `matplotlib` and there are other libraries that are built on top of it, such as `seaborn`, `bokeh`, or `altair`.\n",
    "\n",
    "In this class we will continue using `matplotlib` and also look into [`seaborn`](https://seaborn.pydata.org). Those two libraries are the ones you should be using for the homework.\n",
    "\n",
    "### Introduction to `seaborn` <a class=\"anchor\" id=\"section2_1\"></a>\n",
    "\n",
    "`Seaborn` is a Python data visualization library based on matplotlib. It provides a high-level interface for drawing attractive and informative statistical graphics. The library provides a database of useful datasets for educational purposes that can be loaded by typing:\n",
    "\n",
    "```python\n",
    "seaborn.load_dataset(name, cache=True, data_home=None, **kws)\n",
    "```\n",
    "\n",
    "For information on what these datasets are : https://github.com/mwaskom/seaborn-data\n",
    "\n",
    "**The plotting functions in `seaborn` can be decided in two categories**\n",
    "\n",
    "- **'axes-level'** functions, such as `regplot`, `boxplot`, `kdeplot`, `scatterplot`, `distplot` which can connect with the `matplotlib` Axes object and its parameters. You can use that object as you would in `matplotlib`:\n",
    "```python\n",
    "f, (ax1, ax2) = plt.subplots(2)\n",
    "sns.regplot(x, y, ax=ax1)\n",
    "sns.kdeplot(x, ax=ax2)\n",
    "ax1 = sns.distplot(x, kde=False, bins=20)\n",
    "```\n",
    "\n",
    "- **'figure-level'** functions, such as `lmplot`, `factorplot`, `jointplot`, `relplot`. In this case, `seaborn` organizes the resulting plot which may include several Axes in a meaningful way. That means that the functions need to have total control over the figure, so it isn't possible to plot, say, an `lmplot` onto one that already exists. Calling the function always initializes a figure and sets it up for the specific plot it's drawing. These functions return an object of the type `FacetGrid` with its own methods for operating on the resulting plot.\n",
    "\n",
    "To set the parameters for figure-level functions:\n",
    "\n",
    "```python\n",
    "sns.set_context(\"notebook\", font_scale=1, rc={\"lines.linewidth\": 2.5})\n",
    "```"
   ]
  },
  {
   "cell_type": "markdown",
   "id": "6cb901c8",
   "metadata": {},
   "source": [
    "**The Titanic dataset**\n",
    "\n",
    "The `titanic.csv` file contains data for 887 passengers on the Titanic. Each row represents one person. The columns describe different attributes about the person including whether they survived, their age, their on-board class, their sex, and the fare they paid."
   ]
  },
  {
   "cell_type": "code",
   "execution_count": null,
   "id": "6ecada4d",
   "metadata": {},
   "outputs": [],
   "source": [
    "titanic = sns.load_dataset(\"titanic\")\n",
    "titanic.info()"
   ]
  },
  {
   "cell_type": "code",
   "execution_count": null,
   "id": "ad3f4e4e",
   "metadata": {},
   "outputs": [],
   "source": [
    "titanic.columns"
   ]
  },
  {
   "cell_type": "markdown",
   "id": "0c0db6e3",
   "metadata": {},
   "source": [
    "### <div class=\"exercise\"><b>Exercise:  Drop the following features</b></div>\n",
    "\n",
    "'embarked', 'who', 'adult_male', 'embark_town', 'alive', 'alone'"
   ]
  },
  {
   "cell_type": "code",
   "execution_count": null,
   "id": "3037e375",
   "metadata": {},
   "outputs": [],
   "source": [
    "columns = [\"embarked\", \"who\", \"adult_male\", \"embark_town\", \"alive\", \"alone\"]\n",
    "titanic = titanic.drop(columns=columns)\n",
    "titanic"
   ]
  },
  {
   "cell_type": "markdown",
   "id": "8723798f",
   "metadata": {},
   "source": [
    "### <div class=\"exercise\"><b>Exercise:  Find for how many passengeres we do not have their deck information.</b></div>"
   ]
  },
  {
   "cell_type": "code",
   "execution_count": null,
   "id": "29646eec",
   "metadata": {},
   "outputs": [],
   "source": [
    "missing_decks = len(titanic[(pd.isna(titanic[\"deck\"]) == True)])\n",
    "missing_decks"
   ]
  },
  {
   "cell_type": "markdown",
   "id": "90f633a7",
   "metadata": {},
   "source": [
    "## Different Plots <a class=\"anchor\" id=\"chapter3\"></a>"
   ]
  },
  {
   "cell_type": "markdown",
   "id": "4177c56f",
   "metadata": {},
   "source": [
    "### Histograms <a class=\"anchor\" id=\"section3_1\"></a>\n",
    "\n",
    "**Plotting one variable's distribution (categorical and continous)**\n",
    "The most convenient way to take a quick look at a univariate distribution in `seaborn` is the `distplot()` function. By default, this will draw a histogram and fit a kernel density estimate (KDE).\n",
    "\n",
    "A histogram displays a quantitative (numerical) distribution by showing the number (or percentage) of the data values that fall in specified intervals. The intervals are on the x-axis and the number of values falling in each interval, shown as either a number or percentage, are represented by bars drawn above the corresponding intervals."
   ]
  },
  {
   "cell_type": "code",
   "execution_count": null,
   "id": "a283d3d3",
   "metadata": {},
   "outputs": [],
   "source": [
    "# What was the age distribution among passengers in the Titanic?\n",
    "import seaborn as sns\n",
    "\n",
    "sns.set(color_codes=True)\n",
    "\n",
    "f, ax = plt.subplots(1, 1, figsize=(8, 3))\n",
    "ax = sns.distplot(titanic.age, kde=False, bins=20)\n",
    "\n",
    "ax.set(xlim=(0, 90))\n",
    "ax.set_ylabel(\"counts\")"
   ]
  },
  {
   "cell_type": "code",
   "execution_count": null,
   "id": "90ab6a04",
   "metadata": {},
   "outputs": [],
   "source": [
    "f, ax = plt.subplots(1, 1, figsize=(8, 3))\n",
    "ax.hist(titanic.age, bins=20)\n",
    "ax.set_xlim(0, 90)"
   ]
  },
  {
   "cell_type": "markdown",
   "id": "df80b39d",
   "metadata": {},
   "source": [
    "### <div class=\"exercise\"><b>Exercise (pandas trick): Count all the infants on board (age less than 3) and all the children ages 5-10.</b></div>"
   ]
  },
  {
   "cell_type": "code",
   "execution_count": null,
   "id": "aa32bd33",
   "metadata": {},
   "outputs": [],
   "source": [
    "infants = len(titanic[(titanic.age < 3)])\n",
    "children = len(titanic[(titanic.age >= 3) & (titanic.age < 10)])\n",
    "print(f\"There were {infants} infants and {children} children on board the Titanic\")"
   ]
  },
  {
   "cell_type": "markdown",
   "id": "ac4f0070",
   "metadata": {},
   "source": [
    "**Pandas trick:** We want to creat virtual \"bins\" for readability and replace ranges of values with categories.\n",
    "\n",
    "We will do this in an ad hoc way. **It can be done better**. For example in the previous plot we could set:\n",
    "\n",
    "- `(age<3) = 'infants'`,\n",
    "- `(3<age<18)='children'`,\n",
    "- `(18<values<90)='adults'` <BR>\n",
    "\n",
    "See matplotlib [colors](https://matplotlib.org/3.1.0/tutorials/colors/colormaps.html) here."
   ]
  },
  {
   "cell_type": "code",
   "execution_count": null,
   "id": "a9db7554",
   "metadata": {},
   "outputs": [],
   "source": [
    "# set the colors\n",
    "cmap = plt.get_cmap(\"Pastel1\")\n",
    "young = cmap(0.5)\n",
    "middle = cmap(0.2)\n",
    "older = cmap(0.8)\n",
    "\n",
    "# get the object we will change - patches is an array with len: num of bins\n",
    "fig, ax = plt.subplots()\n",
    "y_values, bins, patches = ax.hist(titanic.age, 10)\n",
    "\n",
    "[patches[i].set_facecolor(young) for i in range(0, 1)]  # bin 0\n",
    "[patches[i].set_facecolor(middle) for i in range(1, 3)]  # bins 1 and 2\n",
    "[patches[i].set_facecolor(older) for i in range(3, 10)]  # 7 remaining bins\n",
    "\n",
    "ax.grid(True)\n",
    "fig.show()"
   ]
  },
  {
   "cell_type": "markdown",
   "id": "01de1b0b",
   "metadata": {},
   "source": [
    "### Kernel Density Estimation <a class=\"anchor\" id=\"section3_2\"></a>\n",
    "The kernel density estimate can be a useful tool for plotting the shape of a distribution. The **bandwidth (bw)** parameter of the KDE controls how tightly the estimation is fit to the data, much like the bin size in a histogram. It corresponds to the width of the kernels we plotted above. The default behavior tries to guess a good value using a common reference rule, but it may be helpful to try larger or smaller values."
   ]
  },
  {
   "cell_type": "code",
   "execution_count": null,
   "id": "5787d5b4",
   "metadata": {},
   "outputs": [],
   "source": [
    "sns.kdeplot(titanic.age, bw=0.6, label=\"bw: 0.6\", fill=True, color=\"r\")\n",
    "sns.kdeplot(titanic.age, bw=2, label=\"bw: 2\", fill=True)"
   ]
  },
  {
   "cell_type": "markdown",
   "id": "4fc262a8",
   "metadata": {},
   "source": [
    "\n",
    "### <div class=\"exercise\"><b>Exercise:  Plot the distribution of fare paid by passengers**</b></div>"
   ]
  },
  {
   "cell_type": "code",
   "execution_count": null,
   "id": "a4833a7d",
   "metadata": {},
   "outputs": [],
   "source": [
    "# your code here\n",
    "sns.kdeplot(titanic.fare, bw=0.5, label=\"bw: 0.5\", fill=True)"
   ]
  },
  {
   "cell_type": "markdown",
   "id": "4516b4e2",
   "metadata": {},
   "source": [
    "#### You can mix elements of `matplotlib` such as Axes with `seaborn` elements for a best use of both worlds."
   ]
  },
  {
   "cell_type": "code",
   "execution_count": null,
   "id": "b2094163",
   "metadata": {},
   "outputs": [],
   "source": [
    "import seaborn as sns\n",
    "\n",
    "sns.set(color_codes=True)\n",
    "\n",
    "x1 = np.random.normal(size=100)\n",
    "x2 = np.random.normal(size=100)\n",
    "\n",
    "fig, ax = plt.subplots(1, 2, figsize=(15, 5))\n",
    "\n",
    "# seaborn goes in first subplot\n",
    "sns.set(font_scale=0.5)\n",
    "sns.distplot(x1, kde=False, bins=15, ax=ax[0])\n",
    "sns.distplot(x2, kde=False, bins=15, ax=ax[0])\n",
    "ax[0].set_title(\"seaborn Graph Here\", fontsize=14)\n",
    "ax[0].set_xlabel(r\"$x$\", fontsize=14)\n",
    "ax[0].set_ylabel(r\"$count$\", fontsize=14)\n",
    "\n",
    "# matplotlib goes in second subplot\n",
    "ax[1].hist(x1, alpha=0.2, bins=15, label=r\"$x1$\")\n",
    "ax[1].hist(x2, alpha=0.5, bins=15, label=r\"$x2$\")\n",
    "ax[1].set_xlabel(r\"$x$\", fontsize=14)\n",
    "ax[1].set_ylabel(r\"$count$\", fontsize=14)\n",
    "ax[1].set_title(\"matplotlib Graph Here\", fontsize=14)\n",
    "ax[1].legend(loc=\"best\", fontsize=14)"
   ]
  },
  {
   "cell_type": "markdown",
   "id": "22d67c66",
   "metadata": {},
   "source": [
    "#### Introduding the heart disease dataset.\n"
   ]
  },
  {
   "cell_type": "code",
   "execution_count": null,
   "id": "9fa2e6e5",
   "metadata": {},
   "outputs": [],
   "source": [
    "columns = [\n",
    "    \"age\",\n",
    "    \"sex\",\n",
    "    \"cp\",\n",
    "    \"restbp\",\n",
    "    \"chol\",\n",
    "    \"fbs\",\n",
    "    \"restecg\",\n",
    "    \"thalach\",\n",
    "    \"exang\",\n",
    "    \"oldpeak\",\n",
    "    \"slope\",\n",
    "    \"ca\",\n",
    "    \"thal\",\n",
    "    \"num\",\n",
    "]\n",
    "heart_df = pd.read_csv(\"data/heart_disease.csv\", header=None, names=columns)\n",
    "\n",
    "heart_df.head()"
   ]
  },
  {
   "cell_type": "markdown",
   "id": "09b0fda6",
   "metadata": {},
   "source": [
    "### Boxplots <a class=\"anchor\" id=\"section3_3\"></a>\n",
    "\n",
    "#### **One variable:**"
   ]
  },
  {
   "cell_type": "code",
   "execution_count": null,
   "id": "53cf29f0",
   "metadata": {},
   "outputs": [],
   "source": [
    "# seaborn\n",
    "ax = sns.boxplot(x=\"age\", data=titanic)\n",
    "# ax = sns.boxplot(x=titanic['age']) # another way to write this\n",
    "ax.set_ylabel(None)\n",
    "ax.set_xlabel(\"age\", fontsize=14)\n",
    "ax.set_title(\"Distribution of age in the Titanic\", fontsize=14)"
   ]
  },
  {
   "cell_type": "markdown",
   "id": "4cde8d91",
   "metadata": {},
   "source": [
    "#### **Two variables:**"
   ]
  },
  {
   "cell_type": "markdown",
   "id": "20b03f2b",
   "metadata": {},
   "source": [
    "#### <div class=\"exercise\"><b> Exercise:  Did more young people or older ones get first class tickets on the Titanic?</b></div>"
   ]
  },
  {
   "cell_type": "code",
   "execution_count": null,
   "id": "5756147c",
   "metadata": {},
   "outputs": [],
   "source": [
    "# two variables seaborn\n",
    "ax = sns.boxplot(x=\"class\", y=\"age\", data=titanic)"
   ]
  },
  {
   "cell_type": "code",
   "execution_count": null,
   "id": "32242c84",
   "metadata": {},
   "outputs": [],
   "source": [
    "# two variable boxplot in pandas\n",
    "titanic.boxplot(\"age\", by=\"class\")"
   ]
  },
  {
   "cell_type": "markdown",
   "id": "57a99ec2",
   "metadata": {},
   "source": [
    "### Scatterplots <a class=\"anchor\" id=\"section3_4\"></a>\n",
    "\n",
    "#### **Plotting the distribution of two variables**\n",
    "\n",
    "Also called a bivariate distribution where each observation is shown with  a point with x and y values. You can draw a scatterplot with the `matplotlib plt.scatter` function, or the `seaborn jointplot()` function:"
   ]
  },
  {
   "cell_type": "code",
   "execution_count": null,
   "id": "ace9bb6e",
   "metadata": {},
   "outputs": [],
   "source": [
    "f, ax = plt.subplots(1, 1, figsize=(10, 5))\n",
    "sns.scatterplot(x=\"fare\", y=\"age\", data=titanic, ax=ax)"
   ]
  },
  {
   "cell_type": "code",
   "execution_count": null,
   "id": "c39eddda",
   "metadata": {},
   "outputs": [],
   "source": [
    "sns.jointplot(x = \"fare\", y =  \"age\", data=titanic, s=40, edgecolor=\"w\", linewidth=1)"
   ]
  },
  {
   "cell_type": "markdown",
   "id": "d6299ecb",
   "metadata": {},
   "source": [
    "You may control the `seaborn` [Figure aesthetics](https://seaborn.pydata.org/tutorial/aesthetics.html)."
   ]
  },
  {
   "cell_type": "code",
   "execution_count": null,
   "id": "8afda08d",
   "metadata": {},
   "outputs": [],
   "source": [
    "# matplotlib\n",
    "fig, ax = plt.subplots(1, 1, figsize=(10, 6))\n",
    "ax.scatter(heart_df[\"age\"], heart_df[\"restbp\"], alpha=0.8)\n",
    "ax.set_xlabel(r\"$Age (yrs)$\", fontsize=15)\n",
    "ax.set_ylabel(r\"Resting Blood Pressure (mmHg)\", fontsize=15)\n",
    "ax.set_title(\"Age vs. Resting Blood Pressure\", fontsize=14)\n",
    "plt.show()"
   ]
  },
  {
   "cell_type": "markdown",
   "id": "704d2a75",
   "metadata": {},
   "source": [
    "#### **Plotting the distribution of three variables**"
   ]
  },
  {
   "cell_type": "code",
   "execution_count": null,
   "id": "69cffe7d",
   "metadata": {},
   "outputs": [],
   "source": [
    "f, ax = plt.subplots(1, 1, figsize=(10, 5))\n",
    "sns.scatterplot(x=\"fare\", y=\"age\", hue=\"survived\", data=titanic, ax=ax)"
   ]
  },
  {
   "cell_type": "markdown",
   "id": "4d095377",
   "metadata": {},
   "source": [
    "#### Plotting the distribution of four variables (going too far?)"
   ]
  },
  {
   "cell_type": "markdown",
   "id": "0d02825a",
   "metadata": {},
   "source": [
    "#### <div class=\"exercise\"><b>Exercise: Plot the distribution of fare paid by passengers according to age, survival and sex.</b></div>\n",
    "\n",
    "Use `size=` for the fourth variable"
   ]
  },
  {
   "cell_type": "code",
   "execution_count": null,
   "id": "8fe86668",
   "metadata": {},
   "outputs": [],
   "source": [
    "f, ax = plt.subplots(1, 1, figsize=(10, 5))\n",
    "sns.scatterplot(x=\"fare\", y=\"age\", hue=\"survived\", size=\"sex\", data=titanic, ax=ax)"
   ]
  },
  {
   "cell_type": "markdown",
   "id": "a52f3838",
   "metadata": {},
   "source": [
    "### Pairplots <a class=\"anchor\" id=\"section3_5\"></a>"
   ]
  },
  {
   "cell_type": "code",
   "execution_count": null,
   "id": "ac7a6c40",
   "metadata": {},
   "outputs": [],
   "source": [
    "titanic.columns"
   ]
  },
  {
   "cell_type": "code",
   "execution_count": null,
   "id": "bb2b817d",
   "metadata": {},
   "outputs": [],
   "source": [
    "to_plot = [\"age\", \"fare\", \"survived\", \"deck\"]"
   ]
  },
  {
   "cell_type": "code",
   "execution_count": null,
   "id": "352aa3a7",
   "metadata": {},
   "outputs": [],
   "source": [
    "df_to_plot = titanic.loc[:, to_plot]\n",
    "sns.pairplot(df_to_plot)"
   ]
  },
  {
   "cell_type": "code",
   "execution_count": null,
   "id": "eb9ad9c5",
   "metadata": {},
   "outputs": [],
   "source": [
    "from pandas.plotting import scatter_matrix\n",
    "\n",
    "scatter_matrix(df_to_plot, alpha=0.8, figsize=(10, 10), diagonal=\"kde\")"
   ]
  },
  {
   "cell_type": "markdown",
   "id": "7bab0531",
   "metadata": {},
   "source": [
    "### Plotting Categorical Variables <a class=\"anchor\" id=\"section3_6\"></a>"
   ]
  },
  {
   "cell_type": "code",
   "execution_count": null,
   "id": "00a726c1",
   "metadata": {},
   "outputs": [],
   "source": [
    "titanic = sns.load_dataset(\"titanic\")\n",
    "f, ax = plt.subplots(figsize=(7, 3))\n",
    "ax = sns.countplot(y=\"deck\", data=titanic, color=\"c\")\n",
    "ax.set_title(\"Titanic\")"
   ]
  },
  {
   "cell_type": "code",
   "execution_count": null,
   "id": "1fc9dc3f",
   "metadata": {},
   "outputs": [],
   "source": [
    "ax = sns.countplot(x=\"class\", data=titanic)\n",
    "ax.set_title(\"Titanic\")"
   ]
  },
  {
   "cell_type": "code",
   "execution_count": null,
   "id": "3b2e1f8c",
   "metadata": {},
   "outputs": [],
   "source": [
    "fig, ax = plt.subplots(figsize=(10, 6))  # Create figure object\n",
    "sns.set_context(\"notebook\", font_scale=1, rc={\"lines.linewidth\": 2.5})\n",
    "ax = sns.countplot(x=\"deck\", data=titanic)"
   ]
  },
  {
   "cell_type": "code",
   "execution_count": null,
   "id": "9555bcb6",
   "metadata": {},
   "outputs": [],
   "source": [
    "sns.set(style=\"ticks\", palette=\"muted\")\n",
    "sns.relplot(x=\"age\", y=\"deck\", col=\"class\", data=titanic)"
   ]
  },
  {
   "cell_type": "code",
   "execution_count": null,
   "id": "e58abd8b",
   "metadata": {},
   "outputs": [],
   "source": [
    "sns.set_context(\"notebook\", font_scale=1.5, rc={\"lines.linewidth\": 2.5})\n",
    "sns.pairplot(\n",
    "    data=titanic,\n",
    "    hue=\"deck\",\n",
    "    vars=[\"survived\", \"pclass\", \"age\", \"sibsp\", \"parch\", \"fare\"],\n",
    ")"
   ]
  },
  {
   "cell_type": "markdown",
   "id": "65fbbd46",
   "metadata": {},
   "source": [
    "## Introduction to `pandas` plotting. <a class=\"anchor\" id=\"chapter4\"></a>\n",
    "\n",
    "There is plotting functionality built in `pandas`. Look for it in the `pandas` \"encyclopedia\", a mere 2883-page pdf from the creator Wes McKinney: [pandas documentation (pdf)](https://pandas.pydata.org/pandas-docs/stable/pandas.pdf)\n",
    "\n",
    "**Example:** The `value_counts()` Series method and top-level function computes a histogram of a 1D array of values. It can\n",
    "also be used as a function on regular arrays.\n",
    "\n",
    "Reminder: DataFrame: “index” (axis=0, default), “columns” (axis=1)"
   ]
  },
  {
   "cell_type": "markdown",
   "id": "a4c94ca4",
   "metadata": {},
   "source": [
    "### Line Graph <a class=\"anchor\" id=\"section4_1\"></a>\n",
    "\n",
    "**Good for time dependency or when a variable evolves**"
   ]
  },
  {
   "cell_type": "code",
   "execution_count": null,
   "id": "207033c7",
   "metadata": {},
   "outputs": [],
   "source": [
    "df = pd.DataFrame(np.random.randn(1000, 4), columns=[\"A\", \"B\", \"C\", \"D\"])\n",
    "df.head()"
   ]
  },
  {
   "cell_type": "code",
   "execution_count": null,
   "id": "92e47299",
   "metadata": {},
   "outputs": [],
   "source": [
    "# cumulative sum adds column values as it goes\n",
    "df = df.cumsum()\n",
    "df.head()"
   ]
  },
  {
   "cell_type": "code",
   "execution_count": null,
   "id": "eeb2f4f9",
   "metadata": {},
   "outputs": [],
   "source": [
    "plt.figure()\n",
    "df.plot()\n",
    "plt.legend(loc=\"best\")"
   ]
  },
  {
   "cell_type": "code",
   "execution_count": null,
   "id": "5bc88c7c",
   "metadata": {},
   "outputs": [],
   "source": [
    "ts = pd.Series(np.random.randn(1000), index=pd.date_range(\"1/1/2000\", periods=1000))\n",
    "df = pd.DataFrame(np.random.randn(1000, 4), index=ts.index, columns=list(\"ABCD\"))\n",
    "\n",
    "df = df.cumsum()\n",
    "plt.figure()\n",
    "df.plot()"
   ]
  },
  {
   "cell_type": "markdown",
   "id": "57c0ba01",
   "metadata": {},
   "source": [
    "Plotting methods allow for a handful of plot styles other than the default line plot. These methods can be provided as the kind keyword argument to plot(), and include:\n",
    "\n",
    "- ‘bar’ or ‘barh’ for bar plots\n",
    "- ‘hist’ for histogram\n",
    "- ‘box’ for boxplot\n",
    "- ‘kde’ or ‘density’ for density plots\n",
    "- ‘area’ for area plots\n",
    "- ‘scatter’ for scatter plots\n",
    "- ‘hexbin’ for hexagonal bin plots\n",
    "- ‘pie’ for pie plots\n",
    "\n",
    "In addition to these kind s, there are the `DataFrame.hist()`, and `DataFrame.boxplot()` methods, which use a separate interface. `scatter_matrix` in pandas.plotting takes a Series or DataFrame as an argument."
   ]
  },
  {
   "cell_type": "markdown",
   "id": "4ff671ae",
   "metadata": {},
   "source": [
    "### Bar Plots <a class=\"anchor\" id=\"section4_2\"></a>"
   ]
  },
  {
   "cell_type": "code",
   "execution_count": null,
   "id": "6213894f",
   "metadata": {},
   "outputs": [],
   "source": [
    "plt.figure()\n",
    "df.iloc[0].plot(kind=\"bar\")"
   ]
  },
  {
   "cell_type": "code",
   "execution_count": null,
   "id": "cbbcfc92",
   "metadata": {},
   "outputs": [],
   "source": [
    "df2 = pd.DataFrame(np.random.rand(10, 4), columns=[\"a\", \"b\", \"c\", \"d\"])\n",
    "df2"
   ]
  },
  {
   "cell_type": "code",
   "execution_count": null,
   "id": "cc6fdb0b",
   "metadata": {},
   "outputs": [],
   "source": [
    "df2.plot.bar()"
   ]
  },
  {
   "cell_type": "code",
   "execution_count": null,
   "id": "961f6c51",
   "metadata": {},
   "outputs": [],
   "source": [
    "# horizontal bar plot\n",
    "df2.plot.barh(stacked=True)\n",
    "# Try stacked= False as well."
   ]
  },
  {
   "cell_type": "markdown",
   "id": "99860552",
   "metadata": {},
   "source": [
    "### Histograms <a class=\"anchor\" id=\"section4_3\"></a>"
   ]
  },
  {
   "cell_type": "code",
   "execution_count": null,
   "id": "19d0cc2e",
   "metadata": {},
   "outputs": [],
   "source": [
    "df4 = pd.DataFrame(\n",
    "    {\n",
    "        \"a\": np.random.randn(1000) + 1,\n",
    "        \"b\": np.random.randn(1000),\n",
    "        \"c\": np.random.randn(1000) - 1,\n",
    "    },\n",
    "    columns=[\"a\", \"b\", \"c\"],\n",
    ")\n",
    "\n",
    "plt.figure()\n",
    "df4.plot.hist(alpha=0.5, stacked=False, bins=60)"
   ]
  },
  {
   "cell_type": "markdown",
   "id": "88a9922b",
   "metadata": {},
   "source": [
    "### Boxplots <a class=\"anchor\" id=\"section4_4\"></a>"
   ]
  },
  {
   "cell_type": "code",
   "execution_count": null,
   "id": "e3a21e4d",
   "metadata": {},
   "outputs": [],
   "source": [
    "color = {\n",
    "    \"boxes\": \"DarkGreen\",\n",
    "    \"whiskers\": \"DarkOrange\",\n",
    "    \"medians\": \"DarkBlue\",\n",
    "    \"caps\": \"Gray\",\n",
    "}\n",
    "\n",
    "df = pd.DataFrame(np.random.rand(10, 5), columns=[\"A\", \"B\", \"C\", \"D\", \"E\"])\n",
    "df.plot.box(color=color)"
   ]
  },
  {
   "cell_type": "markdown",
   "id": "556cb0db",
   "metadata": {},
   "source": [
    "### Area plots <a class=\"anchor\" id=\"section4_5\"></a>\n",
    "\n",
    "You can create area plots with `Series.plot.area()` and `DataFrame.plot.area()`. Area plots are stacked\n",
    "by default. To produce stacked area plot, each column must be either all positive or all negative values."
   ]
  },
  {
   "cell_type": "code",
   "execution_count": null,
   "id": "3f3bde7c",
   "metadata": {},
   "outputs": [],
   "source": [
    "df = pd.DataFrame(np.random.rand(10, 4), columns=[\"a\", \"b\", \"c\", \"d\"])\n",
    "df.plot.area(stacked=True)"
   ]
  },
  {
   "cell_type": "code",
   "execution_count": null,
   "id": "56a58586",
   "metadata": {},
   "outputs": [],
   "source": [
    "df.plot.area(stacked=False)"
   ]
  },
  {
   "cell_type": "markdown",
   "id": "5f14039c",
   "metadata": {},
   "source": [
    "### Scatterplot <a class=\"anchor\" id=\"section4_6\"></a>\n",
    "\n",
    "Scatter plot can be drawn by using the DataFrame.plot.scatter() method. Scatter plot requires numeric\n",
    "columns for the x and y axes. These can be specified by the x and y keywords."
   ]
  },
  {
   "cell_type": "code",
   "execution_count": null,
   "id": "101355d9",
   "metadata": {},
   "outputs": [],
   "source": [
    "ax = df.plot.scatter(x=\"a\", y=\"b\", color=\"DarkBlue\", label=\"Group 1\")\n",
    "df.plot.scatter(x=\"c\", y=\"d\", color=\"DarkGreen\", label=\"Group 2\", ax=ax)"
   ]
  },
  {
   "cell_type": "markdown",
   "id": "93928d79",
   "metadata": {},
   "source": [
    "### `pandas` Tricks\n",
    "\n",
    "The copy() method on pandas objects copies the underlying data (though not the axis indexes, since they are immutable)\n",
    "and returns a new object. Note that it is seldom necessary to copy objects. For example, there are only a\n",
    "handful of ways to alter a DataFrame in-place:\n",
    "\n",
    "- Inserting, deleting, or modifying a column.\n",
    "- Assigning to the index or columns attributes.\n",
    "- For homogeneous data, directly modifying the values via the values attribute or advanced indexing.\n",
    "\n",
    "To be clear, no pandas method has the side effect of modifying your data; almost every method returns a new object,\n",
    "leaving the original object untouched. If the data is modified, it is because you did so explicitly"
   ]
  },
  {
   "cell_type": "markdown",
   "id": "eac2fe85",
   "metadata": {},
   "source": [
    "\n",
    "## <div class=\"exercise\"><b>Exercise: 1/2 hour in the Life of a Cardiologist <a class=\"anchor\" id=\"chapter5\"></a></b></div>\n",
    "\n",
    "Visualize and explore the data. Use `.describe()` to look at your data and also examine if you have any missing values. <BR>\n",
    "What is the actual number of feature variables after converting categorical variables to dummy ones?<BR><BR>\n",
    "**List of available variables (includes target variable `num`):**\n",
    "\n",
    "- **age**: continuous\n",
    "- **sex**: categorical, 2 values {0: female, 1: male}\n",
    "- **cp** (chest pain type): categorical, 4 values\n",
    "    {1: typical angina, 2: atypical angina, 3: non-angina, 4: asymptomatic angina}\n",
    "- **restbp** (resting blood pressure on admission to hospital): continuous (mmHg)\n",
    "- **chol (serum cholesterol level)**: continuous (mg/dl)\n",
    "- **fbs** (fasting blood sugar): categorical, 2 values {0: <= 120 mg/dl, 1: > 120 mg/dl}\n",
    "- **restecg** (resting electrocardiography): categorical, 3 values\n",
    "    {0: normal, 1: ST-T wave abnormality, 2: left ventricular hypertrophy}\n",
    "- **thalach** (maximum heart rate achieved): continuous\n",
    "- **exang** (exercise induced angina): categorical, 2 values {0: no, 1: yes}\n",
    "- **oldpeak** (ST depression induced by exercise relative to rest): continuous\n",
    "- **slope** (slope of peak exercise ST segment): categorical, 3 values\n",
    "    {1: upsloping, 2: flat, 3: downsloping}\n",
    "- **ca** (number of major vessels colored by fluoroscopy): discrete (0,1,2,3)\n",
    "- **thal**: categorical, 3 values {3: normal, 6: fixed defect, 7: reversible defect}\n",
    "- **num** (diagnosis of heart disease): categorical, 5 values\n",
    "    {0: less than 50% narrowing in any major vessel,\n",
    "    1-4: more than 50% narrowing in 1-4 vessels}"
   ]
  },
  {
   "cell_type": "code",
   "execution_count": null,
   "id": "fa493ec7",
   "metadata": {},
   "outputs": [],
   "source": [
    "# load the dataset\n",
    "heart_df = pd.read_csv(\"data/heart_disease.csv\", header=None, names=columns)\n",
    "heart_df.head()"
   ]
  },
  {
   "cell_type": "markdown",
   "id": "092fd53f",
   "metadata": {},
   "source": [
    "**We will answer the following question using plots**\n",
    "\n",
    "01. At what ages do people seek cardiological exams?\n",
    "02. Do men seek help more than women?\n",
    "03. Examine the variables. How do they relate to one another?\n",
    "04. (Variation on 02): What % of men and women seek cardio exams?\n",
    "05. Does resting blood pressure increase with age?"
   ]
  },
  {
   "cell_type": "markdown",
   "id": "9f018cf8",
   "metadata": {},
   "source": [
    "**Pandas trick: `.replace`** The response variable (num) is categorical with 5 values, but we don't have enough data to predict all the categories. <BR> Therefore we'll replace `num` with `hd` (heart disease): **categorical, 2 values {0: no, 1: yes}**. <BR>\n",
    "Use the code below (take a minute to understand how it works, it's very useful!):"
   ]
  },
  {
   "cell_type": "code",
   "execution_count": null,
   "id": "653ef57c",
   "metadata": {},
   "outputs": [],
   "source": [
    "# Replace response variable values with a binary response (1: heart disease(hd) or 0: not)\n",
    "heart_df[\"num\"].replace(to_replace=[1, 2, 3, 4], value=1, inplace=True)\n",
    "\n",
    "# Rename column for clarity\n",
    "heart_df = heart_df.rename(columns={\"num\": \"hd\"})\n",
    "heart_df.head()"
   ]
  },
  {
   "cell_type": "code",
   "execution_count": null,
   "id": "aa60ef95",
   "metadata": {},
   "outputs": [],
   "source": [
    "# look at the features\n",
    "heart_df.info()"
   ]
  },
  {
   "cell_type": "code",
   "execution_count": null,
   "id": "8af33093",
   "metadata": {},
   "outputs": [],
   "source": [
    "heart_df.describe()"
   ]
  },
  {
   "cell_type": "markdown",
   "id": "e0fd145c",
   "metadata": {
    "lines_to_next_cell": 2
   },
   "source": [
    "your code here\n",
    "01. what ages do people seek cardiological exams?"
   ]
  },
  {
   "cell_type": "code",
   "execution_count": null,
   "id": "552e9feb",
   "metadata": {
    "lines_to_next_cell": 2
   },
   "outputs": [],
   "source": [
    "# your code here\n",
    "# 02. do men seek help more than women?\n",
    "\n",
    "# %load solutions/q02.py"
   ]
  },
  {
   "cell_type": "code",
   "execution_count": null,
   "id": "038afe9e",
   "metadata": {
    "lines_to_next_cell": 2
   },
   "outputs": [],
   "source": [
    "# your code here\n",
    "# 03. Examine the variables. How do they relate to one another?\n",
    "\n",
    "# %load solutions/q03.py"
   ]
  },
  {
   "cell_type": "code",
   "execution_count": null,
   "id": "8ab22895",
   "metadata": {
    "lines_to_next_cell": 2
   },
   "outputs": [],
   "source": [
    "# your code here\n",
    "# 04. What percentage of men and women seek cardio exams?\n",
    "\n",
    "# %load solutions/q04.py"
   ]
  },
  {
   "cell_type": "code",
   "execution_count": null,
   "id": "7b6b4d42",
   "metadata": {
    "lines_to_next_cell": 2
   },
   "outputs": [],
   "source": [
    "# your code here\n",
    "# 05. Does resting blood pressure increase with age?\n",
    "\n",
    "# %load solutions/q05.py"
   ]
  },
  {
   "cell_type": "markdown",
   "id": "42f1e32a",
   "metadata": {},
   "source": [
    "### <div class=\"exercise\"><b>Exercise: Find the hidden pattern</b></div>\n",
    "\n",
    "Read the following file into a `pandas` Dataframe: 'data/mystery.csv' and plot it.  How does it look? You should see a beautiful pattern. If not, think of ways to fix the issue."
   ]
  },
  {
   "cell_type": "code",
   "execution_count": null,
   "id": "48c4214c",
   "metadata": {},
   "outputs": [],
   "source": [
    "mystery = pd.read_csv(\"data/mystery.csv\", sep=\" \", header=None)\n",
    "mystery.head()"
   ]
  },
  {
   "cell_type": "markdown",
   "id": "1dcbc51a",
   "metadata": {},
   "source": [
    "your code here"
   ]
  }
 ],
 "metadata": {
  "kernelspec": {
   "display_name": "Python 3 (ipykernel)",
   "language": "python",
   "name": "python3"
  }
 },
 "nbformat": 4,
 "nbformat_minor": 5
}
