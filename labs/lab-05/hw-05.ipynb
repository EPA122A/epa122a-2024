{
 "cells": [
  {
   "cell_type": "markdown",
   "id": "bb15b05c",
   "metadata": {},
   "source": [
    "#  EPA-122A *Spatial* Data Science\n",
    "\n",
    "\n",
    "## Homework 5: Plotting, Simple Linear Regression, K-NN Regression\n",
    "\n",
    "**TU Delft**<br>\n",
    "**Q2 2024**<br>\n",
    "**Instructors:** Giacomo Marangoni, Theodoros Chatzivasileiadis <br>\n",
    "---\n"
   ]
  },
  {
   "cell_type": "markdown",
   "id": "ac33bf1d",
   "metadata": {},
   "source": [
    "## Exercise 1\n",
    "\n",
    "Do the following:\n",
    "* Make a figure with the logistic function, hyperbolic tangent, and rectified linear unit. (see thelab for reference on what these are)\n",
    "* Use different line styles for each plot\n",
    "* Put a legend on your figure\n",
    "\n",
    "Here's an example of a figure:\n",
    "![](figs/nice_plots.png)"
   ]
  },
  {
   "cell_type": "markdown",
   "id": "e68ec78d",
   "metadata": {
    "lines_to_next_cell": 2
   },
   "source": [
    "your code here\n",
    "don't forget to import the libraries you need"
   ]
  },
  {
   "cell_type": "markdown",
   "id": "60fd97a4",
   "metadata": {
    "lines_to_next_cell": 2
   },
   "source": [
    "%load hw-solutions/exercise1.py"
   ]
  },
  {
   "cell_type": "markdown",
   "id": "8fbf6f76",
   "metadata": {},
   "source": [
    "## Exercise 2\n",
    "\n",
    "These figures look nice in the plot and it makes sense for comparison. Now let's put the 3 different figures in separate plots.\n",
    "\n",
    "* Make a separate plot for each figure and line them up on the same row."
   ]
  },
  {
   "cell_type": "markdown",
   "id": "736fa23d",
   "metadata": {
    "lines_to_next_cell": 2
   },
   "source": [
    "your code here"
   ]
  },
  {
   "cell_type": "markdown",
   "id": "8a44640d",
   "metadata": {
    "lines_to_next_cell": 2
   },
   "source": [
    "%load hw-solutions/exercise2.py"
   ]
  },
  {
   "cell_type": "markdown",
   "id": "5b2394ab",
   "metadata": {},
   "source": [
    "## Exercise 3\n",
    "\n",
    "* Make a grid of 2 x 3 separate plots, 3 will be empty. Just plot the functions and do not worry about cosmetics. We just want you ro see the functionality."
   ]
  },
  {
   "cell_type": "markdown",
   "id": "116b9860",
   "metadata": {
    "lines_to_next_cell": 2
   },
   "source": [
    "your code here"
   ]
  },
  {
   "cell_type": "markdown",
   "id": "f5cf6e6f",
   "metadata": {
    "lines_to_next_cell": 2
   },
   "source": [
    "%load hw-solutions/exercise3.py"
   ]
  },
  {
   "cell_type": "markdown",
   "id": "cc60ed0d",
   "metadata": {},
   "source": [
    "## Exercise 4"
   ]
  },
  {
   "cell_type": "markdown",
   "id": "ef3a91e4",
   "metadata": {},
   "source": [
    "* Make two numpy arrays, called x_train and y_train, out of this data: x = [1, 2, 3], y = [2, 2, 4]\n",
    "* Check the dimentions of these arrays\n",
    "* Try to reshape them into a different shape (2D arrays)\n",
    "* Make points into a very simple scatterplot\n",
    "* Make a better scatterplot (always remember our plots commandments)"
   ]
  },
  {
   "cell_type": "markdown",
   "id": "9e604013",
   "metadata": {
    "lines_to_next_cell": 2
   },
   "source": [
    "your code here"
   ]
  },
  {
   "cell_type": "markdown",
   "id": "ba6dd1db",
   "metadata": {
    "lines_to_next_cell": 2
   },
   "source": [
    "%load hw-solutions/exercise4.py"
   ]
  },
  {
   "cell_type": "markdown",
   "id": "5728788a",
   "metadata": {},
   "source": [
    "## Exercise 5: Simple linear regression with automobile data\n",
    "\n",
    "We will now use `sklearn` to predict automobile mileage per gallon (mpg) and evaluate these predictions."
   ]
  },
  {
   "cell_type": "markdown",
   "id": "5b57d16e",
   "metadata": {},
   "source": [
    "We need to choose the variables that we think will be good predictors for the dependent variable `mpg`."
   ]
  },
  {
   "cell_type": "markdown",
   "id": "f0164930",
   "metadata": {},
   "source": [
    "<div class=\"exercise\"><b>Exercise 5.1</b></div>\n",
    "\n",
    "* Load the data `mtcars` and split them into a training set and a test set.\n",
    "* Pick one variable to use as a predictor for simple linear regression. Discuss your reasons with a friend or group member if you like.\n",
    "* Use markdown to justify your choice with some visualisations.\n",
    "* Is there a second variable you'd like to use? For example, we're not doing multiple linear regression here, but if we were, is there another variable you'd like to include if we were using two predictors?"
   ]
  },
  {
   "cell_type": "markdown",
   "id": "ae87fd44",
   "metadata": {},
   "source": [
    "**IMPORTANT:** Remember that your response variable `y_train` can be a vector but your predictor variable `x_train` ***MUST*** be an array!"
   ]
  },
  {
   "cell_type": "markdown",
   "id": "6658f803",
   "metadata": {
    "lines_to_next_cell": 2
   },
   "source": [
    "%load hw-solutions/exercise5.1.py"
   ]
  },
  {
   "cell_type": "markdown",
   "id": "e042686c",
   "metadata": {},
   "source": [
    "<div class=\"exercise\"><b>Exercise 5.2</b></div>\n",
    "\n",
    "For data used in exercise 4.1,\n",
    "\n",
    "* Use `sklearn` to fit the training data using simple linear regression.\n",
    "* Use the model to make mpg predictions on the test set.\n",
    "* Plot the data and the prediction.\n",
    "* Print out the mean squared error for the training set and the test set and compare."
   ]
  },
  {
   "cell_type": "markdown",
   "id": "09f4f5bf",
   "metadata": {},
   "source": [
    "%load hw-solutions/exercise5.2.py"
   ]
  }
 ],
 "metadata": {
  "kernelspec": {
   "display_name": "Python 3 (ipykernel)",
   "language": "python",
   "name": "python3"
  }
 },
 "nbformat": 4,
 "nbformat_minor": 5
}
